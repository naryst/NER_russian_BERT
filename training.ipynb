{
  "cells": [
    {
      "cell_type": "markdown",
      "metadata": {
        "id": "view-in-github",
        "colab_type": "text"
      },
      "source": [
        "<a href=\"https://colab.research.google.com/github/naryst/NER_russian_BERT/blob/master/training.ipynb\" target=\"_parent\"><img src=\"https://colab.research.google.com/assets/colab-badge.svg\" alt=\"Open In Colab\"/></a>"
      ]
    },
    {
      "cell_type": "code",
      "source": [],
      "metadata": {
        "id": "043e6vCm1F9M"
      },
      "execution_count": null,
      "outputs": []
    },
    {
      "cell_type": "code",
      "source": [
        "from google.colab import drive\n",
        "drive.mount('/content/drive')"
      ],
      "metadata": {
        "colab": {
          "base_uri": "https://localhost:8080/"
        },
        "id": "m4HaZaIu20do",
        "outputId": "0e9237e2-1734-4d10-e185-a1cd5b580769"
      },
      "execution_count": 1,
      "outputs": [
        {
          "output_type": "stream",
          "name": "stdout",
          "text": [
            "Drive already mounted at /content/drive; to attempt to forcibly remount, call drive.mount(\"/content/drive\", force_remount=True).\n"
          ]
        }
      ]
    },
    {
      "cell_type": "code",
      "source": [
        "# !cp /content/drive/MyDrive/data.zip /content"
      ],
      "metadata": {
        "id": "ZASZNZUW5GCu"
      },
      "execution_count": 2,
      "outputs": []
    },
    {
      "cell_type": "code",
      "source": [
        "# !unzip data.zip"
      ],
      "metadata": {
        "id": "ltDTG5sc5mT3"
      },
      "execution_count": 3,
      "outputs": []
    },
    {
      "cell_type": "code",
      "source": [
        "!pip install transformers"
      ],
      "metadata": {
        "colab": {
          "base_uri": "https://localhost:8080/"
        },
        "id": "ROp5DdP94rfD",
        "outputId": "86554f37-9b96-4aff-f546-b4f8046d3ad2"
      },
      "execution_count": 4,
      "outputs": [
        {
          "output_type": "stream",
          "name": "stdout",
          "text": [
            "Looking in indexes: https://pypi.org/simple, https://us-python.pkg.dev/colab-wheels/public/simple/\n",
            "Requirement already satisfied: transformers in /usr/local/lib/python3.9/dist-packages (4.27.4)\n",
            "Requirement already satisfied: pyyaml>=5.1 in /usr/local/lib/python3.9/dist-packages (from transformers) (6.0)\n",
            "Requirement already satisfied: tokenizers!=0.11.3,<0.14,>=0.11.1 in /usr/local/lib/python3.9/dist-packages (from transformers) (0.13.3)\n",
            "Requirement already satisfied: tqdm>=4.27 in /usr/local/lib/python3.9/dist-packages (from transformers) (4.65.0)\n",
            "Requirement already satisfied: regex!=2019.12.17 in /usr/local/lib/python3.9/dist-packages (from transformers) (2022.10.31)\n",
            "Requirement already satisfied: packaging>=20.0 in /usr/local/lib/python3.9/dist-packages (from transformers) (23.0)\n",
            "Requirement already satisfied: filelock in /usr/local/lib/python3.9/dist-packages (from transformers) (3.10.7)\n",
            "Requirement already satisfied: numpy>=1.17 in /usr/local/lib/python3.9/dist-packages (from transformers) (1.22.4)\n",
            "Requirement already satisfied: huggingface-hub<1.0,>=0.11.0 in /usr/local/lib/python3.9/dist-packages (from transformers) (0.13.4)\n",
            "Requirement already satisfied: requests in /usr/local/lib/python3.9/dist-packages (from transformers) (2.27.1)\n",
            "Requirement already satisfied: typing-extensions>=3.7.4.3 in /usr/local/lib/python3.9/dist-packages (from huggingface-hub<1.0,>=0.11.0->transformers) (4.5.0)\n",
            "Requirement already satisfied: charset-normalizer~=2.0.0 in /usr/local/lib/python3.9/dist-packages (from requests->transformers) (2.0.12)\n",
            "Requirement already satisfied: urllib3<1.27,>=1.21.1 in /usr/local/lib/python3.9/dist-packages (from requests->transformers) (1.26.15)\n",
            "Requirement already satisfied: idna<4,>=2.5 in /usr/local/lib/python3.9/dist-packages (from requests->transformers) (3.4)\n",
            "Requirement already satisfied: certifi>=2017.4.17 in /usr/local/lib/python3.9/dist-packages (from requests->transformers) (2022.12.7)\n"
          ]
        }
      ]
    },
    {
      "cell_type": "code",
      "execution_count": 5,
      "outputs": [],
      "source": [
        "import os\n",
        "import numpy as np\n",
        "import pandas as pd\n",
        "from transformers import AutoTokenizer, AutoModelForTokenClassification\n",
        "import torch\n",
        "import torch.nn\n",
        "from torch.utils.data import Dataset, DataLoader\n",
        "import torch.optim\n",
        "from tqdm import tqdm\n",
        "import torch.nn.functional as F"
      ],
      "metadata": {
        "ExecuteTime": {
          "start_time": "2023-04-08T23:32:17.104189Z",
          "end_time": "2023-04-08T23:32:20.638403Z"
        },
        "id": "2dL8xO4szeid"
      }
    },
    {
      "cell_type": "code",
      "execution_count": 6,
      "outputs": [],
      "source": [
        "ROOT_DIR = \"train_data/\"\n",
        "texts50 = ROOT_DIR + \"50texts_tacred/\"\n",
        "cll3 = ROOT_DIR + \"coll3_tacred/\"\n",
        "legal = ROOT_DIR + \"legal/\"\n",
        "tacred2 = ROOT_DIR + \"tacred2/\"\n",
        "tacred3 = ROOT_DIR + \"tacred3/\""
      ],
      "metadata": {
        "ExecuteTime": {
          "start_time": "2023-04-08T23:32:20.640208Z",
          "end_time": "2023-04-08T23:32:20.643848Z"
        },
        "id": "kalyOhTgzeih"
      }
    },
    {
      "cell_type": "code",
      "execution_count": 7,
      "outputs": [],
      "source": [
        "def create_dataframe(dir):\n",
        "    df = pd.DataFrame(columns=[\"fName\", \"text\", \"entities\"])\n",
        "    df = df.set_index(\"fName\")\n",
        "    files = os.listdir(dir)\n",
        "    for name in files:\n",
        "        fname, ext = name.split(\".\")\n",
        "        with open(dir + name) as f:\n",
        "            text = f.read()\n",
        "        if ext == \"txt\":\n",
        "            ann_fname = files[files.index(fname + \".ann\")]\n",
        "            with open(dir + ann_fname) as f_ann:\n",
        "                entities = f_ann.readlines()\n",
        "            new_entities = []\n",
        "            for i in range(len(entities)):\n",
        "                entity_type = entities[i][0]\n",
        "                entities[i] = entities[i][:-1]\n",
        "                if entity_type == \"T\":\n",
        "                    entities[i] = entities[i].split(\"\\t\")\n",
        "                    entities[i] = entities[i][1:]\n",
        "                    src = entities[i][1]\n",
        "                    entities[i] = entities[i][0].split()\n",
        "                    entities[i].append(src)\n",
        "                    assert len(entities[i]) <= 5\n",
        "                    if len(entities[i]) == 5:\n",
        "                        begin = entities[i][1]\n",
        "                        inter1, inter2 = entities[i][2].split(\";\")\n",
        "                        end = entities[i][3]\n",
        "                        new_entities.append(\n",
        "                            [entities[i][0], begin, inter1, entities[i][4]]\n",
        "                        )\n",
        "                        new_entities.append(\n",
        "                            [entities[i][0], inter2, end, entities[i][4]]\n",
        "                        )\n",
        "                    else:\n",
        "                        new_entities.append(entities[i])\n",
        "            df.loc[fname] = [text, new_entities]\n",
        "    return df"
      ],
      "metadata": {
        "ExecuteTime": {
          "start_time": "2023-04-08T23:32:20.646689Z",
          "end_time": "2023-04-08T23:32:20.650168Z"
        },
        "id": "UlS-SEorzeij"
      }
    },
    {
      "cell_type": "code",
      "execution_count": 8,
      "outputs": [],
      "source": [
        "df1 = create_dataframe(texts50)\n",
        "df2 = create_dataframe(cll3)\n",
        "df3 = create_dataframe(legal)\n",
        "df4 = create_dataframe(tacred2)\n",
        "df5 = create_dataframe(tacred3)"
      ],
      "metadata": {
        "ExecuteTime": {
          "start_time": "2023-04-08T23:32:20.652573Z",
          "end_time": "2023-04-08T23:32:21.930255Z"
        },
        "id": "Y5dP52Fazeim"
      }
    },
    {
      "cell_type": "code",
      "execution_count": 9,
      "outputs": [
        {
          "output_type": "execute_result",
          "data": {
            "text/plain": [
              "841"
            ]
          },
          "metadata": {},
          "execution_count": 9
        }
      ],
      "source": [
        "df1.shape[0] + df2.shape[0] + df3.shape[0] + df4.shape[0] + df5.shape[0]"
      ],
      "metadata": {
        "ExecuteTime": {
          "start_time": "2023-04-08T23:32:21.935133Z",
          "end_time": "2023-04-08T23:32:21.942963Z"
        },
        "id": "Oo5nCp4izeio",
        "outputId": "37c2859f-7cfd-4f2e-d657-af809c3ace2a",
        "colab": {
          "base_uri": "https://localhost:8080/"
        }
      }
    },
    {
      "cell_type": "code",
      "execution_count": 10,
      "outputs": [],
      "source": [
        "total_df = pd.concat([df1, df2, df3, df4, df5])"
      ],
      "metadata": {
        "ExecuteTime": {
          "start_time": "2023-04-08T23:32:21.943114Z",
          "end_time": "2023-04-08T23:32:21.946544Z"
        },
        "id": "0lggtpAfzeip"
      }
    },
    {
      "cell_type": "code",
      "execution_count": 11,
      "outputs": [
        {
          "output_type": "execute_result",
          "data": {
            "text/plain": [
              "device(type='cuda')"
            ]
          },
          "metadata": {},
          "execution_count": 11
        }
      ],
      "source": [
        "device = torch.device(\"cuda\" if torch.cuda.is_available() else \"cpu\")\n",
        "device"
      ],
      "metadata": {
        "ExecuteTime": {
          "start_time": "2023-04-08T23:32:21.948049Z",
          "end_time": "2023-04-08T23:32:22.005724Z"
        },
        "id": "5a1plEEozeir",
        "outputId": "b7627083-e82b-4d0b-97ea-3144e3832e32",
        "colab": {
          "base_uri": "https://localhost:8080/"
        }
      }
    },
    {
      "cell_type": "code",
      "execution_count": 12,
      "outputs": [],
      "source": [
        "# change the parameter of max tokens what model can process to get tokenization of the whole input\n",
        "# (not only first 512 tokens, which BERT can process  by its architecture)\n",
        "tokenizer = AutoTokenizer.from_pretrained(\n",
        "    \"yqelz/xml-roberta-large-ner-russian\", model_max_length=int(1.5e4)\n",
        ")"
      ],
      "metadata": {
        "ExecuteTime": {
          "start_time": "2023-04-08T23:32:22.001674Z",
          "end_time": "2023-04-08T23:32:22.902174Z"
        },
        "id": "Cn5DkX3Xzeir"
      }
    },
    {
      "cell_type": "code",
      "execution_count": 13,
      "outputs": [],
      "source": [
        "def identify_tokens(df_sample):\n",
        "    sample_text = df_sample[\"text\"]\n",
        "    sample_en = df_sample[\"entities\"]\n",
        "    sample_text_tokenized = tokenizer.tokenize(sample_text)\n",
        "    trash_symbols_count = []\n",
        "    for i in range(len(sample_text)):\n",
        "        cur = (\n",
        "            1\n",
        "            if (\n",
        "                sample_text[i] == \" \"\n",
        "                or sample_text[i] == \"\\n\"\n",
        "                or sample_text[i] == \"\\xa0\"\n",
        "            )\n",
        "            else 0\n",
        "        )\n",
        "        if i == 0:\n",
        "            trash_symbols_count.append(cur)\n",
        "        else:\n",
        "            trash_symbols_count.append(trash_symbols_count[-1] + cur)\n",
        "    cur_entity_id = 0\n",
        "    processed_symbols = 0\n",
        "    mappings = []\n",
        "    begin = int(sample_en[cur_entity_id][1])\n",
        "    end = int(sample_en[cur_entity_id][2])\n",
        "    assert end < len(trash_symbols_count)\n",
        "    begin -= trash_symbols_count[begin]\n",
        "    end -= trash_symbols_count[end]\n",
        "\n",
        "    for token in sample_text_tokenized:\n",
        "        while processed_symbols > end and (cur_entity_id + 1) < len(sample_en):\n",
        "            cur_entity_id += 1\n",
        "            begin = int(sample_en[cur_entity_id][1])\n",
        "            end = int(sample_en[cur_entity_id][2]) - 1\n",
        "            begin -= trash_symbols_count[begin]\n",
        "            end -= trash_symbols_count[end]\n",
        "        if begin <= processed_symbols <= end:\n",
        "            first_token = not (\n",
        "                len(mappings) != 0 and sample_en[cur_entity_id] == mappings[-1][1]\n",
        "            )\n",
        "            mappings.append((token, sample_en[cur_entity_id], first_token))\n",
        "        else:\n",
        "            mappings.append((token, False))\n",
        "        subword_check = token[0] == \"▁\"\n",
        "        processed_symbols = processed_symbols + len(token) - int(subword_check)\n",
        "\n",
        "    for i in range(len(mappings)):\n",
        "        if len(mappings[i]) == 2:\n",
        "            mappings[i] = \"O\"\n",
        "        else:\n",
        "            if mappings[i][-1]:\n",
        "                mappings[i] = \"B-\" + mappings[i][1][0]\n",
        "            else:\n",
        "                mappings[i] = \"I-\" + mappings[i][1][0]\n",
        "    mappings.insert(0, 'O') # start token\n",
        "    mappings.append('O') # end token\n",
        "    return mappings"
      ],
      "metadata": {
        "ExecuteTime": {
          "start_time": "2023-04-08T23:32:22.910925Z",
          "end_time": "2023-04-08T23:32:22.913075Z"
        },
        "id": "WJWc-zhKzeis"
      }
    },
    {
      "cell_type": "code",
      "execution_count": 14,
      "outputs": [],
      "source": [
        "total_df[\"tokenized_text\"] = total_df[\"text\"].apply(tokenizer.tokenize)\n",
        "total_df[\"tokenizer_output\"] = total_df[\"text\"].apply(\n",
        "    lambda x: tokenizer(x, return_tensors=\"pt\", padding=True, truncation=True)\n",
        ")\n",
        "#add start and end tokens to map tokenizer output\n",
        "total_df['tokenized_text'] = total_df['tokenized_text'].apply(lambda x: ['START'] + x + ['END'])\n",
        "total_df[\"classified_tokens\"] = total_df.apply(identify_tokens, axis=1)"
      ],
      "metadata": {
        "ExecuteTime": {
          "start_time": "2023-04-08T23:32:22.915380Z",
          "end_time": "2023-04-08T23:32:28.552710Z"
        },
        "id": "qbbneyatzeiw"
      }
    },
    {
      "cell_type": "code",
      "execution_count": 15,
      "outputs": [
        {
          "output_type": "execute_result",
          "data": {
            "text/plain": [
              "         fName                                               text  \\\n",
              "0   11899_text  Странное преступление против семьи россиян в А...   \n",
              "1  112814_text  Квартира Маргарет Тэтчер выставлена на продажу...   \n",
              "2  106653_text  Хаос и невоспитанные дети: Брэд Питт сравнил с...   \n",
              "3  102661_text  Умер Алексей Жарков \\n5 июня 2016 года в Москв...   \n",
              "4  110637_text  Умер старший представитель дома Романовых княз...   \n",
              "\n",
              "                                            entities  \\\n",
              "0  [[NATIONALITY, 35, 42, россиян], [COUNTRY, 45,...   \n",
              "1  [[FACILITY, 0, 24, Квартира Маргарет Тэтчер], ...   \n",
              "2  [[PERSON, 27, 36, Брэд Питт], [PERSON, 62, 67,...   \n",
              "3  [[PERSON, 5, 19, Алексей Жарков], [DATE, 21, 3...   \n",
              "4  [[FAMILY, 27, 41, дома Романовых], [PROFESSION...   \n",
              "\n",
              "                                      tokenized_text  \\\n",
              "0  [START, ▁Стран, ное, ▁пре, ступление, ▁против,...   \n",
              "1  [START, ▁К, вар, тира, ▁Мар, га, рет, ▁Тэ, т, ...   \n",
              "2  [START, ▁Ха, ос, ▁и, ▁не, воспит, а, нные, ▁де...   \n",
              "3  [START, ▁У, мер, ▁Алексей, ▁Жар, ков, ▁5, ▁июн...   \n",
              "4  [START, ▁У, мер, ▁старши, й, ▁представитель, ▁...   \n",
              "\n",
              "              tokenizer_output  \\\n",
              "0  [input_ids, attention_mask]   \n",
              "1  [input_ids, attention_mask]   \n",
              "2  [input_ids, attention_mask]   \n",
              "3  [input_ids, attention_mask]   \n",
              "4  [input_ids, attention_mask]   \n",
              "\n",
              "                                   classified_tokens  \n",
              "0  [O, O, O, O, O, O, O, B-NATIONALITY, O, B-COUN...  \n",
              "1  [O, B-FACILITY, I-FACILITY, I-FACILITY, I-FACI...  \n",
              "2  [O, O, O, O, O, O, O, O, O, O, B-PERSON, I-PER...  \n",
              "3  [O, O, O, B-PERSON, I-PERSON, I-PERSON, B-DATE...  \n",
              "4  [O, O, O, O, O, O, B-FAMILY, I-FAMILY, I-FAMIL...  "
            ],
            "text/html": [
              "\n",
              "  <div id=\"df-4045c8ef-7edd-4427-af95-cf6695f97eac\">\n",
              "    <div class=\"colab-df-container\">\n",
              "      <div>\n",
              "<style scoped>\n",
              "    .dataframe tbody tr th:only-of-type {\n",
              "        vertical-align: middle;\n",
              "    }\n",
              "\n",
              "    .dataframe tbody tr th {\n",
              "        vertical-align: top;\n",
              "    }\n",
              "\n",
              "    .dataframe thead th {\n",
              "        text-align: right;\n",
              "    }\n",
              "</style>\n",
              "<table border=\"1\" class=\"dataframe\">\n",
              "  <thead>\n",
              "    <tr style=\"text-align: right;\">\n",
              "      <th></th>\n",
              "      <th>fName</th>\n",
              "      <th>text</th>\n",
              "      <th>entities</th>\n",
              "      <th>tokenized_text</th>\n",
              "      <th>tokenizer_output</th>\n",
              "      <th>classified_tokens</th>\n",
              "    </tr>\n",
              "  </thead>\n",
              "  <tbody>\n",
              "    <tr>\n",
              "      <th>0</th>\n",
              "      <td>11899_text</td>\n",
              "      <td>Странное преступление против семьи россиян в А...</td>\n",
              "      <td>[[NATIONALITY, 35, 42, россиян], [COUNTRY, 45,...</td>\n",
              "      <td>[START, ▁Стран, ное, ▁пре, ступление, ▁против,...</td>\n",
              "      <td>[input_ids, attention_mask]</td>\n",
              "      <td>[O, O, O, O, O, O, O, B-NATIONALITY, O, B-COUN...</td>\n",
              "    </tr>\n",
              "    <tr>\n",
              "      <th>1</th>\n",
              "      <td>112814_text</td>\n",
              "      <td>Квартира Маргарет Тэтчер выставлена на продажу...</td>\n",
              "      <td>[[FACILITY, 0, 24, Квартира Маргарет Тэтчер], ...</td>\n",
              "      <td>[START, ▁К, вар, тира, ▁Мар, га, рет, ▁Тэ, т, ...</td>\n",
              "      <td>[input_ids, attention_mask]</td>\n",
              "      <td>[O, B-FACILITY, I-FACILITY, I-FACILITY, I-FACI...</td>\n",
              "    </tr>\n",
              "    <tr>\n",
              "      <th>2</th>\n",
              "      <td>106653_text</td>\n",
              "      <td>Хаос и невоспитанные дети: Брэд Питт сравнил с...</td>\n",
              "      <td>[[PERSON, 27, 36, Брэд Питт], [PERSON, 62, 67,...</td>\n",
              "      <td>[START, ▁Ха, ос, ▁и, ▁не, воспит, а, нные, ▁де...</td>\n",
              "      <td>[input_ids, attention_mask]</td>\n",
              "      <td>[O, O, O, O, O, O, O, O, O, O, B-PERSON, I-PER...</td>\n",
              "    </tr>\n",
              "    <tr>\n",
              "      <th>3</th>\n",
              "      <td>102661_text</td>\n",
              "      <td>Умер Алексей Жарков \\n5 июня 2016 года в Москв...</td>\n",
              "      <td>[[PERSON, 5, 19, Алексей Жарков], [DATE, 21, 3...</td>\n",
              "      <td>[START, ▁У, мер, ▁Алексей, ▁Жар, ков, ▁5, ▁июн...</td>\n",
              "      <td>[input_ids, attention_mask]</td>\n",
              "      <td>[O, O, O, B-PERSON, I-PERSON, I-PERSON, B-DATE...</td>\n",
              "    </tr>\n",
              "    <tr>\n",
              "      <th>4</th>\n",
              "      <td>110637_text</td>\n",
              "      <td>Умер старший представитель дома Романовых княз...</td>\n",
              "      <td>[[FAMILY, 27, 41, дома Романовых], [PROFESSION...</td>\n",
              "      <td>[START, ▁У, мер, ▁старши, й, ▁представитель, ▁...</td>\n",
              "      <td>[input_ids, attention_mask]</td>\n",
              "      <td>[O, O, O, O, O, O, B-FAMILY, I-FAMILY, I-FAMIL...</td>\n",
              "    </tr>\n",
              "  </tbody>\n",
              "</table>\n",
              "</div>\n",
              "      <button class=\"colab-df-convert\" onclick=\"convertToInteractive('df-4045c8ef-7edd-4427-af95-cf6695f97eac')\"\n",
              "              title=\"Convert this dataframe to an interactive table.\"\n",
              "              style=\"display:none;\">\n",
              "        \n",
              "  <svg xmlns=\"http://www.w3.org/2000/svg\" height=\"24px\"viewBox=\"0 0 24 24\"\n",
              "       width=\"24px\">\n",
              "    <path d=\"M0 0h24v24H0V0z\" fill=\"none\"/>\n",
              "    <path d=\"M18.56 5.44l.94 2.06.94-2.06 2.06-.94-2.06-.94-.94-2.06-.94 2.06-2.06.94zm-11 1L8.5 8.5l.94-2.06 2.06-.94-2.06-.94L8.5 2.5l-.94 2.06-2.06.94zm10 10l.94 2.06.94-2.06 2.06-.94-2.06-.94-.94-2.06-.94 2.06-2.06.94z\"/><path d=\"M17.41 7.96l-1.37-1.37c-.4-.4-.92-.59-1.43-.59-.52 0-1.04.2-1.43.59L10.3 9.45l-7.72 7.72c-.78.78-.78 2.05 0 2.83L4 21.41c.39.39.9.59 1.41.59.51 0 1.02-.2 1.41-.59l7.78-7.78 2.81-2.81c.8-.78.8-2.07 0-2.86zM5.41 20L4 18.59l7.72-7.72 1.47 1.35L5.41 20z\"/>\n",
              "  </svg>\n",
              "      </button>\n",
              "      \n",
              "  <style>\n",
              "    .colab-df-container {\n",
              "      display:flex;\n",
              "      flex-wrap:wrap;\n",
              "      gap: 12px;\n",
              "    }\n",
              "\n",
              "    .colab-df-convert {\n",
              "      background-color: #E8F0FE;\n",
              "      border: none;\n",
              "      border-radius: 50%;\n",
              "      cursor: pointer;\n",
              "      display: none;\n",
              "      fill: #1967D2;\n",
              "      height: 32px;\n",
              "      padding: 0 0 0 0;\n",
              "      width: 32px;\n",
              "    }\n",
              "\n",
              "    .colab-df-convert:hover {\n",
              "      background-color: #E2EBFA;\n",
              "      box-shadow: 0px 1px 2px rgba(60, 64, 67, 0.3), 0px 1px 3px 1px rgba(60, 64, 67, 0.15);\n",
              "      fill: #174EA6;\n",
              "    }\n",
              "\n",
              "    [theme=dark] .colab-df-convert {\n",
              "      background-color: #3B4455;\n",
              "      fill: #D2E3FC;\n",
              "    }\n",
              "\n",
              "    [theme=dark] .colab-df-convert:hover {\n",
              "      background-color: #434B5C;\n",
              "      box-shadow: 0px 1px 3px 1px rgba(0, 0, 0, 0.15);\n",
              "      filter: drop-shadow(0px 1px 2px rgba(0, 0, 0, 0.3));\n",
              "      fill: #FFFFFF;\n",
              "    }\n",
              "  </style>\n",
              "\n",
              "      <script>\n",
              "        const buttonEl =\n",
              "          document.querySelector('#df-4045c8ef-7edd-4427-af95-cf6695f97eac button.colab-df-convert');\n",
              "        buttonEl.style.display =\n",
              "          google.colab.kernel.accessAllowed ? 'block' : 'none';\n",
              "\n",
              "        async function convertToInteractive(key) {\n",
              "          const element = document.querySelector('#df-4045c8ef-7edd-4427-af95-cf6695f97eac');\n",
              "          const dataTable =\n",
              "            await google.colab.kernel.invokeFunction('convertToInteractive',\n",
              "                                                     [key], {});\n",
              "          if (!dataTable) return;\n",
              "\n",
              "          const docLinkHtml = 'Like what you see? Visit the ' +\n",
              "            '<a target=\"_blank\" href=https://colab.research.google.com/notebooks/data_table.ipynb>data table notebook</a>'\n",
              "            + ' to learn more about interactive tables.';\n",
              "          element.innerHTML = '';\n",
              "          dataTable['output_type'] = 'display_data';\n",
              "          await google.colab.output.renderOutput(dataTable, element);\n",
              "          const docLink = document.createElement('div');\n",
              "          docLink.innerHTML = docLinkHtml;\n",
              "          element.appendChild(docLink);\n",
              "        }\n",
              "      </script>\n",
              "    </div>\n",
              "  </div>\n",
              "  "
            ]
          },
          "metadata": {},
          "execution_count": 15
        }
      ],
      "source": [
        "total_df.reset_index(inplace=True)\n",
        "total_df.head()"
      ],
      "metadata": {
        "ExecuteTime": {
          "start_time": "2023-04-08T23:32:28.581790Z",
          "end_time": "2023-04-08T23:32:28.614764Z"
        },
        "id": "PBeppkmIzeix",
        "outputId": "3e86158c-bbc5-4f90-88b9-8489eda08c29",
        "colab": {
          "base_uri": "https://localhost:8080/",
          "height": 337
        }
      }
    },
    {
      "cell_type": "code",
      "execution_count": 16,
      "outputs": [
        {
          "output_type": "execute_result",
          "data": {
            "text/plain": [
              "<Axes: >"
            ]
          },
          "metadata": {},
          "execution_count": 16
        },
        {
          "output_type": "display_data",
          "data": {
            "text/plain": [
              "<Figure size 640x480 with 1 Axes>"
            ],
            "image/png": "[encoded data removed]"
          },
          "metadata": {}
        }
      ],
      "source": [
        "total_df[\"tokenized_text\"].apply(len).hist(bins=150)"
      ],
      "metadata": {
        "ExecuteTime": {
          "start_time": "2023-04-08T23:32:28.614455Z",
          "end_time": "2023-04-08T23:32:29.361037Z"
        },
        "id": "JcncVFK7zeiz",
        "outputId": "0b4aeb0b-2883-4c3f-dbfc-ac5941df1637",
        "colab": {
          "base_uri": "https://localhost:8080/",
          "height": 447
        }
      }
    },
    {
      "cell_type": "code",
      "execution_count": 17,
      "outputs": [
        {
          "output_type": "stream",
          "name": "stdout",
          "text": [
            "Number of samples in train dataset, which have more tokens, when BERT can process - 21.284%\n"
          ]
        }
      ],
      "source": [
        "lens = total_df[\"classified_tokens\"].apply(len)\n",
        "print(\n",
        "    f\"Number of samples in train dataset, which have more tokens, when BERT can process - {lens[lens > 512].count() / lens.count() * 100:.3f}%\"\n",
        ")"
      ],
      "metadata": {
        "ExecuteTime": {
          "start_time": "2023-04-08T23:32:29.364571Z",
          "end_time": "2023-04-08T23:32:29.366623Z"
        },
        "id": "yLTQLyGkzei0",
        "outputId": "93484913-c82e-4a64-eefd-195160949154",
        "colab": {
          "base_uri": "https://localhost:8080/"
        }
      }
    },
    {
      "cell_type": "markdown",
      "source": [
        "Dataset have 21% of samples, what can't be processed by BERT(For example, in document '1109' input text tokenized at more than 3000 tokens). To deal with this problem, we will use sliding window approach. We will split each sample into several samples, each of which will contain 512 tokens. We will use 256 tokens overlap between samples."
      ],
      "metadata": {
        "collapsed": false,
        "id": "S1Zc_5BMzei1"
      }
    },
    {
      "cell_type": "code",
      "execution_count": 18,
      "outputs": [],
      "source": [
        "total_df[\"input_ids\"] = total_df[\"tokenizer_output\"].apply(lambda x: x[\"input_ids\"])\n",
        "total_df[\"attention_mask\"] = total_df[\"tokenizer_output\"].apply(\n",
        "    lambda x: x[\"attention_mask\"]\n",
        ")"
      ],
      "metadata": {
        "ExecuteTime": {
          "start_time": "2023-04-08T23:32:29.372552Z",
          "end_time": "2023-04-08T23:32:29.374269Z"
        },
        "id": "hT7nK7w0zei2"
      }
    },
    {
      "cell_type": "code",
      "execution_count": 19,
      "outputs": [],
      "source": [
        "sample = total_df[total_df[\"fName\"] == \"1109\"]\n",
        "iids = sample[\"input_ids\"].values[0]\n",
        "attn = sample[\"attention_mask\"].values[0]"
      ],
      "metadata": {
        "ExecuteTime": {
          "start_time": "2023-04-08T23:32:29.375287Z",
          "end_time": "2023-04-08T23:32:29.459386Z"
        },
        "id": "2KLIPeG9zei3"
      }
    },
    {
      "cell_type": "code",
      "execution_count": 20,
      "outputs": [
        {
          "output_type": "execute_result",
          "data": {
            "text/plain": [
              "(torch.Size([1, 3065]), torch.Size([1, 3065]), 3065)"
            ]
          },
          "metadata": {},
          "execution_count": 20
        }
      ],
      "source": [
        "iids.shape, attn.shape, len(sample[\"tokenized_text\"].values[0])"
      ],
      "metadata": {
        "ExecuteTime": {
          "start_time": "2023-04-08T23:32:29.423611Z",
          "end_time": "2023-04-08T23:32:29.471617Z"
        },
        "id": "Gq4LDSEXzei4",
        "outputId": "32148953-b284-4dbf-ad56-b8ca88cc4d7a",
        "colab": {
          "base_uri": "https://localhost:8080/"
        }
      }
    },
    {
      "cell_type": "code",
      "execution_count": 21,
      "outputs": [],
      "source": [
        "# drop useless columns\n",
        "total_df.drop([\"entities\", \"text\", 'tokenizer_output'], axis=1, inplace=True)"
      ],
      "metadata": {
        "ExecuteTime": {
          "start_time": "2023-04-08T23:32:29.423985Z",
          "end_time": "2023-04-08T23:32:29.471845Z"
        },
        "id": "HDaBlvzazei5"
      }
    },
    {
      "cell_type": "code",
      "execution_count": 22,
      "outputs": [],
      "source": [
        "# split samples with more than 512 tokens\n",
        "def split_sample(sample):\n",
        "    tokenized_text = sample[\"tokenized_text\"]\n",
        "    classified_entities = sample[\"classified_tokens\"]\n",
        "    fname = sample[\"fName\"]\n",
        "    input_ids = sample[\"input_ids\"]\n",
        "    attention_mask = sample[\"attention_mask\"]\n",
        "    if input_ids.shape[1] <= 512:\n",
        "        return pd.DataFrame(\n",
        "            [[fname, input_ids, attention_mask, tokenized_text, classified_entities]],\n",
        "            columns=[\n",
        "                \"fName\",\n",
        "                \"input_ids\",\n",
        "                \"attention_mask\",\n",
        "                \"tokenized_text\",\n",
        "                \"classified_tokens\",\n",
        "            ],\n",
        "        )\n",
        "    else:\n",
        "        samples = []\n",
        "        for i in range(0, len(tokenized_text), 256):\n",
        "            if i + 512 <= len(tokenized_text):\n",
        "                samples.append(\n",
        "                    [\n",
        "                        fname,\n",
        "                        input_ids[:, i : i + 512],\n",
        "                        attention_mask[:, i : i + 512],\n",
        "                        tokenized_text[i : i + 512],\n",
        "                        classified_entities[i : i + 512],\n",
        "                    ]\n",
        "                )\n",
        "            else:\n",
        "                samples.append(\n",
        "                    [\n",
        "                        fname,\n",
        "                        input_ids[:, -512:],\n",
        "                        attention_mask[:, -512:],\n",
        "                        tokenized_text[-512:],\n",
        "                        classified_entities[-512:],\n",
        "                    ]\n",
        "                )\n",
        "        return pd.DataFrame(\n",
        "            samples, columns=[\"fName\", \"input_ids\", \"attention_mask\", \"tokenized_text\", \"classified_tokens\"]\n",
        "        )"
      ],
      "metadata": {
        "ExecuteTime": {
          "start_time": "2023-04-08T23:32:29.424168Z",
          "end_time": "2023-04-08T23:32:29.472010Z"
        },
        "id": "WT75v_CHzei5"
      }
    },
    {
      "cell_type": "code",
      "execution_count": 23,
      "outputs": [
        {
          "output_type": "execute_result",
          "data": {
            "text/plain": [
              "           fName                                     tokenized_text  \\\n",
              "0     11899_text  [START, ▁Стран, ное, ▁пре, ступление, ▁против,...   \n",
              "1    112814_text  [START, ▁К, вар, тира, ▁Мар, га, рет, ▁Тэ, т, ...   \n",
              "2    106653_text  [START, ▁Ха, ос, ▁и, ▁не, воспит, а, нные, ▁де...   \n",
              "3    102661_text  [START, ▁У, мер, ▁Алексей, ▁Жар, ков, ▁5, ▁июн...   \n",
              "4    110637_text  [START, ▁У, мер, ▁старши, й, ▁представитель, ▁...   \n",
              "..           ...                                                ...   \n",
              "836   14776_text  [START, ▁Об, ви, нение, ▁против, ▁Ст, росс, -,...   \n",
              "837  125048_text  [START, ▁Об, лада, тель, ница, ▁самой, ▁большо...   \n",
              "838   27246_text  [START, ▁Ж, итель, ▁Ал, я, ски, ▁стал, ▁самым,...   \n",
              "839   37666_text  [START, ▁В, ▁Кли, вле, нде, ▁обнаружен, ы, ▁тр...   \n",
              "840  117155_text  [START, ▁Народно, му, ▁артист, у, ▁СССР, ▁Влад...   \n",
              "\n",
              "                                     classified_tokens  \\\n",
              "0    [O, O, O, O, O, O, O, B-NATIONALITY, O, B-COUN...   \n",
              "1    [O, B-FACILITY, I-FACILITY, I-FACILITY, I-FACI...   \n",
              "2    [O, O, O, O, O, O, O, O, O, O, B-PERSON, I-PER...   \n",
              "3    [O, O, O, B-PERSON, I-PERSON, I-PERSON, B-DATE...   \n",
              "4    [O, O, O, O, O, O, B-FAMILY, I-FAMILY, I-FAMIL...   \n",
              "..                                                 ...   \n",
              "836  [O, O, O, O, O, B-PERSON, I-PERSON, I-PERSON, ...   \n",
              "837  [O, O, O, O, O, O, O, O, O, B-LOCATION, O, O, ...   \n",
              "838  [O, O, O, O, O, O, O, O, O, O, O, O, O, O, O, ...   \n",
              "839  [O, O, B-CITY, I-CITY, I-CITY, O, O, B-NUMBER,...   \n",
              "840  [O, O, O, B-PROFESSION, I-PROFESSION, O, B-PER...   \n",
              "\n",
              "                                             input_ids  \\\n",
              "0    [[tensor(0), tensor(107722), tensor(5509), ten...   \n",
              "1    [[tensor(0), tensor(1382), tensor(7179), tenso...   \n",
              "2    [[tensor(0), tensor(8639), tensor(9107), tenso...   \n",
              "3    [[tensor(0), tensor(447), tensor(6794), tensor...   \n",
              "4    [[tensor(0), tensor(447), tensor(6794), tensor...   \n",
              "..                                                 ...   \n",
              "836  [[tensor(0), tensor(5188), tensor(2827), tenso...   \n",
              "837  [[tensor(0), tensor(5188), tensor(36475), tens...   \n",
              "838  [[tensor(0), tensor(4356), tensor(63354), tens...   \n",
              "839  [[tensor(0), tensor(417), tensor(55155), tenso...   \n",
              "840  [[tensor(0), tensor(107462), tensor(1719), ten...   \n",
              "\n",
              "                                        attention_mask  \n",
              "0    [[tensor(1), tensor(1), tensor(1), tensor(1), ...  \n",
              "1    [[tensor(1), tensor(1), tensor(1), tensor(1), ...  \n",
              "2    [[tensor(1), tensor(1), tensor(1), tensor(1), ...  \n",
              "3    [[tensor(1), tensor(1), tensor(1), tensor(1), ...  \n",
              "4    [[tensor(1), tensor(1), tensor(1), tensor(1), ...  \n",
              "..                                                 ...  \n",
              "836  [[tensor(1), tensor(1), tensor(1), tensor(1), ...  \n",
              "837  [[tensor(1), tensor(1), tensor(1), tensor(1), ...  \n",
              "838  [[tensor(1), tensor(1), tensor(1), tensor(1), ...  \n",
              "839  [[tensor(1), tensor(1), tensor(1), tensor(1), ...  \n",
              "840  [[tensor(1), tensor(1), tensor(1), tensor(1), ...  \n",
              "\n",
              "[841 rows x 5 columns]"
            ],
            "text/html": [
              "\n",
              "  <div id=\"df-309e3446-136f-4591-bcfc-3b4b6f788937\">\n",
              "    <div class=\"colab-df-container\">\n",
              "      <div>\n",
              "<style scoped>\n",
              "    .dataframe tbody tr th:only-of-type {\n",
              "        vertical-align: middle;\n",
              "    }\n",
              "\n",
              "    .dataframe tbody tr th {\n",
              "        vertical-align: top;\n",
              "    }\n",
              "\n",
              "    .dataframe thead th {\n",
              "        text-align: right;\n",
              "    }\n",
              "</style>\n",
              "<table border=\"1\" class=\"dataframe\">\n",
              "  <thead>\n",
              "    <tr style=\"text-align: right;\">\n",
              "      <th></th>\n",
              "      <th>fName</th>\n",
              "      <th>tokenized_text</th>\n",
              "      <th>classified_tokens</th>\n",
              "      <th>input_ids</th>\n",
              "      <th>attention_mask</th>\n",
              "    </tr>\n",
              "  </thead>\n",
              "  <tbody>\n",
              "    <tr>\n",
              "      <th>0</th>\n",
              "      <td>11899_text</td>\n",
              "      <td>[START, ▁Стран, ное, ▁пре, ступление, ▁против,...</td>\n",
              "      <td>[O, O, O, O, O, O, O, B-NATIONALITY, O, B-COUN...</td>\n",
              "      <td>[[tensor(0), tensor(107722), tensor(5509), ten...</td>\n",
              "      <td>[[tensor(1), tensor(1), tensor(1), tensor(1), ...</td>\n",
              "    </tr>\n",
              "    <tr>\n",
              "      <th>1</th>\n",
              "      <td>112814_text</td>\n",
              "      <td>[START, ▁К, вар, тира, ▁Мар, га, рет, ▁Тэ, т, ...</td>\n",
              "      <td>[O, B-FACILITY, I-FACILITY, I-FACILITY, I-FACI...</td>\n",
              "      <td>[[tensor(0), tensor(1382), tensor(7179), tenso...</td>\n",
              "      <td>[[tensor(1), tensor(1), tensor(1), tensor(1), ...</td>\n",
              "    </tr>\n",
              "    <tr>\n",
              "      <th>2</th>\n",
              "      <td>106653_text</td>\n",
              "      <td>[START, ▁Ха, ос, ▁и, ▁не, воспит, а, нные, ▁де...</td>\n",
              "      <td>[O, O, O, O, O, O, O, O, O, O, B-PERSON, I-PER...</td>\n",
              "      <td>[[tensor(0), tensor(8639), tensor(9107), tenso...</td>\n",
              "      <td>[[tensor(1), tensor(1), tensor(1), tensor(1), ...</td>\n",
              "    </tr>\n",
              "    <tr>\n",
              "      <th>3</th>\n",
              "      <td>102661_text</td>\n",
              "      <td>[START, ▁У, мер, ▁Алексей, ▁Жар, ков, ▁5, ▁июн...</td>\n",
              "      <td>[O, O, O, B-PERSON, I-PERSON, I-PERSON, B-DATE...</td>\n",
              "      <td>[[tensor(0), tensor(447), tensor(6794), tensor...</td>\n",
              "      <td>[[tensor(1), tensor(1), tensor(1), tensor(1), ...</td>\n",
              "    </tr>\n",
              "    <tr>\n",
              "      <th>4</th>\n",
              "      <td>110637_text</td>\n",
              "      <td>[START, ▁У, мер, ▁старши, й, ▁представитель, ▁...</td>\n",
              "      <td>[O, O, O, O, O, O, B-FAMILY, I-FAMILY, I-FAMIL...</td>\n",
              "      <td>[[tensor(0), tensor(447), tensor(6794), tensor...</td>\n",
              "      <td>[[tensor(1), tensor(1), tensor(1), tensor(1), ...</td>\n",
              "    </tr>\n",
              "    <tr>\n",
              "      <th>...</th>\n",
              "      <td>...</td>\n",
              "      <td>...</td>\n",
              "      <td>...</td>\n",
              "      <td>...</td>\n",
              "      <td>...</td>\n",
              "    </tr>\n",
              "    <tr>\n",
              "      <th>836</th>\n",
              "      <td>14776_text</td>\n",
              "      <td>[START, ▁Об, ви, нение, ▁против, ▁Ст, росс, -,...</td>\n",
              "      <td>[O, O, O, O, O, B-PERSON, I-PERSON, I-PERSON, ...</td>\n",
              "      <td>[[tensor(0), tensor(5188), tensor(2827), tenso...</td>\n",
              "      <td>[[tensor(1), tensor(1), tensor(1), tensor(1), ...</td>\n",
              "    </tr>\n",
              "    <tr>\n",
              "      <th>837</th>\n",
              "      <td>125048_text</td>\n",
              "      <td>[START, ▁Об, лада, тель, ница, ▁самой, ▁большо...</td>\n",
              "      <td>[O, O, O, O, O, O, O, O, O, B-LOCATION, O, O, ...</td>\n",
              "      <td>[[tensor(0), tensor(5188), tensor(36475), tens...</td>\n",
              "      <td>[[tensor(1), tensor(1), tensor(1), tensor(1), ...</td>\n",
              "    </tr>\n",
              "    <tr>\n",
              "      <th>838</th>\n",
              "      <td>27246_text</td>\n",
              "      <td>[START, ▁Ж, итель, ▁Ал, я, ски, ▁стал, ▁самым,...</td>\n",
              "      <td>[O, O, O, O, O, O, O, O, O, O, O, O, O, O, O, ...</td>\n",
              "      <td>[[tensor(0), tensor(4356), tensor(63354), tens...</td>\n",
              "      <td>[[tensor(1), tensor(1), tensor(1), tensor(1), ...</td>\n",
              "    </tr>\n",
              "    <tr>\n",
              "      <th>839</th>\n",
              "      <td>37666_text</td>\n",
              "      <td>[START, ▁В, ▁Кли, вле, нде, ▁обнаружен, ы, ▁тр...</td>\n",
              "      <td>[O, O, B-CITY, I-CITY, I-CITY, O, O, B-NUMBER,...</td>\n",
              "      <td>[[tensor(0), tensor(417), tensor(55155), tenso...</td>\n",
              "      <td>[[tensor(1), tensor(1), tensor(1), tensor(1), ...</td>\n",
              "    </tr>\n",
              "    <tr>\n",
              "      <th>840</th>\n",
              "      <td>117155_text</td>\n",
              "      <td>[START, ▁Народно, му, ▁артист, у, ▁СССР, ▁Влад...</td>\n",
              "      <td>[O, O, O, B-PROFESSION, I-PROFESSION, O, B-PER...</td>\n",
              "      <td>[[tensor(0), tensor(107462), tensor(1719), ten...</td>\n",
              "      <td>[[tensor(1), tensor(1), tensor(1), tensor(1), ...</td>\n",
              "    </tr>\n",
              "  </tbody>\n",
              "</table>\n",
              "<p>841 rows × 5 columns</p>\n",
              "</div>\n",
              "      <button class=\"colab-df-convert\" onclick=\"convertToInteractive('df-309e3446-136f-4591-bcfc-3b4b6f788937')\"\n",
              "              title=\"Convert this dataframe to an interactive table.\"\n",
              "              style=\"display:none;\">\n",
              "        \n",
              "  <svg xmlns=\"http://www.w3.org/2000/svg\" height=\"24px\"viewBox=\"0 0 24 24\"\n",
              "       width=\"24px\">\n",
              "    <path d=\"M0 0h24v24H0V0z\" fill=\"none\"/>\n",
              "    <path d=\"M18.56 5.44l.94 2.06.94-2.06 2.06-.94-2.06-.94-.94-2.06-.94 2.06-2.06.94zm-11 1L8.5 8.5l.94-2.06 2.06-.94-2.06-.94L8.5 2.5l-.94 2.06-2.06.94zm10 10l.94 2.06.94-2.06 2.06-.94-2.06-.94-.94-2.06-.94 2.06-2.06.94z\"/><path d=\"M17.41 7.96l-1.37-1.37c-.4-.4-.92-.59-1.43-.59-.52 0-1.04.2-1.43.59L10.3 9.45l-7.72 7.72c-.78.78-.78 2.05 0 2.83L4 21.41c.39.39.9.59 1.41.59.51 0 1.02-.2 1.41-.59l7.78-7.78 2.81-2.81c.8-.78.8-2.07 0-2.86zM5.41 20L4 18.59l7.72-7.72 1.47 1.35L5.41 20z\"/>\n",
              "  </svg>\n",
              "      </button>\n",
              "      \n",
              "  <style>\n",
              "    .colab-df-container {\n",
              "      display:flex;\n",
              "      flex-wrap:wrap;\n",
              "      gap: 12px;\n",
              "    }\n",
              "\n",
              "    .colab-df-convert {\n",
              "      background-color: #E8F0FE;\n",
              "      border: none;\n",
              "      border-radius: 50%;\n",
              "      cursor: pointer;\n",
              "      display: none;\n",
              "      fill: #1967D2;\n",
              "      height: 32px;\n",
              "      padding: 0 0 0 0;\n",
              "      width: 32px;\n",
              "    }\n",
              "\n",
              "    .colab-df-convert:hover {\n",
              "      background-color: #E2EBFA;\n",
              "      box-shadow: 0px 1px 2px rgba(60, 64, 67, 0.3), 0px 1px 3px 1px rgba(60, 64, 67, 0.15);\n",
              "      fill: #174EA6;\n",
              "    }\n",
              "\n",
              "    [theme=dark] .colab-df-convert {\n",
              "      background-color: #3B4455;\n",
              "      fill: #D2E3FC;\n",
              "    }\n",
              "\n",
              "    [theme=dark] .colab-df-convert:hover {\n",
              "      background-color: #434B5C;\n",
              "      box-shadow: 0px 1px 3px 1px rgba(0, 0, 0, 0.15);\n",
              "      filter: drop-shadow(0px 1px 2px rgba(0, 0, 0, 0.3));\n",
              "      fill: #FFFFFF;\n",
              "    }\n",
              "  </style>\n",
              "\n",
              "      <script>\n",
              "        const buttonEl =\n",
              "          document.querySelector('#df-309e3446-136f-4591-bcfc-3b4b6f788937 button.colab-df-convert');\n",
              "        buttonEl.style.display =\n",
              "          google.colab.kernel.accessAllowed ? 'block' : 'none';\n",
              "\n",
              "        async function convertToInteractive(key) {\n",
              "          const element = document.querySelector('#df-309e3446-136f-4591-bcfc-3b4b6f788937');\n",
              "          const dataTable =\n",
              "            await google.colab.kernel.invokeFunction('convertToInteractive',\n",
              "                                                     [key], {});\n",
              "          if (!dataTable) return;\n",
              "\n",
              "          const docLinkHtml = 'Like what you see? Visit the ' +\n",
              "            '<a target=\"_blank\" href=https://colab.research.google.com/notebooks/data_table.ipynb>data table notebook</a>'\n",
              "            + ' to learn more about interactive tables.';\n",
              "          element.innerHTML = '';\n",
              "          dataTable['output_type'] = 'display_data';\n",
              "          await google.colab.output.renderOutput(dataTable, element);\n",
              "          const docLink = document.createElement('div');\n",
              "          docLink.innerHTML = docLinkHtml;\n",
              "          element.appendChild(docLink);\n",
              "        }\n",
              "      </script>\n",
              "    </div>\n",
              "  </div>\n",
              "  "
            ]
          },
          "metadata": {},
          "execution_count": 23
        }
      ],
      "source": [
        "total_df"
      ],
      "metadata": {
        "ExecuteTime": {
          "start_time": "2023-04-08T23:32:29.424269Z",
          "end_time": "2023-04-08T23:32:29.636415Z"
        },
        "id": "FgwS-jCczei6",
        "outputId": "319991c6-4187-4447-f3c3-4590dea4f1c4",
        "colab": {
          "base_uri": "https://localhost:8080/",
          "height": 641
        }
      }
    },
    {
      "cell_type": "code",
      "execution_count": 24,
      "outputs": [],
      "source": [
        "total_df = total_df.apply(split_sample, axis=1)"
      ],
      "metadata": {
        "ExecuteTime": {
          "start_time": "2023-04-08T23:32:29.651001Z",
          "end_time": "2023-04-08T23:32:29.878480Z"
        },
        "id": "k--dBPXDzei7"
      }
    },
    {
      "cell_type": "code",
      "execution_count": 25,
      "outputs": [],
      "source": [
        "total_df = pd.concat(total_df.values)\n",
        "total_df.reset_index(inplace=True)\n",
        "total_df.drop(\"index\", axis=1, inplace=True)"
      ],
      "metadata": {
        "ExecuteTime": {
          "start_time": "2023-04-08T23:32:29.887355Z",
          "end_time": "2023-04-08T23:32:29.918661Z"
        },
        "id": "_eTnmcmJzei8"
      }
    },
    {
      "cell_type": "code",
      "execution_count": 26,
      "outputs": [
        {
          "output_type": "execute_result",
          "data": {
            "text/plain": [
              "<Axes: >"
            ]
          },
          "metadata": {},
          "execution_count": 26
        },
        {
          "output_type": "display_data",
          "data": {
            "text/plain": [
              "<Figure size 640x480 with 1 Axes>"
            ],
            "image/png": "[encoded data removed]"
          },
          "metadata": {}
        }
      ],
      "source": [
        "total_df[\"tokenized_text\"].apply(len).hist(bins=50)"
      ],
      "metadata": {
        "ExecuteTime": {
          "start_time": "2023-04-08T23:32:29.915333Z",
          "end_time": "2023-04-08T23:32:30.114267Z"
        },
        "id": "K7wO5InDzei8",
        "outputId": "3d5b4cd1-59b4-46bd-bf0e-a19737fe91dc",
        "colab": {
          "base_uri": "https://localhost:8080/",
          "height": 447
        }
      }
    },
    {
      "cell_type": "code",
      "execution_count": 27,
      "outputs": [
        {
          "output_type": "execute_result",
          "data": {
            "text/plain": [
              "array([['START', 'O'],\n",
              "       ['▁К', 'B-FACILITY'],\n",
              "       ['вар', 'I-FACILITY'],\n",
              "       ['тира', 'I-FACILITY'],\n",
              "       ['▁Мар', 'I-FACILITY'],\n",
              "       ['га', 'I-FACILITY'],\n",
              "       ['рет', 'I-FACILITY'],\n",
              "       ['▁Тэ', 'I-FACILITY'],\n",
              "       ['т', 'I-FACILITY'],\n",
              "       ['чер', 'I-FACILITY'],\n",
              "       ['▁вы', 'O'],\n",
              "       ['ставлен', 'O'],\n",
              "       ['а', 'O'],\n",
              "       ['▁на', 'O'],\n",
              "       ['▁продажу', 'O'],\n",
              "       ['▁в', 'O'],\n",
              "       ['▁Лондон', 'B-CITY'],\n",
              "       ['е', 'I-CITY'],\n",
              "       ['▁Мар', 'B-PERSON'],\n",
              "       ['га', 'I-PERSON'],\n",
              "       ['рет', 'I-PERSON'],\n",
              "       ['▁Тэ', 'I-PERSON'],\n",
              "       ['т', 'I-PERSON'],\n",
              "       ['чер', 'I-PERSON'],\n",
              "       ['▁К', 'B-FACILITY'],\n",
              "       ['вар', 'I-FACILITY'],\n",
              "       ['тира', 'I-FACILITY'],\n",
              "       ['▁бы', 'I-FACILITY'],\n",
              "       ['вшего', 'I-FACILITY'],\n",
              "       ['▁премьер', 'I-FACILITY'],\n",
              "       ['-', 'I-FACILITY'],\n",
              "       ['министр', 'I-FACILITY'],\n",
              "       ['а', 'I-FACILITY'],\n",
              "       ['▁Великобритании', 'I-FACILITY'],\n",
              "       ['▁Мар', 'I-FACILITY'],\n",
              "       ['га', 'I-FACILITY'],\n",
              "       ['рет', 'I-FACILITY'],\n",
              "       ['▁Тэ', 'I-FACILITY'],\n",
              "       ['т', 'I-FACILITY'],\n",
              "       ['чер', 'I-FACILITY'],\n",
              "       ['▁в', 'O'],\n",
              "       ['▁районе', 'O'],\n",
              "       ['▁Че', 'B-DISTRICT'],\n",
              "       ['л', 'I-DISTRICT'],\n",
              "       ['си', 'I-DISTRICT'],\n",
              "       ['▁в', 'O'],\n",
              "       ['▁Лондон', 'B-CITY'],\n",
              "       ['е', 'I-CITY'],\n",
              "       ['▁вы', 'O'],\n",
              "       ['ставлен', 'O'],\n",
              "       ['а', 'O'],\n",
              "       ['▁на', 'O'],\n",
              "       ['▁продажу', 'O'],\n",
              "       ['▁за', 'O'],\n",
              "       ['▁£', 'B-MONEY'],\n",
              "       ['1,2', 'I-MONEY'],\n",
              "       ['▁млн', 'I-MONEY'],\n",
              "       ['.', 'O'],\n",
              "       ['▁В', 'O'],\n",
              "       ['▁этих', 'O'],\n",
              "       ['▁апартамент', 'O'],\n",
              "       ['ах', 'O'],\n",
              "       ['▁Мар', 'B-PERSON'],\n",
              "       ['га', 'I-PERSON'],\n",
              "       ['рет', 'I-PERSON'],\n",
              "       ['▁и', 'O'],\n",
              "       ['▁её', 'O'],\n",
              "       ['▁супруг', 'O'],\n",
              "       [',', 'O'],\n",
              "       ['▁Денис', 'B-PERSON'],\n",
              "       [',', 'O'],\n",
              "       ['▁', 'O'],\n",
              "       ['жили', 'O'],\n",
              "       ['▁в', 'B-DATE'],\n",
              "       ['▁1950-', 'I-DATE'],\n",
              "       ['х', 'I-DATE'],\n",
              "       ['▁года', 'I-DATE'],\n",
              "       ['х', 'I-DATE'],\n",
              "       ['.', 'O'],\n",
              "       ['▁Тогда', 'O'],\n",
              "       ['▁буду', 'O'],\n",
              "       ['щий', 'O'],\n",
              "       ['▁премьер', 'B-PROFESSION'],\n",
              "       ['-', 'I-PROFESSION'],\n",
              "       ['министр', 'I-PROFESSION'],\n",
              "       ['▁работа', 'O'],\n",
              "       ['ла', 'O'],\n",
              "       ['▁адвокат', 'B-PROFESSION'],\n",
              "       ['ом', 'I-PROFESSION'],\n",
              "       ['▁и', 'O'],\n",
              "       ['▁именно', 'O'],\n",
              "       ['▁в', 'O'],\n",
              "       ['▁этот', 'O'],\n",
              "       ['▁период', 'O'],\n",
              "       [',', 'O'],\n",
              "       ['▁как', 'O'],\n",
              "       ['▁отмечает', 'O'],\n",
              "       ['▁издание', 'O'],\n",
              "       [',', 'O'],\n",
              "       ['▁решила', 'O'],\n",
              "       ['▁продолжи', 'O'],\n",
              "       ['ть', 'O'],\n",
              "       ['▁', 'O'],\n",
              "       ['полит', 'O'],\n",
              "       ['ическую', 'O'],\n",
              "       ['▁карьер', 'O'],\n",
              "       ['у', 'O'],\n",
              "       ['▁Сама', 'O'],\n",
              "       ['▁Тэ', 'B-PERSON'],\n",
              "       ['т', 'I-PERSON'],\n",
              "       ['чер', 'I-PERSON'],\n",
              "       ['▁опис', 'O'],\n",
              "       ['ы', 'O'],\n",
              "       ['вала', 'O'],\n",
              "       ['▁своё', 'O'],\n",
              "       ['▁жилище', 'O'],\n",
              "       ['▁как', 'O'],\n",
              "       ['▁«', 'O'],\n",
              "       ['свет', 'O'],\n",
              "       ['ло', 'O'],\n",
              "       ['е', 'O'],\n",
              "       ['...', 'O'],\n",
              "       ['▁с', 'O'],\n",
              "       ['▁прекра', 'O'],\n",
              "       ['с', 'O'],\n",
              "       ['ным', 'O'],\n",
              "       ['▁видом', 'O'],\n",
              "       ['▁на', 'B-CITY'],\n",
              "       ['▁Лондон', 'I-CITY'],\n",
              "       ['».', 'O'],\n",
              "       ['▁От', 'O'],\n",
              "       ['меча', 'O'],\n",
              "       ['ется', 'O'],\n",
              "       [',', 'O'],\n",
              "       ['▁что', 'O'],\n",
              "       ['▁квартира', 'O'],\n",
              "       ['▁находится', 'O'],\n",
              "       ['▁на', 'B-ORDINAL'],\n",
              "       ['▁шест', 'I-ORDINAL'],\n",
              "       ['ом', 'O'],\n",
              "       ['▁этаж', 'O'],\n",
              "       ['е', 'O'],\n",
              "       ['▁в', 'O'],\n",
              "       ['▁зда', 'O'],\n",
              "       ['нии', 'O'],\n",
              "       ['▁из', 'O'],\n",
              "       ['▁крас', 'O'],\n",
              "       ['ного', 'O'],\n",
              "       ['▁кир', 'O'],\n",
              "       ['пи', 'O'],\n",
              "       ['ча', 'O'],\n",
              "       ['.', 'O'],\n",
              "       ['▁Всего', 'O'],\n",
              "       ['▁в', 'O'],\n",
              "       ['▁ней', 'O'],\n",
              "       ['▁четыре', 'B-NUMBER'],\n",
              "       ['▁комнаты', 'O'],\n",
              "       [',', 'B-NUMBER'],\n",
              "       ['▁две', 'I-NUMBER'],\n",
              "       ['▁из', 'O'],\n",
              "       ['▁которых', 'O'],\n",
              "       ['▁—', 'O'],\n",
              "       ['▁с', 'O'],\n",
              "       ['паль', 'O'],\n",
              "       ['ни', 'O'],\n",
              "       ['.', 'O'],\n",
              "       ['▁Как', 'O'],\n",
              "       ['▁отметил', 'O'],\n",
              "       ['и', 'O'],\n",
              "       ['▁в', 'O'],\n",
              "       ['▁агент', 'O'],\n",
              "       ['стве', 'O'],\n",
              "       ['▁по', 'O'],\n",
              "       ['▁недвижимости', 'O'],\n",
              "       [\"▁''\", 'B-ORGANIZATION'],\n",
              "       ['Str', 'I-ORGANIZATION'],\n",
              "       ['ut', 'I-ORGANIZATION'],\n",
              "       ['t', 'I-ORGANIZATION'],\n",
              "       ['▁&', 'I-ORGANIZATION'],\n",
              "       ['▁Parker', 'I-ORGANIZATION'],\n",
              "       [\"''\", 'O'],\n",
              "       [',', 'O'],\n",
              "       ['▁квартира', 'O'],\n",
              "       ['▁также', 'O'],\n",
              "       ['▁доступ', 'O'],\n",
              "       ['на', 'O'],\n",
              "       ['▁для', 'O'],\n",
              "       ['▁долго', 'O'],\n",
              "       ['срочно', 'O'],\n",
              "       ['й', 'O'],\n",
              "       ['▁аренды', 'O'],\n",
              "       ['▁на', 'B-DATE'],\n",
              "       ['▁24', 'I-DATE'],\n",
              "       ['▁года', 'I-DATE'],\n",
              "       [',', 'O'],\n",
              "       ['▁однако', 'O'],\n",
              "       ['▁апартамент', 'O'],\n",
              "       ['ы', 'O'],\n",
              "       [',', 'O'],\n",
              "       ['▁по', 'O'],\n",
              "       ['▁информации', 'O'],\n",
              "       ['▁ри', 'O'],\n",
              "       ['эл', 'O'],\n",
              "       ['тор', 'O'],\n",
              "       ['ов', 'O'],\n",
              "       [',', 'O'],\n",
              "       ['▁нужда', 'O'],\n",
              "       ['ются', 'O'],\n",
              "       ['▁в', 'O'],\n",
              "       ['▁«', 'O'],\n",
              "       ['ка', 'O'],\n",
              "       ['пит', 'O'],\n",
              "       ['альном', 'O'],\n",
              "       ['▁ремонт', 'O'],\n",
              "       ['е', 'O'],\n",
              "       ['».', 'B-DATE'],\n",
              "       ['▁23', 'I-DATE'],\n",
              "       ['▁февраля', 'I-DATE'],\n",
              "       ['▁2017', 'I-DATE'],\n",
              "       ['▁года', 'I-DATE'],\n",
              "       ['▁стало', 'O'],\n",
              "       ['▁известно', 'O'],\n",
              "       ['▁о', 'O'],\n",
              "       ['▁том', 'O'],\n",
              "       [',', 'O'],\n",
              "       ['▁что', 'O'],\n",
              "       ['▁свою', 'O'],\n",
              "       ['▁', 'B-FACILITY'],\n",
              "       ['вил', 'I-FACILITY'],\n",
              "       ['лу', 'I-FACILITY'],\n",
              "       ['▁в', 'I-FACILITY'],\n",
              "       ['▁Германии', 'I-FACILITY'],\n",
              "       ['▁на', 'O'],\n",
              "       ['▁продажу', 'O'],\n",
              "       ['▁вы', 'O'],\n",
              "       ['ставил', 'O'],\n",
              "       ['▁бы', 'O'],\n",
              "       ['вший', 'O'],\n",
              "       ['▁президент', 'B-PROFESSION'],\n",
              "       ['▁СССР', 'I-PROFESSION'],\n",
              "       ['▁Михаил', 'B-PERSON'],\n",
              "       ['▁Гор', 'I-PERSON'],\n",
              "       ['ба', 'I-PERSON'],\n",
              "       ['чё', 'I-PERSON'],\n",
              "       ['в', 'O'],\n",
              "       ['.', 'O'],\n",
              "       ['▁По', 'O'],\n",
              "       ['▁данным', 'O'],\n",
              "       ['▁газеты', 'O'],\n",
              "       [\"▁''\", 'B-ORGANIZATION'],\n",
              "       ['S', 'I-ORGANIZATION'],\n",
              "       ['ü', 'I-ORGANIZATION'],\n",
              "       ['d', 'I-ORGANIZATION'],\n",
              "       ['deutsche', 'I-ORGANIZATION'],\n",
              "       ['▁Zeitung', 'I-ORGANIZATION'],\n",
              "       [\"''\", 'O'],\n",
              "       [',', 'O'],\n",
              "       ['▁', 'O'],\n",
              "       ['вил', 'O'],\n",
              "       ['лу', 'O'],\n",
              "       ['▁план', 'O'],\n",
              "       ['ируется', 'O'],\n",
              "       ['▁про', 'O'],\n",
              "       ['дать', 'O'],\n",
              "       ['▁за', 'B-MONEY'],\n",
              "       ['▁несколько', 'I-MONEY'],\n",
              "       ['▁миллионов', 'I-MONEY'],\n",
              "       ['▁евро', 'I-MONEY'],\n",
              "       ['.', 'O'],\n",
              "       ['END', 'O']], dtype='<U15')"
            ]
          },
          "metadata": {},
          "execution_count": 27
        }
      ],
      "source": [
        "# test token mapping for the sample\n",
        "n = 3\n",
        "sample = total_df.iloc[n]\n",
        "sample_tokens = sample[\"tokenized_text\"]\n",
        "sample_entities = sample[\"classified_tokens\"]\n",
        "a = np.array([sample_tokens, sample_entities])\n",
        "a.T"
      ],
      "metadata": {
        "ExecuteTime": {
          "start_time": "2023-04-08T23:32:30.073584Z",
          "end_time": "2023-04-08T23:32:30.114776Z"
        },
        "id": "A2zF_wsbzei9",
        "outputId": "9e78873d-8ffc-4c27-b7fa-7ede2193dd51",
        "colab": {
          "base_uri": "https://localhost:8080/"
        }
      }
    },
    {
      "cell_type": "code",
      "execution_count": 28,
      "outputs": [],
      "source": [
        "unique_entities = []\n",
        "for sample in total_df[\"classified_tokens\"]:\n",
        "    for token in sample:\n",
        "        unique_entities.append(token)\n",
        "unique_entities = np.unique(unique_entities)"
      ],
      "metadata": {
        "ExecuteTime": {
          "start_time": "2023-04-08T23:32:30.073946Z",
          "end_time": "2023-04-08T23:32:30.258132Z"
        },
        "id": "RQFcjrnbzei-"
      }
    },
    {
      "cell_type": "code",
      "execution_count": 29,
      "outputs": [],
      "source": [
        "id2label = {}\n",
        "label2id = {}\n",
        "\n",
        "for i in range(len(unique_entities)):\n",
        "    id2label[i] = unique_entities[i]\n",
        "    label2id[unique_entities[i]] = i"
      ],
      "metadata": {
        "ExecuteTime": {
          "start_time": "2023-04-08T23:32:30.260400Z",
          "end_time": "2023-04-08T23:32:30.305110Z"
        },
        "id": "2Bbs6bwqzei_"
      }
    },
    {
      "cell_type": "code",
      "execution_count": 30,
      "outputs": [],
      "source": [
        "labels_num = len(unique_entities)"
      ],
      "metadata": {
        "ExecuteTime": {
          "start_time": "2023-04-08T23:32:30.303936Z",
          "end_time": "2023-04-08T23:32:30.305475Z"
        },
        "id": "bgXGy0ZAzei_"
      }
    },
    {
      "cell_type": "code",
      "execution_count": 31,
      "outputs": [
        {
          "output_type": "execute_result",
          "data": {
            "text/plain": [
              "59"
            ]
          },
          "metadata": {},
          "execution_count": 31
        }
      ],
      "source": [
        "labels_num"
      ],
      "metadata": {
        "ExecuteTime": {
          "start_time": "2023-04-08T23:32:30.304033Z",
          "end_time": "2023-04-08T23:32:30.306013Z"
        },
        "id": "y8hEO8qdzejA",
        "outputId": "55db4ac0-3ead-45e8-e9fe-54469dd3a586",
        "colab": {
          "base_uri": "https://localhost:8080/"
        }
      }
    },
    {
      "cell_type": "code",
      "execution_count": 32,
      "outputs": [],
      "source": [
        "class BertTokenClassification(torch.nn.Module):\n",
        "    def __init__(self):\n",
        "        super(BertTokenClassification, self).__init__()\n",
        "        #transformers.models.xlm_roberta.modeling_xlm_roberta.XLMRobertaForTokenClassification\n",
        "        self.bert = AutoModelForTokenClassification.from_pretrained(\"yqelz/xml-roberta-large-ner-russian\")\n",
        "        self.bert.config.id2label = id2label\n",
        "        self.bert.config.label2id = label2id\n",
        "        self.bert.num_labels = labels_num\n",
        "        self.bert.classifier = torch.nn.Linear(1024, labels_num)\n",
        "\n",
        "    def forward(self, input_id, mask, label):\n",
        "        output = self.bert(\n",
        "            input_ids=input_id, attention_mask=mask, labels=label)\n",
        "        return output"
      ],
      "metadata": {
        "ExecuteTime": {
          "start_time": "2023-04-08T23:32:30.304149Z",
          "end_time": "2023-04-08T23:32:30.306254Z"
        },
        "id": "GqZ9PrPqzejB"
      }
    },
    {
      "cell_type": "code",
      "execution_count": 33,
      "outputs": [],
      "source": [
        "class TextDataset(Dataset):\n",
        "    def __init__(self, dataframe):\n",
        "        self.df = dataframe\n",
        "\n",
        "    def __len__(self):\n",
        "        return len(self.df)\n",
        "\n",
        "    @staticmethod\n",
        "    def df_sample_to_tensor(row):\n",
        "        data = row['input_ids']\n",
        "        labels = row['classified_tokens']\n",
        "        labels = list(map(lambda x: label2id[x], labels))\n",
        "        labels = torch.tensor(labels)\n",
        "        data = torch.squeeze(labels)\n",
        "        # print(labels.shape, data.shape)\n",
        "        return data, labels\n",
        "\n",
        "    def __getitem__(self, idx):\n",
        "        return self.df_sample_to_tensor(self.df.iloc[idx])"
      ],
      "metadata": {
        "ExecuteTime": {
          "start_time": "2023-04-08T23:32:30.304254Z",
          "end_time": "2023-04-08T23:32:30.306519Z"
        },
        "id": "wZ0xkI3bzejC"
      }
    },
    {
      "cell_type": "code",
      "execution_count": 34,
      "outputs": [],
      "source": [
        "#complement input ids and attention mask\n",
        "#to 512 elements, to bring all tensors to the same shape\n",
        "def tokenization_complement(tensor):\n",
        "    complement_size = 512 - tensor.shape[1]\n",
        "    zeros_complement = torch.zeros((1,complement_size))\n",
        "    new_sample = torch.cat((tensor, zeros_complement,), dim=1)\n",
        "    assert new_sample.shape[1] == 512\n",
        "    return new_sample\n",
        "\n",
        "#complement labels to the form of tensors\n",
        "def labels_complement(labels):\n",
        "    complement_size = 512 - len(labels)\n",
        "    new_labels = labels\n",
        "    for i in range(complement_size):\n",
        "        new_labels.append('O')\n",
        "    return new_labels"
      ],
      "metadata": {
        "ExecuteTime": {
          "start_time": "2023-04-08T23:32:30.304324Z",
          "end_time": "2023-04-08T23:32:30.306743Z"
        },
        "id": "qR3wMVMWzejC"
      }
    },
    {
      "cell_type": "code",
      "execution_count": 35,
      "outputs": [],
      "source": [
        "total_df['input_ids'] = total_df['input_ids'].apply(tokenization_complement)\n",
        "total_df['attention_mask'] = total_df['attention_mask'].apply(tokenization_complement)"
      ],
      "metadata": {
        "ExecuteTime": {
          "start_time": "2023-04-08T23:32:30.304515Z",
          "end_time": "2023-04-08T23:32:30.388955Z"
        },
        "id": "bAL3xjctzejD"
      }
    },
    {
      "cell_type": "code",
      "execution_count": 36,
      "outputs": [],
      "source": [
        "total_df['classified_tokens'] = total_df['classified_tokens'].apply(labels_complement)"
      ],
      "metadata": {
        "ExecuteTime": {
          "start_time": "2023-04-08T23:32:30.346973Z",
          "end_time": "2023-04-08T23:32:30.405468Z"
        },
        "id": "QXraje5tzejE"
      }
    },
    {
      "cell_type": "code",
      "execution_count": 37,
      "outputs": [],
      "source": [
        "from sklearn.model_selection import train_test_split\n",
        "\n",
        "train_data, val_data = train_test_split(total_df, train_size=0.9)"
      ],
      "metadata": {
        "ExecuteTime": {
          "start_time": "2023-04-08T23:32:30.348479Z",
          "end_time": "2023-04-08T23:32:30.899442Z"
        },
        "id": "O6HZJIRnzejF"
      }
    },
    {
      "cell_type": "code",
      "execution_count": 38,
      "outputs": [],
      "source": [
        "BATCH_SIZE = 2\n",
        "lr = 3e-4\n",
        "EPOCH_NUMBER = 3\n",
        "\n",
        "def train_loop(model, train_d, val_d, epoch_num=EPOCH_NUMBER):\n",
        "    train_dataset = TextDataset(train_d)\n",
        "    val_dataset = TextDataset(val_d)\n",
        "\n",
        "    train_dataloader = DataLoader(train_dataset, batch_size=BATCH_SIZE, shuffle=True)\n",
        "    val_dataloader = DataLoader(val_dataset, batch_size=BATCH_SIZE, shuffle=True)\n",
        "\n",
        "    optimizer = torch.optim.Adam(model.parameters(), lr=lr)\n",
        "\n",
        "    train_losses = []\n",
        "    val_losses = []\n",
        "\n",
        "    for epoch in range(epoch_num):\n",
        "        acc_train = 0\n",
        "        cur_loss_train = 0\n",
        "        acc_val = 0\n",
        "        loss_val = 0\n",
        "\n",
        "        model.train()\n",
        "        for data, labels in tqdm(train_dataloader):\n",
        "            attention_mask = (data != 0).float().to(device)\n",
        "            data = data.to(device)\n",
        "            labels = labels.to(device)\n",
        "            optimizer.zero_grad()\n",
        "            output = model(data, attention_mask, labels)\n",
        "            loss, logits = output[0], output[1]\n",
        "            # print(logits.shape)\n",
        "            # break\n",
        "            for i in range(logits.shape[0]):\n",
        "                predictions = logits.argmax(dim=2)\n",
        "                acc = (predictions == labels).float().mean()\n",
        "                acc_train += acc\n",
        "                cur_loss_train += loss.item()\n",
        "            \n",
        "            loss.backward()\n",
        "            optimizer.step()\n",
        "\n",
        "        model.eval()\n",
        "        for data, labels in tqdm(val_dataloader):\n",
        "            attention_mask = (data != 0).float().to(device)\n",
        "            data = data.to(device)\n",
        "            labels = labels.to(device)\n",
        "            output = model(data, attention_mask, labels)\n",
        "            loss, logits = output[0], output[1]\n",
        "            for i in range(logits.shape[0]):\n",
        "                predictions = logits.argmax(dim=2)\n",
        "                acc = (predictions == labels).float().mean()\n",
        "                acc_val += acc\n",
        "                loss_val += loss.item()\n",
        "        \n",
        "        print(f'Epochs: {epoch + 1} | train Loss: {cur_loss_train / len(train_d): .3f} | train Accuracy: {acc_train / len(train_d): .3f}')\n",
        "        print(f'val Loss: {loss_val / len(val_d): .3f} | train Accuracy: {acc_val / len(val_d): .3f}')\n",
        "\n"
      ],
      "metadata": {
        "ExecuteTime": {
          "start_time": "2023-04-08T23:32:30.898713Z",
          "end_time": "2023-04-08T23:32:30.904245Z"
        },
        "id": "ren0bHvAzejF"
      }
    },
    {
      "cell_type": "code",
      "execution_count": 39,
      "outputs": [],
      "source": [
        "torch.cuda.empty_cache()"
      ],
      "metadata": {
        "ExecuteTime": {
          "start_time": "2023-04-08T23:32:30.905272Z",
          "end_time": "2023-04-08T23:32:30.910262Z"
        },
        "id": "7j7tmeuWzejG"
      }
    },
    {
      "cell_type": "code",
      "execution_count": 40,
      "outputs": [],
      "source": [
        "model = BertTokenClassification().to(device)"
      ],
      "metadata": {
        "ExecuteTime": {
          "start_time": "2023-04-08T23:32:30.911236Z",
          "end_time": "2023-04-08T23:32:37.997731Z"
        },
        "id": "IRxpxSv5zejH"
      }
    },
    {
      "cell_type": "code",
      "execution_count": 41,
      "outputs": [
        {
          "output_type": "stream",
          "name": "stderr",
          "text": [
            "100%|██████████| 562/562 [07:49<00:00,  1.20it/s]\n",
            "100%|██████████| 63/63 [00:14<00:00,  4.40it/s]\n"
          ]
        },
        {
          "output_type": "stream",
          "name": "stdout",
          "text": [
            "Epochs: 1 | train Loss:  1.282 | train Accuracy:  0.764\n",
            "val Loss:  1.168 | train Accuracy:  0.785\n"
          ]
        },
        {
          "output_type": "stream",
          "name": "stderr",
          "text": [
            "100%|██████████| 562/562 [07:56<00:00,  1.18it/s]\n",
            "100%|██████████| 63/63 [00:14<00:00,  4.40it/s]\n"
          ]
        },
        {
          "output_type": "stream",
          "name": "stdout",
          "text": [
            "Epochs: 2 | train Loss:  1.246 | train Accuracy:  0.767\n",
            "val Loss:  1.163 | train Accuracy:  0.785\n"
          ]
        },
        {
          "output_type": "stream",
          "name": "stderr",
          "text": [
            "100%|██████████| 562/562 [07:56<00:00,  1.18it/s]\n",
            "100%|██████████| 63/63 [00:14<00:00,  4.40it/s]"
          ]
        },
        {
          "output_type": "stream",
          "name": "stdout",
          "text": [
            "Epochs: 3 | train Loss:  1.242 | train Accuracy:  0.767\n",
            "val Loss:  1.171 | train Accuracy:  0.785\n"
          ]
        },
        {
          "output_type": "stream",
          "name": "stderr",
          "text": [
            "\n"
          ]
        }
      ],
      "source": [
        "train_loop(model, train_data, val_data)"
      ],
      "metadata": {
        "ExecuteTime": {
          "start_time": "2023-04-08T22:53:15.769398Z",
          "end_time": "2023-04-08T22:53:16.643053Z"
        },
        "id": "D6YIW600zejH",
        "outputId": "b6ba86cb-56c1-4c05-9dd7-64be3d3980a9",
        "colab": {
          "base_uri": "https://localhost:8080/"
        }
      }
    },
    {
      "cell_type": "code",
      "execution_count": 45,
      "outputs": [],
      "source": [
        "test_dir = 'test_data/'"
      ],
      "metadata": {
        "ExecuteTime": {
          "start_time": "2023-04-08T22:53:01.293656Z",
          "end_time": "2023-04-08T22:53:01.337980Z"
        },
        "id": "6wiXcOA_zejI"
      }
    },
    {
      "cell_type": "code",
      "execution_count": 58,
      "outputs": [],
      "source": [
        "texts = []\n",
        "f_names = []\n",
        "for file_name in os.listdir(test_dir):\n",
        "    file_path = test_dir + file_name\n",
        "    # print(file_name)\n",
        "    if file_name.split('.')[1] == 'txt':\n",
        "        with open(file_path) as f:\n",
        "            cur_text = f.read()\n",
        "        texts.append(cur_text)\n",
        "        f_names.append(file_name)\n",
        "\n",
        "test_df = pd.DataFrame({'fName': f_names, 'text' : texts})"
      ],
      "metadata": {
        "ExecuteTime": {
          "start_time": "2023-04-08T22:53:01.336762Z",
          "end_time": "2023-04-08T22:53:01.338118Z"
        },
        "id": "lgUYggwwzejJ"
      }
    },
    {
      "cell_type": "code",
      "source": [
        "test_df['tokenized_text'] = test_df['text'].apply(tokenizer.tokenize)"
      ],
      "metadata": {
        "id": "-4v2asHkLyu_"
      },
      "execution_count": 62,
      "outputs": []
    },
    {
      "cell_type": "code",
      "source": [
        "test_df['tokenized_text'] = test_df['tokenized_text'].apply(lambda x: ['START'] + x + ['END'])"
      ],
      "metadata": {
        "id": "J2UEmHRGN9dy"
      },
      "execution_count": 68,
      "outputs": []
    },
    {
      "cell_type": "code",
      "source": [
        "test_df['tokenized_text'].apply(len).hist(bins=50)"
      ],
      "metadata": {
        "colab": {
          "base_uri": "https://localhost:8080/",
          "height": 447
        },
        "id": "nF7ae5gOOmup",
        "outputId": "0a01746b-8f06-47de-f907-72df9c507d3f"
      },
      "execution_count": 73,
      "outputs": [
        {
          "output_type": "execute_result",
          "data": {
            "text/plain": [
              "<Axes: >"
            ]
          },
          "metadata": {},
          "execution_count": 73
        },
        {
          "output_type": "display_data",
          "data": {
            "text/plain": [
              "<Figure size 640x480 with 1 Axes>"
            ],
            "image/png": "[encoded data removed]"
          },
          "metadata": {}
        }
      ]
    },
    {
      "cell_type": "code",
      "source": [
        "test_df[\"tokenizer_output\"] = test_df[\"text\"].apply(\n",
        "    lambda x: tokenizer(x, return_tensors=\"pt\", padding=True, truncation=True)\n",
        ")"
      ],
      "metadata": {
        "id": "fSGrrN3rPSs1"
      },
      "execution_count": 74,
      "outputs": []
    },
    {
      "cell_type": "code",
      "source": [
        "test_df"
      ],
      "metadata": {
        "colab": {
          "base_uri": "https://localhost:8080/",
          "height": 424
        },
        "id": "V1ELtguCS8bw",
        "outputId": "7d84b8fe-1452-493d-bf9a-fc509682a4ff"
      },
      "execution_count": 76,
      "outputs": [
        {
          "output_type": "execute_result",
          "data": {
            "text/plain": [
              "              fName                                               text  \\\n",
              "0   187827_text.txt  Bellingcat и The Insider: Александр Петров — в...   \n",
              "1          1136.txt  Медалью ордена \"За заслуги перед Чувашской Рес...   \n",
              "2   185911_text.txt  Нобелевский лауреат «случайно» поддержал повыш...   \n",
              "3   193267_text.txt  Сборная России победила на чемпионате мира по ...   \n",
              "4   180710_text.txt  Джон Маккейн отказался от дальнейшего лечения ...   \n",
              "..              ...                                                ...   \n",
              "87  187083_text.txt  Нобелевскую премию мира вручили за борьбу с се...   \n",
              "88  548033_text.txt  Билл Гейтс покинул совет директоров Microsoft\\...   \n",
              "89  192238_text.txt  Полноценная встреча Трампа с Путиным не состои...   \n",
              "90         1167.txt  \\nПреемника Марины Лошак на должности главы \"М...   \n",
              "91  547252_text.txt  Скончался актёр Макс фон Сюдов\\nМакс фон Сюдов...   \n",
              "\n",
              "                                       tokenized_text  \\\n",
              "0   [START, ▁Bell, ing, cat, ▁и, ▁The, ▁Insider, :...   \n",
              "1   [START, ▁Ме, даль, ю, ▁орден, а, ▁\", За, ▁засл...   \n",
              "2   [START, ▁Но, бел, евски, й, ▁лауреат, ▁«, слу,...   \n",
              "3   [START, ▁С, бор, ная, ▁России, ▁победи, ла, ▁н...   \n",
              "4   [START, ▁Джон, ▁Мак, ке, йн, ▁отказа, лся, ▁от...   \n",
              "..                                                ...   \n",
              "87  [START, ▁Но, беле, в, скую, ▁прем, ию, ▁мира, ...   \n",
              "88  [START, ▁Бил, л, ▁Ге, йт, с, ▁поки, нул, ▁сове...   \n",
              "89  [START, ▁Пол, но, цен, ная, ▁встреча, ▁Трампа,...   \n",
              "90  [START, ▁Пре, ем, ника, ▁Марин, ы, ▁Ло, шак, ▁...   \n",
              "91  [START, ▁С, кон, ча, лся, ▁акт, ёр, ▁Макс, ▁фо...   \n",
              "\n",
              "               tokenizer_output  \n",
              "0   [input_ids, attention_mask]  \n",
              "1   [input_ids, attention_mask]  \n",
              "2   [input_ids, attention_mask]  \n",
              "3   [input_ids, attention_mask]  \n",
              "4   [input_ids, attention_mask]  \n",
              "..                          ...  \n",
              "87  [input_ids, attention_mask]  \n",
              "88  [input_ids, attention_mask]  \n",
              "89  [input_ids, attention_mask]  \n",
              "90  [input_ids, attention_mask]  \n",
              "91  [input_ids, attention_mask]  \n",
              "\n",
              "[92 rows x 4 columns]"
            ],
            "text/html": [
              "\n",
              "  <div id=\"df-49a8d997-e322-4307-bd5b-406dd7aa21f6\">\n",
              "    <div class=\"colab-df-container\">\n",
              "      <div>\n",
              "<style scoped>\n",
              "    .dataframe tbody tr th:only-of-type {\n",
              "        vertical-align: middle;\n",
              "    }\n",
              "\n",
              "    .dataframe tbody tr th {\n",
              "        vertical-align: top;\n",
              "    }\n",
              "\n",
              "    .dataframe thead th {\n",
              "        text-align: right;\n",
              "    }\n",
              "</style>\n",
              "<table border=\"1\" class=\"dataframe\">\n",
              "  <thead>\n",
              "    <tr style=\"text-align: right;\">\n",
              "      <th></th>\n",
              "      <th>fName</th>\n",
              "      <th>text</th>\n",
              "      <th>tokenized_text</th>\n",
              "      <th>tokenizer_output</th>\n",
              "    </tr>\n",
              "  </thead>\n",
              "  <tbody>\n",
              "    <tr>\n",
              "      <th>0</th>\n",
              "      <td>187827_text.txt</td>\n",
              "      <td>Bellingcat и The Insider: Александр Петров — в...</td>\n",
              "      <td>[START, ▁Bell, ing, cat, ▁и, ▁The, ▁Insider, :...</td>\n",
              "      <td>[input_ids, attention_mask]</td>\n",
              "    </tr>\n",
              "    <tr>\n",
              "      <th>1</th>\n",
              "      <td>1136.txt</td>\n",
              "      <td>Медалью ордена \"За заслуги перед Чувашской Рес...</td>\n",
              "      <td>[START, ▁Ме, даль, ю, ▁орден, а, ▁\", За, ▁засл...</td>\n",
              "      <td>[input_ids, attention_mask]</td>\n",
              "    </tr>\n",
              "    <tr>\n",
              "      <th>2</th>\n",
              "      <td>185911_text.txt</td>\n",
              "      <td>Нобелевский лауреат «случайно» поддержал повыш...</td>\n",
              "      <td>[START, ▁Но, бел, евски, й, ▁лауреат, ▁«, слу,...</td>\n",
              "      <td>[input_ids, attention_mask]</td>\n",
              "    </tr>\n",
              "    <tr>\n",
              "      <th>3</th>\n",
              "      <td>193267_text.txt</td>\n",
              "      <td>Сборная России победила на чемпионате мира по ...</td>\n",
              "      <td>[START, ▁С, бор, ная, ▁России, ▁победи, ла, ▁н...</td>\n",
              "      <td>[input_ids, attention_mask]</td>\n",
              "    </tr>\n",
              "    <tr>\n",
              "      <th>4</th>\n",
              "      <td>180710_text.txt</td>\n",
              "      <td>Джон Маккейн отказался от дальнейшего лечения ...</td>\n",
              "      <td>[START, ▁Джон, ▁Мак, ке, йн, ▁отказа, лся, ▁от...</td>\n",
              "      <td>[input_ids, attention_mask]</td>\n",
              "    </tr>\n",
              "    <tr>\n",
              "      <th>...</th>\n",
              "      <td>...</td>\n",
              "      <td>...</td>\n",
              "      <td>...</td>\n",
              "      <td>...</td>\n",
              "    </tr>\n",
              "    <tr>\n",
              "      <th>87</th>\n",
              "      <td>187083_text.txt</td>\n",
              "      <td>Нобелевскую премию мира вручили за борьбу с се...</td>\n",
              "      <td>[START, ▁Но, беле, в, скую, ▁прем, ию, ▁мира, ...</td>\n",
              "      <td>[input_ids, attention_mask]</td>\n",
              "    </tr>\n",
              "    <tr>\n",
              "      <th>88</th>\n",
              "      <td>548033_text.txt</td>\n",
              "      <td>Билл Гейтс покинул совет директоров Microsoft\\...</td>\n",
              "      <td>[START, ▁Бил, л, ▁Ге, йт, с, ▁поки, нул, ▁сове...</td>\n",
              "      <td>[input_ids, attention_mask]</td>\n",
              "    </tr>\n",
              "    <tr>\n",
              "      <th>89</th>\n",
              "      <td>192238_text.txt</td>\n",
              "      <td>Полноценная встреча Трампа с Путиным не состои...</td>\n",
              "      <td>[START, ▁Пол, но, цен, ная, ▁встреча, ▁Трампа,...</td>\n",
              "      <td>[input_ids, attention_mask]</td>\n",
              "    </tr>\n",
              "    <tr>\n",
              "      <th>90</th>\n",
              "      <td>1167.txt</td>\n",
              "      <td>\\nПреемника Марины Лошак на должности главы \"М...</td>\n",
              "      <td>[START, ▁Пре, ем, ника, ▁Марин, ы, ▁Ло, шак, ▁...</td>\n",
              "      <td>[input_ids, attention_mask]</td>\n",
              "    </tr>\n",
              "    <tr>\n",
              "      <th>91</th>\n",
              "      <td>547252_text.txt</td>\n",
              "      <td>Скончался актёр Макс фон Сюдов\\nМакс фон Сюдов...</td>\n",
              "      <td>[START, ▁С, кон, ча, лся, ▁акт, ёр, ▁Макс, ▁фо...</td>\n",
              "      <td>[input_ids, attention_mask]</td>\n",
              "    </tr>\n",
              "  </tbody>\n",
              "</table>\n",
              "<p>92 rows × 4 columns</p>\n",
              "</div>\n",
              "      <button class=\"colab-df-convert\" onclick=\"convertToInteractive('df-49a8d997-e322-4307-bd5b-406dd7aa21f6')\"\n",
              "              title=\"Convert this dataframe to an interactive table.\"\n",
              "              style=\"display:none;\">\n",
              "        \n",
              "  <svg xmlns=\"http://www.w3.org/2000/svg\" height=\"24px\"viewBox=\"0 0 24 24\"\n",
              "       width=\"24px\">\n",
              "    <path d=\"M0 0h24v24H0V0z\" fill=\"none\"/>\n",
              "    <path d=\"M18.56 5.44l.94 2.06.94-2.06 2.06-.94-2.06-.94-.94-2.06-.94 2.06-2.06.94zm-11 1L8.5 8.5l.94-2.06 2.06-.94-2.06-.94L8.5 2.5l-.94 2.06-2.06.94zm10 10l.94 2.06.94-2.06 2.06-.94-2.06-.94-.94-2.06-.94 2.06-2.06.94z\"/><path d=\"M17.41 7.96l-1.37-1.37c-.4-.4-.92-.59-1.43-.59-.52 0-1.04.2-1.43.59L10.3 9.45l-7.72 7.72c-.78.78-.78 2.05 0 2.83L4 21.41c.39.39.9.59 1.41.59.51 0 1.02-.2 1.41-.59l7.78-7.78 2.81-2.81c.8-.78.8-2.07 0-2.86zM5.41 20L4 18.59l7.72-7.72 1.47 1.35L5.41 20z\"/>\n",
              "  </svg>\n",
              "      </button>\n",
              "      \n",
              "  <style>\n",
              "    .colab-df-container {\n",
              "      display:flex;\n",
              "      flex-wrap:wrap;\n",
              "      gap: 12px;\n",
              "    }\n",
              "\n",
              "    .colab-df-convert {\n",
              "      background-color: #E8F0FE;\n",
              "      border: none;\n",
              "      border-radius: 50%;\n",
              "      cursor: pointer;\n",
              "      display: none;\n",
              "      fill: #1967D2;\n",
              "      height: 32px;\n",
              "      padding: 0 0 0 0;\n",
              "      width: 32px;\n",
              "    }\n",
              "\n",
              "    .colab-df-convert:hover {\n",
              "      background-color: #E2EBFA;\n",
              "      box-shadow: 0px 1px 2px rgba(60, 64, 67, 0.3), 0px 1px 3px 1px rgba(60, 64, 67, 0.15);\n",
              "      fill: #174EA6;\n",
              "    }\n",
              "\n",
              "    [theme=dark] .colab-df-convert {\n",
              "      background-color: #3B4455;\n",
              "      fill: #D2E3FC;\n",
              "    }\n",
              "\n",
              "    [theme=dark] .colab-df-convert:hover {\n",
              "      background-color: #434B5C;\n",
              "      box-shadow: 0px 1px 3px 1px rgba(0, 0, 0, 0.15);\n",
              "      filter: drop-shadow(0px 1px 2px rgba(0, 0, 0, 0.3));\n",
              "      fill: #FFFFFF;\n",
              "    }\n",
              "  </style>\n",
              "\n",
              "      <script>\n",
              "        const buttonEl =\n",
              "          document.querySelector('#df-49a8d997-e322-4307-bd5b-406dd7aa21f6 button.colab-df-convert');\n",
              "        buttonEl.style.display =\n",
              "          google.colab.kernel.accessAllowed ? 'block' : 'none';\n",
              "\n",
              "        async function convertToInteractive(key) {\n",
              "          const element = document.querySelector('#df-49a8d997-e322-4307-bd5b-406dd7aa21f6');\n",
              "          const dataTable =\n",
              "            await google.colab.kernel.invokeFunction('convertToInteractive',\n",
              "                                                     [key], {});\n",
              "          if (!dataTable) return;\n",
              "\n",
              "          const docLinkHtml = 'Like what you see? Visit the ' +\n",
              "            '<a target=\"_blank\" href=https://colab.research.google.com/notebooks/data_table.ipynb>data table notebook</a>'\n",
              "            + ' to learn more about interactive tables.';\n",
              "          element.innerHTML = '';\n",
              "          dataTable['output_type'] = 'display_data';\n",
              "          await google.colab.output.renderOutput(dataTable, element);\n",
              "          const docLink = document.createElement('div');\n",
              "          docLink.innerHTML = docLinkHtml;\n",
              "          element.appendChild(docLink);\n",
              "        }\n",
              "      </script>\n",
              "    </div>\n",
              "  </div>\n",
              "  "
            ]
          },
          "metadata": {},
          "execution_count": 76
        }
      ]
    },
    {
      "cell_type": "code",
      "source": [
        "def model_inference(text):\n",
        "    trash_symbols_count = []\n",
        "    for i in range(len(text)):\n",
        "        is_trash_symbol = 1 if (text[i] == \"\\n\" or text[i] == \"\\xa0\") else 0\n",
        "        if i == 0:\n",
        "            trash_symbols_count.append(is_trash_symbol)\n",
        "        else:\n",
        "            trash_symbols_count.append(trash_symbols_count[i-1] + is_trash_symbol)\n",
        "    \n",
        "    tokens = tokenizer.tokenize(text)\n",
        "    token_ids, attention_mask = tokenizer(text)\n",
        "\n",
        "    processed_symbols = -1 # cause of _ before the first token\n",
        "    for token in tokens:\n",
        "        begin = processed_symbols if processed_symbols >= 0 else 0\n",
        "        processed_symbols += len(token)\n",
        "        end = processed_symbols - trash_symbols_count[processed_symbols]\n",
        "        print(text[begin: end], ' ---- ', token, '(', begin, ' ', end, ')')\n"
      ],
      "metadata": {
        "id": "CmFj36WSUtey"
      },
      "execution_count": 100,
      "outputs": []
    },
    {
      "cell_type": "code",
      "source": [
        "sample_text = test_df['text'].iloc[0]\n",
        "model_inference(sample_text)\n",
        "sample_text"
      ],
      "metadata": {
        "colab": {
          "base_uri": "https://localhost:8080/",
          "height": 1000
        },
        "id": "reLG7nOdU5HT",
        "outputId": "2c0e19d7-8f16-4240-ebac-02db02ccb3c2"
      },
      "execution_count": 101,
      "outputs": [
        {
          "output_type": "stream",
          "name": "stdout",
          "text": [
            "Bell  ----  ▁Bell ( 0   4 )\n",
            "ing  ----  ing ( 4   7 )\n",
            "cat  ----  cat ( 7   10 )\n",
            " и  ----  ▁и ( 10   12 )\n",
            " The  ----  ▁The ( 12   16 )\n",
            " Insider  ----  ▁Insider ( 16   24 )\n",
            ":  ----  : ( 24   25 )\n",
            " Александр  ----  ▁Александр ( 25   35 )\n",
            " Петров  ----  ▁Петров ( 35   42 )\n",
            " —  ----  ▁— ( 42   44 )\n",
            " во  ----  ▁во ( 44   47 )\n",
            "енный  ----  енный ( 47   52 )\n",
            " врач  ----  ▁врач ( 52   57 )\n",
            " Г  ----  ▁Г ( 57   59 )\n",
            "РУ  ----  РУ ( 59   61 )\n",
            " Александр  ----  ▁Александр ( 61   71 )\n",
            " Миш  ----  ▁Миш ( 71   75 )\n",
            "ки  ----  кин ( 75   77 )\n",
            "\n",
            "П  ----  ▁По ( 78   80 )\n",
            "лице  ----  лицей ( 81   85 )\n",
            "ска  ----  ская ( 86   89 )\n",
            " пала  ----  ▁палат ( 90   95 )\n",
            "к  ----  ка ( 96   97 )\n",
            " на  ----  ▁над ( 98   101 )\n",
            " мест  ----  ▁место ( 102   107 )\n",
            "  ----  м ( 108   108 )\n",
            " гд  ----  ▁где ( 109   112 )\n",
            " был  ----  ▁были ( 113   117 )\n",
            " обнаруже  ----  ▁обнаружен ( 118   127 )\n",
            "  ----  ы ( 128   128 )\n",
            " о  ----  ▁от ( 129   131 )\n",
            "ра  ----  рав ( 132   134 )\n",
            "ле  ----  лен ( 135   137 )\n",
            "ны  ----  ные ( 138   140 )\n",
            " Серге  ----  ▁Сергей ( 141   147 )\n",
            "   ----  ▁и ( 148   149 )\n",
            "   ----  ▁Ю ( 150   151 )\n",
            "ли  ----  лия ( 152   154 )\n",
            "   ----  ▁С ( 155   156 )\n",
            "кр  ----  кри ( 157   159 )\n",
            "па  ----  паль ( 160   162 )\n",
            "\n",
            "Be  ----  ▁Bell ( 164   167 )\n",
            "i  ----  ing ( 169   170 )\n",
            "c  ----  cat ( 172   173 )\n",
            "  ----  ▁( ( 175   175 )\n",
            "  ----  ▁) ( 177   177 )\n",
            "  ----  ▁и ( 179   179 )\n",
            " T  ----  ▁The ( 181   183 )\n",
            " Insid  ----  ▁Insider ( 185   191 )\n",
            "  ----  ▁( ( 193   193 )\n",
            "  ----  ▁) ( 195   195 )\n",
            "  ----  ▁о ( 197   197 )\n",
            "п  ----  пуб ( 199   200 )\n",
            "лико  ----  ликова ( 202   206 )\n",
            "  ----  ли ( 208   208 )\n",
            " час  ----  ▁часть ( 210   214 )\n",
            " совмест  ----  ▁совместно ( 216   224 )\n",
            "  ----  го ( 226   226 )\n",
            " р  ----  ▁рас ( 228   230 )\n",
            "сл  ----  след ( 232   234 )\n",
            "ован  ----  ования ( 236   240 )\n",
            "  ----  , ( 242   241 )\n",
            "  ----  ▁в ( 243   243 )\n",
            " котор  ----  ▁котором ( 245   251 )\n",
            " утвержда  ----  ▁утверждает ( 253   262 )\n",
            "  ----  ся ( 264   264 )\n",
            "  ----  , ( 266   265 )\n",
            " ч  ----  ▁что ( 267   269 )\n",
            " п  ----  ▁под ( 271   273 )\n",
            " и  ----  ▁име ( 275   277 )\n",
            "н  ----  нем ( 279   280 )\n",
            "  ----  ▁« ( 282   282 )\n",
            "  ----  А ( 284   283 )\n",
            "л  ----  лек ( 285   286 )\n",
            "сан  ----  сандр ( 288   291 )\n",
            " Петр  ----  ▁Петров ( 293   298 )\n",
            "  ----  », ( 300   300 )\n",
            " которо  ----  ▁которого ( 302   309 )\n",
            " британс  ----  ▁британски ( 311   319 )\n",
            "  ----  е ( 321   320 )\n",
            "  ----  ▁ ( 322   321 )\n",
            "следоват  ----  следовател ( 323   331 )\n",
            "  ----  и ( 333   332 )\n",
            " обви  ----  ▁обвиня ( 334   339 )\n",
            "  ----  ют ( 341   341 )\n",
            "  ----  ▁в ( 343   343 )\n",
            "   ----  ▁от ( 345   346 )\n",
            "р  ----  рав ( 348   349 )\n",
            "лен  ----  лении ( 351   354 )\n",
            "  ----  ▁в ( 356   356 )\n",
            " С  ----  ▁Сол ( 358   360 )\n",
            "  ----  с ( 362   361 )\n",
            "бе  ----  бери ( 363   365 )\n",
            " разв  ----  ▁развед ( 367   372 )\n",
            "чи  ----  чика ( 374   376 )\n",
            " С  ----  ▁Сер ( 378   380 )\n",
            "  ----  ге ( 382   382 )\n",
            "  ----  я ( 384   383 )\n",
            "  ----  ▁С ( 385   385 )\n",
            "к  ----  кри ( 387   388 )\n",
            "  ----  па ( 390   390 )\n",
            "  ----  ля ( 392   392 )\n",
            "  ----  ▁и ( 394   394 )\n",
            " е  ----  ▁его ( 396   398 )\n",
            " доче  ----  ▁дочери ( 400   405 )\n",
            "  ----  ▁Ю ( 407   407 )\n",
            "  ----  ли ( 409   409 )\n",
            "  ----  и ( 411   410 )\n",
            "  ----  , ( 412   411 )\n",
            "  ----  ▁ ( 413   412 )\n",
            "с  ----  скр ( 414   415 )\n",
            "ывает  ----  ывается ( 417   422 )\n",
            "   ----  ▁во ( 424   425 )\n",
            "енн  ----  енный ( 427   430 )\n",
            " вр  ----  ▁врач ( 432   435 )\n",
            "  ----  ▁Г ( 437   437 )\n",
            "  ----  РУ ( 439   439 )\n",
            " Алексан  ----  ▁Александр ( 441   449 )\n",
            " М  ----  ▁Миш ( 451   453 )\n",
            "к  ----  кин ( 455   456 )\n",
            "  ----  . ( 458   456 )\n",
            "  ----  ▁И ( 459   458 )\n",
            "зда  ----  здание ( 461   464 )\n",
            " публ  ----  ▁публику ( 467   472 )\n",
            "  ----  ет ( 475   474 )\n",
            " с  ----  ▁скан ( 477   479 )\n",
            "   ----  ▁его ( 482   483 )\n",
            " оригина  ----  ▁оригинальн ( 486   494 )\n",
            "  ----  ого ( 497   497 )\n",
            " пасп  ----  ▁паспорт ( 500   505 )\n",
            "  ----  а ( 508   506 )\n",
            "  ----  . ( 509   506 )\n",
            "  ----  ▁Ра ( 510   508 )\n",
            "  ----  нее ( 513   511 )\n",
            "  ----  ▁Bell ( 516   516 )\n",
            "  ----  ing ( 521   519 )\n",
            "  ----  cat ( 524   522 )\n",
            "  ----  ▁и ( 527   524 )\n",
            "  ----  ▁The ( 529   528 )\n",
            "e I  ----  ▁Insider ( 533   536 )\n",
            "r  ----  ▁назва ( 541   542 )\n",
            "  ----  ли ( 547   544 )\n",
            "  ----  ▁имя ( 549   548 )\n",
            "я п  ----  ▁первого ( 553   556 )\n",
            "  ----  ▁ ( 561   557 )\n",
            "   ----  подозр ( 562   563 )\n",
            "  ----  ева ( 568   566 )\n",
            "  ----  емого ( 571   571 )\n",
            "  ----  ▁в ( 576   573 )\n",
            "  ----  ▁от ( 578   576 )\n",
            "  ----  рав ( 581   579 )\n",
            "  ----  лении ( 584   584 )\n",
            "  ----  ▁С ( 589   586 )\n",
            "  ----  кри ( 591   589 )\n",
            "  ----  па ( 594   591 )\n",
            "  ----  лей ( 596   594 )\n",
            "  ----  . ( 599   595 )\n",
            "  ----  ▁По ( 600   597 )\n",
            "  ----  ▁их ( 603   600 )\n",
            "х  ----  ▁данным ( 606   607 )\n",
            "  ----  ▁под ( 613   611 )\n",
            "  ----  ▁име ( 617   615 )\n",
            "  ----  нем ( 621   618 )\n",
            "  ----  ▁« ( 624   620 )\n",
            "  ----  Рус ( 626   623 )\n",
            "  ----  лан ( 629   626 )\n",
            "  ----  ▁Бо ( 632   629 )\n",
            "  ----  шир ( 635   632 )\n",
            "  ----  ов ( 638   634 )\n",
            "  ----  » ( 640   635 )\n",
            "  ----  ▁ ( 641   636 )\n",
            "  ----  скр ( 642   639 )\n",
            "р  ----  ывается ( 645   646 )\n",
            "  ----  ▁39 ( 652   649 )\n",
            "  ----  - ( 655   650 )\n",
            "  ----  летний ( 656   656 )\n",
            "  ----  ▁ ( 662   657 )\n",
            " по  ----  полковник ( 663   666 )\n",
            "  ----  ▁Г ( 672   668 )\n",
            "  ----  РУ ( 674   670 )\n",
            "  ----  ▁Гер ( 676   674 )\n",
            "  ----  ой ( 680   676 )\n",
            "й  ----  ▁России ( 682   683 )\n",
            "и  ----  ▁Анатол ( 689   690 )\n",
            "  ----  ий ( 696   692 )\n",
            "  ----  ▁Че ( 698   695 )\n",
            "  ----  пи ( 701   697 )\n",
            "  ----  га ( 703   699 )\n",
            "  ----  . ( 705   700 )\n",
            "  ----  ▁Эта ( 706   703 )\n",
            "а ин  ----  ▁информация ( 710   714 )\n",
            "я впос  ----  ▁впоследствии ( 721   727 )\n",
            "  ----  ▁кос ( 734   731 )\n",
            "  ----  вен ( 738   734 )\n",
            "  ----  но ( 741   736 )\n",
            "о по  ----  ▁подтвердил ( 743   747 )\n",
            "  ----  ась ( 754   750 )\n",
            "ь  ----  ▁другими ( 757   758 )\n",
            "  ----  ▁СМИ ( 765   762 )\n",
            "  ----  . ( 769   763 )\n",
            "  ----  ▁Из ( 770   764 )\n",
            "  ----  да ( 773   766 )\n",
            "  ----  ния ( 775   769 )\n",
            "ия  ----  ▁утверждают ( 778   780 )\n",
            "  ----  , ( 789   781 )\n",
            "  ----  ▁что ( 790   785 )\n",
            "  ----  ▁Миш ( 794   789 )\n",
            "  ----  кин ( 798   792 )\n",
            "  ----  ▁родился ( 801   800 )\n",
            "  ----  ▁13 ( 809   803 )\n",
            "  ----  ▁июля ( 812   808 )\n",
            "  ----  ▁1979 ( 817   813 )\n",
            "  ----  ▁года ( 822   818 )\n",
            "  ----  ▁в ( 827   820 )\n",
            "  ----  ▁се ( 829   823 )\n",
            "  ----  ле ( 832   825 )\n",
            "  ----  ▁Ло ( 834   828 )\n",
            "  ----  й ( 837   829 )\n",
            "  ----  га ( 838   831 )\n",
            "  ----  ▁в ( 840   833 )\n",
            "  ----  ▁Ар ( 842   836 )\n",
            "  ----  хан ( 845   839 )\n",
            "  ----  гель ( 848   843 )\n",
            "  ----  ской ( 852   847 )\n",
            "  ----  ▁области ( 856   855 )\n",
            "  ----  . ( 864   856 )\n",
            "  ----  ▁Он ( 865   857 )\n",
            "  ----  ▁получил ( 868   865 )\n",
            "  ----  ▁медицинско ( 876   876 )\n",
            "  ----  е ( 887   877 )\n",
            "к  ----  ▁образование ( 888   889 )\n",
            "  ----  ▁в ( 900   891 )\n",
            "  ----  ▁« ( 902   893 )\n",
            "  ----  од ( 904   895 )\n",
            "  ----  ной ( 906   898 )\n",
            "  ----  ▁из ( 909   901 )\n",
            "  ----  ▁военных ( 912   909 )\n",
            "  ----  ▁академ ( 920   916 )\n",
            "  ----  ий ( 927   918 )\n",
            "  ----  ». ( 929   920 )\n",
            "  ----  ▁Як ( 931   922 )\n",
            "  ----  о ( 934   923 )\n",
            "  ----  бы ( 935   925 )\n",
            "  ----  ▁во ( 937   928 )\n",
            "  ----  ▁время ( 940   934 )\n",
            "  ----  ▁обучения ( 946   943 )\n",
            "  ----  ▁ему ( 955   947 )\n",
            "  ----  ▁предложил ( 959   957 )\n",
            "  ----  и ( 969   958 )\n",
            "  ----  ▁работать ( 970   967 )\n",
            "  ----  ▁в ( 979   969 )\n",
            "  ----  ▁Г ( 981   971 )\n",
            "  ----  РУ ( 983   973 )\n",
            "  ----  . ( 985   974 )\n",
            "  ----  ▁В ( 986   976 )\n",
            "  ----  ▁2010 ( 988   979 )\n",
            "  ----  ▁году ( 993   984 )\n",
            "  ----  ▁во ( 998   987 )\n",
            "  ----  енный ( 1001   992 )\n",
            "  ----  ▁врач ( 1006   997 )\n",
            "  ----  ▁Г ( 1011   999 )\n",
            "  ----  РУ ( 1013   1001 )\n",
            "  ----  ▁Александр ( 1015   1011 )\n",
            "  ----  ▁Миш ( 1025   1015 )\n",
            "  ----  кин ( 1029   1018 )\n",
            "  ----  ▁пере ( 1032   1023 )\n",
            "  ----  е ( 1037   1024 )\n",
            "  ----  хал ( 1038   1027 )\n",
            "  ----  ▁в ( 1041   1029 )\n",
            "  ----  ▁Москву ( 1043   1036 )\n",
            "  ----  , ( 1050   1037 )\n",
            "  ----  ▁где ( 1051   1041 )\n",
            "  ----  ▁получил ( 1055   1049 )\n",
            "  ----  ▁имя ( 1063   1053 )\n",
            "  ----  ▁« ( 1067   1055 )\n",
            "  ----  А ( 1069   1056 )\n",
            "  ----  лек ( 1070   1059 )\n",
            "  ----  сандр ( 1073   1064 )\n",
            "  ----  ▁Петров ( 1078   1071 )\n",
            "  ----  ». ( 1085   1073 )\n",
            "  ----  ▁От ( 1087   1076 )\n",
            "  ----  меча ( 1090   1078 )\n",
            "  ----  ется ( 1094   1082 )\n",
            "  ----  , ( 1098   1083 )\n",
            "  ----  ▁что ( 1099   1087 )\n",
            "  ----  ▁в ( 1103   1089 )\n",
            "  ----  ▁легенд ( 1105   1096 )\n",
            "  ----  у ( 1112   1097 )\n",
            "  ----  ▁о ( 1113   1099 )\n",
            "  ----  ▁Петров ( 1115   1106 )\n",
            "  ----  е ( 1122   1107 )\n",
            "  ----  ▁взят ( 1123   1112 )\n",
            "  ----  о ( 1128   1113 )\n",
            "  ----  ▁много ( 1129   1119 )\n",
            "  ----  ▁из ( 1135   1122 )\n",
            "  ----  ▁биографи ( 1138   1131 )\n",
            "  ----  и ( 1147   1132 )\n",
            "  ----  ▁реально ( 1148   1140 )\n",
            "  ----  го ( 1156   1142 )\n",
            "  ----  ▁Ми ( 1158   1145 )\n",
            "  ----  шки ( 1161   1148 )\n",
            "  ----  на ( 1164   1150 )\n",
            "  ----  ▁— ( 1166   1152 )\n",
            "  ----  ▁имя ( 1168   1155 )\n",
            "  ----  , ( 1172   1156 )\n",
            "  ----  ▁от ( 1173   1159 )\n",
            "  ----  чество ( 1176   1165 )\n",
            "  ----  , ( 1182   1166 )\n",
            "  ----  ▁область ( 1183   1174 )\n",
            "  ----  , ( 1191   1175 )\n",
            "  ----  ▁где ( 1192   1179 )\n",
            "  ----  ▁он ( 1196   1182 )\n",
            "  ----  ▁родился ( 1199   1190 )\n",
            "  ----  , ( 1207   1191 )\n",
            "  ----  ▁и ( 1208   1193 )\n",
            "  ----  ▁имена ( 1210   1199 )\n",
            "  ----  ▁родителей ( 1216   1209 )\n",
            "  ----  . ( 1226   1210 )\n",
            "  ----  ▁До ( 1227   1213 )\n",
            "  ----  ▁начала ( 1230   1218 )\n",
            "  ----  ▁сентября ( 1237   1227 )\n",
            "  ----  ▁2014 ( 1246   1232 )\n",
            "  ----  ▁года ( 1251   1237 )\n",
            "  ----  ▁в ( 1256   1239 )\n",
            "  ----  ▁качестве ( 1258   1248 )\n",
            "  ----  ▁ ( 1267   1249 )\n",
            "  ----  домашн ( 1268   1255 )\n",
            "  ----  его ( 1274   1258 )\n",
            "  ----  ▁адреса ( 1277   1265 )\n",
            "  ----  ▁Ми ( 1284   1268 )\n",
            "  ----  шки ( 1287   1271 )\n",
            "  ----  на ( 1290   1273 )\n",
            "  ----  ▁в ( 1292   1275 )\n",
            "  ----  ▁Москве ( 1294   1282 )\n",
            "  ----  ▁было ( 1301   1287 )\n",
            "  ----  ▁указан ( 1306   1294 )\n",
            "  ----  о ( 1313   1295 )\n",
            "  ----  ▁Хорош ( 1314   1301 )\n",
            "  ----  ё ( 1320   1302 )\n",
            "  ----  в ( 1321   1303 )\n",
            "  ----  ское ( 1322   1307 )\n",
            "  ----  ▁шо ( 1326   1310 )\n",
            "  ----  с ( 1329   1311 )\n",
            "  ----  се ( 1330   1313 )\n",
            "  ----  , ( 1332   1314 )\n",
            "  ----  ▁дом ( 1333   1318 )\n",
            "  ----  ▁76 ( 1337   1321 )\n",
            "  ----  Б ( 1340   1322 )\n",
            "  ----  , ( 1341   1323 )\n",
            "  ----  ▁где ( 1342   1327 )\n",
            "  ----  ▁находится ( 1346   1337 )\n",
            "  ----  ▁штаб ( 1356   1342 )\n",
            "  ----  - ( 1361   1343 )\n",
            "  ----  квартир ( 1362   1350 )\n",
            "  ----  а ( 1369   1351 )\n",
            "  ----  ▁Г ( 1370   1353 )\n",
            "  ----  РУ ( 1372   1355 )\n",
            "  ----  . ( 1374   1356 )\n",
            "  ----  ▁Миш ( 1375   1360 )\n",
            "  ----  кин ( 1379   1361 )\n",
            "  ----  ▁несколько ( 1382   1371 )\n",
            "  ----  ▁раз ( 1392   1375 )\n",
            "  ----  ▁ ( 1396   1376 )\n",
            "  ----  езд ( 1397   1379 )\n",
            "  ----  ил ( 1400   1381 )\n",
            "  ----  ▁в ( 1402   1383 )\n",
            "  ----  ▁командир ( 1404   1392 )\n",
            "  ----  ов ( 1413   1394 )\n",
            "  ----  ку ( 1415   1396 )\n",
            "  ----  ▁в ( 1417   1398 )\n",
            "  ----  ▁При ( 1419   1402 )\n",
            "  ----  дне ( 1423   1405 )\n",
            "  ----  стро ( 1426   1409 )\n",
            "  ----  в ( 1430   1410 )\n",
            "  ----  ье ( 1431   1412 )\n",
            "  ----  ▁и ( 1433   1414 )\n",
            "  ----  ▁Украин ( 1435   1421 )\n",
            "  ----  у ( 1442   1422 )\n",
            "  ----  . ( 1443   1423 )\n",
            "  ----  ▁О ( 1444   1425 )\n",
            "  ----  сен ( 1446   1428 )\n",
            "  ----  ью ( 1449   1429 )\n",
            "  ----  ▁2014 ( 1451   1433 )\n",
            "  ----  ▁года ( 1456   1438 )\n",
            "  ----  ▁Миш ( 1461   1442 )\n",
            "  ----  кин ( 1465   1445 )\n",
            "  ----  ▁и ( 1468   1447 )\n",
            "  ----  ▁Че ( 1470   1450 )\n",
            "  ----  пи ( 1473   1452 )\n",
            "  ----  га ( 1475   1454 )\n",
            "  ----  ▁пере ( 1477   1459 )\n",
            "  ----  бра ( 1482   1462 )\n",
            "  ----  лись ( 1485   1466 )\n",
            "  ----  , ( 1489   1467 )\n",
            "  ----  ▁по ( 1490   1470 )\n",
            "  ----  ▁утвержден ( 1493   1480 )\n",
            "  ----  ию ( 1503   1482 )\n",
            "  ----  ▁изда ( 1505   1487 )\n",
            "  ----  ний ( 1510   1490 )\n",
            "  ----  , ( 1513   1491 )\n",
            "  ----  ▁в ( 1514   1493 )\n",
            "  ----  ▁« ( 1516   1495 )\n",
            "  ----  вы ( 1518   1497 )\n",
            "  ----  со ( 1520   1499 )\n",
            "  ----  ко ( 1522   1501 )\n",
            "  ----  класс ( 1524   1506 )\n",
            "  ----  ные ( 1529   1509 )\n",
            "  ----  ▁квартиры ( 1532   1518 )\n",
            "  ----  ». ( 1541   1520 )\n",
            "  ----  ▁Журналист ( 1543   1528 )\n",
            "  ----  ы ( 1553   1529 )\n",
            "  ----  ▁не ( 1554   1532 )\n",
            "  ----  ▁смогли ( 1557   1539 )\n",
            "  ----  ▁установить ( 1564   1550 )\n",
            "  ----  ▁точно ( 1575   1556 )\n",
            "  ----  е ( 1581   1557 )\n",
            "  ----  ▁з ( 1582   1559 )\n",
            "  ----  вание ( 1584   1564 )\n",
            "  ----  ▁Ми ( 1589   1567 )\n",
            "  ----  шки ( 1592   1570 )\n",
            "  ----  на ( 1595   1572 )\n",
            "  ----  , ( 1597   1573 )\n",
            "  ----  ▁однако ( 1598   1580 )\n",
            "  ----  ▁предполага ( 1605   1591 )\n",
            "  ----  ют ( 1616   1593 )\n",
            "  ----  , ( 1618   1594 )\n",
            "  ----  ▁что ( 1619   1598 )\n",
            "  ----  ▁на ( 1623   1601 )\n",
            "  ----  ▁момент ( 1626   1608 )\n",
            "  ----  ▁от ( 1633   1611 )\n",
            "  ----  рав ( 1636   1614 )\n",
            "  ----  ления ( 1639   1619 )\n",
            "  ----  ▁С ( 1644   1621 )\n",
            "  ----  кри ( 1646   1624 )\n",
            "  ----  па ( 1649   1626 )\n",
            "  ----  лей ( 1651   1629 )\n",
            "  ----  ▁он ( 1654   1632 )\n",
            "  ----  ▁имел ( 1657   1637 )\n",
            "  ----  ▁з ( 1662   1639 )\n",
            "  ----  вание ( 1664   1644 )\n",
            "  ----  ▁либо ( 1669   1649 )\n",
            "  ----  ▁под ( 1674   1653 )\n",
            "  ----  полковник ( 1678   1662 )\n",
            "  ----  а ( 1687   1663 )\n",
            "  ----  , ( 1688   1664 )\n",
            "  ----  ▁либо ( 1689   1669 )\n",
            "  ----  ▁ ( 1694   1670 )\n",
            "  ----  полковник ( 1695   1679 )\n",
            "  ----  а ( 1704   1680 )\n",
            "  ----  . ( 1705   1681 )\n",
            "  ----  ▁Пол ( 1706   1685 )\n",
            "  ----  ный ( 1710   1688 )\n",
            "  ----  ▁текст ( 1713   1692 )\n",
            "  ----  ▁рас ( 1719   1696 )\n",
            "  ----  след ( 1723   1700 )\n",
            "  ----  ования ( 1727   1706 )\n",
            "  ----  ▁журналист ( 1733   1716 )\n",
            "  ----  ы ( 1743   1717 )\n",
            "  ----  ▁обеща ( 1744   1723 )\n",
            "  ----  ют ( 1750   1725 )\n",
            "  ----  ▁о ( 1752   1727 )\n",
            "  ----  пуб ( 1754   1730 )\n",
            "  ----  ликова ( 1757   1736 )\n",
            "  ----  ть ( 1763   1738 )\n",
            "  ----  ▁9 ( 1765   1740 )\n",
            "  ----  ▁октября ( 1767   1748 )\n",
            "  ----  ▁в ( 1775   1750 )\n",
            "  ----  ▁13:00 ( 1777   1756 )\n",
            "  ----  ▁по ( 1783   1759 )\n",
            "  ----  ▁мест ( 1786   1764 )\n",
            "  ----  ному ( 1791   1768 )\n",
            "  ----  ▁времени ( 1795   1776 )\n",
            "  ----  ▁( ( 1803   1778 )\n",
            "  ----  в ( 1805   1779 )\n",
            "  ----  ▁15:00 ( 1806   1785 )\n",
            "  ----  ▁м ( 1812   1787 )\n",
            "  ----  ск ( 1814   1789 )\n",
            "  ----  ). ( 1816   1791 )\n"
          ]
        },
        {
          "output_type": "execute_result",
          "data": {
            "text/plain": [
              "'Bellingcat и The Insider: Александр Петров — военный врач ГРУ Александр Мишкин\\nПолицейская палатка над местом где были обнаружены отравленные Сергей и Юлия Скрипаль\\nBellingcat ( ) и The Insider ( ) опубликовали часть совместного расследования, в котором утверждается, что под именем «Александр Петров», которого британские следователи обвиняют в отравлении в Солсбери разведчика Сергея Скрипаля и его дочери Юлии, скрывается военный врач ГРУ Александр Мишкин.\\nИздание публикует скан его оригинального паспорта.\\n\\nРанее Bellingcat и The Insider назвали имя первого подозреваемого в отравлении Скрипалей.\\nПо их данным под именем «Руслан Боширов» скрывается 39-летний полковник ГРУ Герой России Анатолий Чепига.\\nЭта информация впоследствии косвенно подтвердилась другими СМИ.\\n\\nИздания утверждают, что Мишкин родился 13 июля 1979 года в селе Лойга в Архангельской области.\\n\\nОн получил медицинское образование в «одной из военных академий».\\nЯкобы во время обучения ему предложили работать в ГРУ.\\n\\nВ 2010 году военный врач ГРУ Александр Мишкин переехал в Москву, где получил имя «Александр Петров».\\n\\nОтмечается, что в легенду о Петрове взято много из биографии реального Мишкина\\xa0— имя, отчество, область, где он родился, и имена родителей.\\n\\nДо начала сентября 2014 года в качестве домашнего адреса Мишкина в Москве было указано Хорошёвское шоссе, дом 76Б, где находится штаб-квартира ГРУ.\\n\\nМишкин несколько раз ездил в командировку в Приднестровье и Украину.\\n\\nОсенью 2014 года Мишкин и Чепига перебрались, по утверждению изданий, в «высококлассные квартиры».\\n\\nЖурналисты не смогли установить точное звание Мишкина, однако предполагают, что на момент отравления Скрипалей он имел звание либо подполковника, либо полковника.\\n\\nПолный текст расследования журналисты обещают опубликовать 9 октября в 13:00 по местному времени (в 15:00 мск).\\n'"
            ],
            "application/vnd.google.colaboratory.intrinsic+json": {
              "type": "string"
            }
          },
          "metadata": {},
          "execution_count": 101
        }
      ]
    }
  ],
  "metadata": {
    "kernelspec": {
      "display_name": "Python 3",
      "language": "python",
      "name": "python3"
    },
    "language_info": {
      "codemirror_mode": {
        "name": "ipython",
        "version": 2
      },
      "file_extension": ".py",
      "mimetype": "text/x-python",
      "name": "python",
      "nbconvert_exporter": "python",
      "pygments_lexer": "ipython2",
      "version": "2.7.6"
    },
    "colab": {
      "provenance": [],
      "include_colab_link": true
    },
    "accelerator": "GPU",
    "gpuClass": "standard"
  },
  "nbformat": 4,
  "nbformat_minor": 0
}