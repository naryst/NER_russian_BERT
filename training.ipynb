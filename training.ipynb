{
 "cells": [
  {
   "cell_type": "code",
   "execution_count": 127,
   "outputs": [],
   "source": [
    "import os\n",
    "import numpy as np\n",
    "import pandas as pd\n",
    "from transformers import AutoTokenizer, AutoModelForTokenClassification\n",
    "import torch\n",
    "import torch.nn\n",
    "from torch.utils.data import Dataset, DataLoader\n",
    "import torch.optim\n",
    "import torch.nn.functional as F"
   ],
   "metadata": {
    "collapsed": false,
    "ExecuteTime": {
     "start_time": "2023-04-08T20:52:47.912687Z",
     "end_time": "2023-04-08T20:52:47.979566Z"
    }
   }
  },
  {
   "cell_type": "code",
   "execution_count": 128,
   "outputs": [],
   "source": [
    "ROOT_DIR = \"train_data/\"\n",
    "texts50 = ROOT_DIR + \"50texts_tacred/\"\n",
    "cll3 = ROOT_DIR + \"coll3_tacred/\"\n",
    "legal = ROOT_DIR + \"legal/\"\n",
    "tacred2 = ROOT_DIR + \"tacred2/\"\n",
    "tacred3 = ROOT_DIR + \"tacred3/\""
   ],
   "metadata": {
    "collapsed": false,
    "ExecuteTime": {
     "start_time": "2023-04-08T20:52:47.918026Z",
     "end_time": "2023-04-08T20:52:48.029950Z"
    }
   }
  },
  {
   "cell_type": "code",
   "execution_count": 129,
   "outputs": [],
   "source": [
    "def create_dataframe(dir):\n",
    "    df = pd.DataFrame(columns=[\"fName\", \"text\", \"entities\"])\n",
    "    df = df.set_index(\"fName\")\n",
    "    files = os.listdir(dir)\n",
    "    for name in files:\n",
    "        fname, ext = name.split(\".\")\n",
    "        with open(dir + name) as f:\n",
    "            text = f.read()\n",
    "        if ext == \"txt\":\n",
    "            ann_fname = files[files.index(fname + \".ann\")]\n",
    "            with open(dir + ann_fname) as f_ann:\n",
    "                entities = f_ann.readlines()\n",
    "            new_entities = []\n",
    "            for i in range(len(entities)):\n",
    "                entity_type = entities[i][0]\n",
    "                entities[i] = entities[i][:-1]\n",
    "                if entity_type == \"T\":\n",
    "                    entities[i] = entities[i].split(\"\\t\")\n",
    "                    entities[i] = entities[i][1:]\n",
    "                    src = entities[i][1]\n",
    "                    entities[i] = entities[i][0].split()\n",
    "                    entities[i].append(src)\n",
    "                    assert len(entities[i]) <= 5\n",
    "                    if len(entities[i]) == 5:\n",
    "                        begin = entities[i][1]\n",
    "                        inter1, inter2 = entities[i][2].split(\";\")\n",
    "                        end = entities[i][3]\n",
    "                        new_entities.append(\n",
    "                            [entities[i][0], begin, inter1, entities[i][4]]\n",
    "                        )\n",
    "                        new_entities.append(\n",
    "                            [entities[i][0], inter2, end, entities[i][4]]\n",
    "                        )\n",
    "                    else:\n",
    "                        new_entities.append(entities[i])\n",
    "            df.loc[fname] = [text, new_entities]\n",
    "    return df"
   ],
   "metadata": {
    "collapsed": false,
    "ExecuteTime": {
     "start_time": "2023-04-08T20:52:47.961147Z",
     "end_time": "2023-04-08T20:52:48.030116Z"
    }
   }
  },
  {
   "cell_type": "code",
   "execution_count": 130,
   "outputs": [],
   "source": [
    "df1 = create_dataframe(texts50)\n",
    "df2 = create_dataframe(cll3)\n",
    "df3 = create_dataframe(legal)\n",
    "df4 = create_dataframe(tacred2)\n",
    "df5 = create_dataframe(tacred3)"
   ],
   "metadata": {
    "collapsed": false,
    "ExecuteTime": {
     "start_time": "2023-04-08T20:52:47.961337Z",
     "end_time": "2023-04-08T20:52:49.563726Z"
    }
   }
  },
  {
   "cell_type": "code",
   "execution_count": 131,
   "outputs": [
    {
     "data": {
      "text/plain": "841"
     },
     "execution_count": 131,
     "metadata": {},
     "output_type": "execute_result"
    }
   ],
   "source": [
    "df1.shape[0] + df2.shape[0] + df3.shape[0] + df4.shape[0] + df5.shape[0]"
   ],
   "metadata": {
    "collapsed": false,
    "ExecuteTime": {
     "start_time": "2023-04-08T20:52:49.567126Z",
     "end_time": "2023-04-08T20:52:49.573709Z"
    }
   }
  },
  {
   "cell_type": "code",
   "execution_count": 132,
   "outputs": [],
   "source": [
    "total_df = pd.concat([df1, df2, df3, df4, df5])"
   ],
   "metadata": {
    "collapsed": false,
    "ExecuteTime": {
     "start_time": "2023-04-08T20:52:49.571415Z",
     "end_time": "2023-04-08T20:52:49.574375Z"
    }
   }
  },
  {
   "cell_type": "code",
   "execution_count": 133,
   "outputs": [
    {
     "data": {
      "text/plain": "device(type='cuda')"
     },
     "execution_count": 133,
     "metadata": {},
     "output_type": "execute_result"
    }
   ],
   "source": [
    "device = torch.device(\"cuda\" if torch.cuda.is_available() else \"cpu\")\n",
    "device"
   ],
   "metadata": {
    "collapsed": false,
    "ExecuteTime": {
     "start_time": "2023-04-08T20:52:49.575962Z",
     "end_time": "2023-04-08T20:52:49.582524Z"
    }
   }
  },
  {
   "cell_type": "code",
   "execution_count": 134,
   "outputs": [],
   "source": [
    "# change the parameter of max tokens what model can process to get tokenization of the whole input\n",
    "# (not only first 512 tokens, which BERT can process  by its architecture)\n",
    "tokenizer = AutoTokenizer.from_pretrained(\n",
    "    \"yqelz/xml-roberta-large-ner-russian\", model_max_length=int(1.5e4)\n",
    ")"
   ],
   "metadata": {
    "collapsed": false,
    "ExecuteTime": {
     "start_time": "2023-04-08T20:52:49.582805Z",
     "end_time": "2023-04-08T20:52:50.882989Z"
    }
   }
  },
  {
   "cell_type": "code",
   "execution_count": 135,
   "outputs": [],
   "source": [
    "def identify_tokens(df_sample):\n",
    "    sample_text = df_sample[\"text\"]\n",
    "    sample_en = df_sample[\"entities\"]\n",
    "    sample_text_tokenized = tokenizer.tokenize(sample_text)\n",
    "    trash_symbols_count = []\n",
    "    for i in range(len(sample_text)):\n",
    "        cur = (\n",
    "            1\n",
    "            if (\n",
    "                sample_text[i] == \" \"\n",
    "                or sample_text[i] == \"\\n\"\n",
    "                or sample_text[i] == \"\\xa0\"\n",
    "            )\n",
    "            else 0\n",
    "        )\n",
    "        if i == 0:\n",
    "            trash_symbols_count.append(cur)\n",
    "        else:\n",
    "            trash_symbols_count.append(trash_symbols_count[-1] + cur)\n",
    "    cur_entity_id = 0\n",
    "    processed_symbols = 0\n",
    "    mappings = []\n",
    "    begin = int(sample_en[cur_entity_id][1])\n",
    "    end = int(sample_en[cur_entity_id][2])\n",
    "    assert end < len(trash_symbols_count)\n",
    "    begin -= trash_symbols_count[begin]\n",
    "    end -= trash_symbols_count[end]\n",
    "\n",
    "    for token in sample_text_tokenized:\n",
    "        while processed_symbols > end and (cur_entity_id + 1) < len(sample_en):\n",
    "            cur_entity_id += 1\n",
    "            begin = int(sample_en[cur_entity_id][1])\n",
    "            end = int(sample_en[cur_entity_id][2]) - 1\n",
    "            begin -= trash_symbols_count[begin]\n",
    "            end -= trash_symbols_count[end]\n",
    "        if begin <= processed_symbols <= end:\n",
    "            first_token = not (\n",
    "                len(mappings) != 0 and sample_en[cur_entity_id] == mappings[-1][1]\n",
    "            )\n",
    "            mappings.append((token, sample_en[cur_entity_id], first_token))\n",
    "        else:\n",
    "            mappings.append((token, False))\n",
    "        subword_check = token[0] == \"▁\"\n",
    "        processed_symbols = processed_symbols + len(token) - int(subword_check)\n",
    "\n",
    "    for i in range(len(mappings)):\n",
    "        if len(mappings[i]) == 2:\n",
    "            mappings[i] = \"O\"\n",
    "        else:\n",
    "            if mappings[i][-1]:\n",
    "                mappings[i] = \"B-\" + mappings[i][1][0]\n",
    "            else:\n",
    "                mappings[i] = \"I-\" + mappings[i][1][0]\n",
    "    mappings.insert(0, 'O') # start token\n",
    "    mappings.append('O') # end token\n",
    "    return mappings"
   ],
   "metadata": {
    "collapsed": false,
    "ExecuteTime": {
     "start_time": "2023-04-08T20:52:50.890298Z",
     "end_time": "2023-04-08T20:52:50.890954Z"
    }
   }
  },
  {
   "cell_type": "code",
   "execution_count": 136,
   "outputs": [],
   "source": [
    "total_df[\"tokenized_text\"] = total_df[\"text\"].apply(tokenizer.tokenize)\n",
    "total_df[\"tokenizer_output\"] = total_df[\"text\"].apply(\n",
    "    lambda x: tokenizer(x, return_tensors=\"pt\", padding=True, truncation=True)\n",
    ")\n",
    "#add start and end tokens to map tokenizer output\n",
    "total_df['tokenized_text'] = total_df['tokenized_text'].apply(lambda x: ['START'] + x + ['END'])\n",
    "total_df[\"classified_tokens\"] = total_df.apply(identify_tokens, axis=1)"
   ],
   "metadata": {
    "collapsed": false,
    "ExecuteTime": {
     "start_time": "2023-04-08T20:52:50.892724Z",
     "end_time": "2023-04-08T20:52:56.829914Z"
    }
   }
  },
  {
   "cell_type": "code",
   "execution_count": 137,
   "outputs": [
    {
     "data": {
      "text/plain": "         fName                                               text  \\\n0  104189_text  Полиция Бельгии арестовала двух человек по под...   \n1  119336_text  Семья Обамы приобрела дом в Вашингтоне за 8,1 ...   \n2   11766_text  Скончался бывший премьер-министр России Виктор...   \n3   11899_text  Странное преступление против семьи россиян в А...   \n4  120890_text  Важные перемены в жизни рэпера Jay Z: Он помен...   \n\n                                            entities  \\\n0  [[ORGANIZATION, 0, 15, Полиция Бельгии], [COUN...   \n1  [[PERSON, 6, 11, Обамы], [CITY, 28, 38, Вашинг...   \n2  [[PROFESSION, 17, 32, премьер-министр], [COUNT...   \n3  [[NATIONALITY, 35, 42, россиян], [COUNTRY, 45,...   \n4  [[PERSON, 31, 36, Jay Z], [PERSON, 62, 67, JAY...   \n\n                                      tokenized_text  \\\n0  [START, ▁Поли, ция, ▁Бель, ги, и, ▁арест, овал...   \n1  [START, ▁Сем, ья, ▁Оба, мы, ▁приобрел, а, ▁дом...   \n2  [START, ▁С, кон, ча, лся, ▁бы, вший, ▁премьер,...   \n3  [START, ▁Стран, ное, ▁пре, ступление, ▁против,...   \n4  [START, ▁В, аж, ные, ▁перемен, ы, ▁в, ▁жизни, ...   \n\n              tokenizer_output  \\\n0  [input_ids, attention_mask]   \n1  [input_ids, attention_mask]   \n2  [input_ids, attention_mask]   \n3  [input_ids, attention_mask]   \n4  [input_ids, attention_mask]   \n\n                                   classified_tokens  \n0  [O, B-ORGANIZATION, I-ORGANIZATION, I-ORGANIZA...  \n1  [O, O, O, B-PERSON, I-PERSON, O, O, O, O, B-CI...  \n2  [O, O, O, O, O, O, O, B-PROFESSION, I-PROFESSI...  \n3  [O, O, O, O, O, O, O, B-NATIONALITY, O, B-COUN...  \n4  [O, O, O, O, O, O, O, O, O, O, B-PERSON, I-PER...  ",
      "text/html": "<div>\n<style scoped>\n    .dataframe tbody tr th:only-of-type {\n        vertical-align: middle;\n    }\n\n    .dataframe tbody tr th {\n        vertical-align: top;\n    }\n\n    .dataframe thead th {\n        text-align: right;\n    }\n</style>\n<table border=\"1\" class=\"dataframe\">\n  <thead>\n    <tr style=\"text-align: right;\">\n      <th></th>\n      <th>fName</th>\n      <th>text</th>\n      <th>entities</th>\n      <th>tokenized_text</th>\n      <th>tokenizer_output</th>\n      <th>classified_tokens</th>\n    </tr>\n  </thead>\n  <tbody>\n    <tr>\n      <th>0</th>\n      <td>104189_text</td>\n      <td>Полиция Бельгии арестовала двух человек по под...</td>\n      <td>[[ORGANIZATION, 0, 15, Полиция Бельгии], [COUN...</td>\n      <td>[START, ▁Поли, ция, ▁Бель, ги, и, ▁арест, овал...</td>\n      <td>[input_ids, attention_mask]</td>\n      <td>[O, B-ORGANIZATION, I-ORGANIZATION, I-ORGANIZA...</td>\n    </tr>\n    <tr>\n      <th>1</th>\n      <td>119336_text</td>\n      <td>Семья Обамы приобрела дом в Вашингтоне за 8,1 ...</td>\n      <td>[[PERSON, 6, 11, Обамы], [CITY, 28, 38, Вашинг...</td>\n      <td>[START, ▁Сем, ья, ▁Оба, мы, ▁приобрел, а, ▁дом...</td>\n      <td>[input_ids, attention_mask]</td>\n      <td>[O, O, O, B-PERSON, I-PERSON, O, O, O, O, B-CI...</td>\n    </tr>\n    <tr>\n      <th>2</th>\n      <td>11766_text</td>\n      <td>Скончался бывший премьер-министр России Виктор...</td>\n      <td>[[PROFESSION, 17, 32, премьер-министр], [COUNT...</td>\n      <td>[START, ▁С, кон, ча, лся, ▁бы, вший, ▁премьер,...</td>\n      <td>[input_ids, attention_mask]</td>\n      <td>[O, O, O, O, O, O, O, B-PROFESSION, I-PROFESSI...</td>\n    </tr>\n    <tr>\n      <th>3</th>\n      <td>11899_text</td>\n      <td>Странное преступление против семьи россиян в А...</td>\n      <td>[[NATIONALITY, 35, 42, россиян], [COUNTRY, 45,...</td>\n      <td>[START, ▁Стран, ное, ▁пре, ступление, ▁против,...</td>\n      <td>[input_ids, attention_mask]</td>\n      <td>[O, O, O, O, O, O, O, B-NATIONALITY, O, B-COUN...</td>\n    </tr>\n    <tr>\n      <th>4</th>\n      <td>120890_text</td>\n      <td>Важные перемены в жизни рэпера Jay Z: Он помен...</td>\n      <td>[[PERSON, 31, 36, Jay Z], [PERSON, 62, 67, JAY...</td>\n      <td>[START, ▁В, аж, ные, ▁перемен, ы, ▁в, ▁жизни, ...</td>\n      <td>[input_ids, attention_mask]</td>\n      <td>[O, O, O, O, O, O, O, O, O, O, B-PERSON, I-PER...</td>\n    </tr>\n  </tbody>\n</table>\n</div>"
     },
     "execution_count": 137,
     "metadata": {},
     "output_type": "execute_result"
    }
   ],
   "source": [
    "total_df.reset_index(inplace=True)\n",
    "total_df.head()"
   ],
   "metadata": {
    "collapsed": false,
    "ExecuteTime": {
     "start_time": "2023-04-08T20:52:56.868723Z",
     "end_time": "2023-04-08T20:52:56.887933Z"
    }
   }
  },
  {
   "cell_type": "code",
   "execution_count": 138,
   "outputs": [
    {
     "data": {
      "text/plain": "<AxesSubplot:>"
     },
     "execution_count": 138,
     "metadata": {},
     "output_type": "execute_result"
    },
    {
     "data": {
      "text/plain": "<Figure size 640x480 with 1 Axes>",
      "image/png": "[encoded data removed]"
     },
     "metadata": {},
     "output_type": "display_data"
    }
   ],
   "source": [
    "total_df[\"tokenized_text\"].apply(len).hist(bins=150)"
   ],
   "metadata": {
    "collapsed": false,
    "ExecuteTime": {
     "start_time": "2023-04-08T20:52:56.887091Z",
     "end_time": "2023-04-08T20:52:57.130673Z"
    }
   }
  },
  {
   "cell_type": "code",
   "execution_count": 139,
   "outputs": [
    {
     "name": "stdout",
     "output_type": "stream",
     "text": [
      "Number of samples in train dataset, which have more tokens, when BERT can process - 21.284%\n"
     ]
    }
   ],
   "source": [
    "lens = total_df[\"classified_tokens\"].apply(len)\n",
    "print(\n",
    "    f\"Number of samples in train dataset, which have more tokens, when BERT can process - {lens[lens > 512].count() / lens.count() * 100:.3f}%\"\n",
    ")"
   ],
   "metadata": {
    "collapsed": false,
    "ExecuteTime": {
     "start_time": "2023-04-08T20:52:57.133107Z",
     "end_time": "2023-04-08T20:52:57.136482Z"
    }
   }
  },
  {
   "cell_type": "markdown",
   "source": [
    "Dataset have 21% of samples, what can't be processed by BERT(For example, in document '1109' input text tokenized at more than 3000 tokens). To deal with this problem, we will use sliding window approach. We will split each sample into several samples, each of which will contain 512 tokens. We will use 256 tokens overlap between samples."
   ],
   "metadata": {
    "collapsed": false
   }
  },
  {
   "cell_type": "code",
   "execution_count": 140,
   "outputs": [],
   "source": [
    "total_df[\"input_ids\"] = total_df[\"tokenizer_output\"].apply(lambda x: x[\"input_ids\"])\n",
    "total_df[\"attention_mask\"] = total_df[\"tokenizer_output\"].apply(\n",
    "    lambda x: x[\"attention_mask\"]\n",
    ")"
   ],
   "metadata": {
    "collapsed": false,
    "ExecuteTime": {
     "start_time": "2023-04-08T20:52:57.137705Z",
     "end_time": "2023-04-08T20:52:57.147848Z"
    }
   }
  },
  {
   "cell_type": "code",
   "execution_count": 141,
   "outputs": [],
   "source": [
    "sample = total_df[total_df[\"fName\"] == \"1109\"]\n",
    "iids = sample[\"input_ids\"].values[0]\n",
    "attn = sample[\"attention_mask\"].values[0]"
   ],
   "metadata": {
    "collapsed": false,
    "ExecuteTime": {
     "start_time": "2023-04-08T20:52:57.149096Z",
     "end_time": "2023-04-08T20:52:57.208398Z"
    }
   }
  },
  {
   "cell_type": "code",
   "execution_count": 142,
   "outputs": [
    {
     "data": {
      "text/plain": "(torch.Size([1, 3065]), torch.Size([1, 3065]), 3065)"
     },
     "execution_count": 142,
     "metadata": {},
     "output_type": "execute_result"
    }
   ],
   "source": [
    "iids.shape, attn.shape, len(sample[\"tokenized_text\"].values[0])"
   ],
   "metadata": {
    "collapsed": false,
    "ExecuteTime": {
     "start_time": "2023-04-08T20:52:57.191516Z",
     "end_time": "2023-04-08T20:52:57.208740Z"
    }
   }
  },
  {
   "cell_type": "code",
   "execution_count": 143,
   "outputs": [],
   "source": [
    "# drop useless columns\n",
    "total_df.drop([\"entities\", \"text\", 'tokenizer_output'], axis=1, inplace=True)"
   ],
   "metadata": {
    "collapsed": false,
    "ExecuteTime": {
     "start_time": "2023-04-08T20:52:57.192163Z",
     "end_time": "2023-04-08T20:52:57.208815Z"
    }
   }
  },
  {
   "cell_type": "code",
   "execution_count": 144,
   "outputs": [],
   "source": [
    "# split samples with more than 512 tokens\n",
    "def split_sample(sample):\n",
    "    tokenized_text = sample[\"tokenized_text\"]\n",
    "    classified_entities = sample[\"classified_tokens\"]\n",
    "    fname = sample[\"fName\"]\n",
    "    input_ids = sample[\"input_ids\"]\n",
    "    attention_mask = sample[\"attention_mask\"]\n",
    "    if input_ids.shape[1] <= 512:\n",
    "        return pd.DataFrame(\n",
    "            [[fname, input_ids, attention_mask, tokenized_text, classified_entities]],\n",
    "            columns=[\n",
    "                \"fName\",\n",
    "                \"input_ids\",\n",
    "                \"attention_mask\",\n",
    "                \"tokenized_text\",\n",
    "                \"classified_tokens\",\n",
    "            ],\n",
    "        )\n",
    "    else:\n",
    "        samples = []\n",
    "        for i in range(0, len(tokenized_text), 256):\n",
    "            if i + 512 <= len(tokenized_text):\n",
    "                samples.append(\n",
    "                    [\n",
    "                        fname,\n",
    "                        input_ids[:, i : i + 512],\n",
    "                        attention_mask[:, i : i + 512],\n",
    "                        tokenized_text[i : i + 512],\n",
    "                        classified_entities[i : i + 512],\n",
    "                    ]\n",
    "                )\n",
    "            else:\n",
    "                samples.append(\n",
    "                    [\n",
    "                        fname,\n",
    "                        input_ids[:, -512:],\n",
    "                        attention_mask[:, -512:],\n",
    "                        tokenized_text[-512:],\n",
    "                        classified_entities[-512:],\n",
    "                    ]\n",
    "                )\n",
    "        return pd.DataFrame(\n",
    "            samples, columns=[\"fName\", \"input_ids\", \"attention_mask\", \"tokenized_text\", \"classified_tokens\"]\n",
    "        )"
   ],
   "metadata": {
    "collapsed": false,
    "ExecuteTime": {
     "start_time": "2023-04-08T20:52:57.192669Z",
     "end_time": "2023-04-08T20:52:57.208872Z"
    }
   }
  },
  {
   "cell_type": "code",
   "execution_count": 145,
   "outputs": [
    {
     "data": {
      "text/plain": "           fName                                     tokenized_text  \\\n0    104189_text  [START, ▁Поли, ция, ▁Бель, ги, и, ▁арест, овал...   \n1    119336_text  [START, ▁Сем, ья, ▁Оба, мы, ▁приобрел, а, ▁дом...   \n2     11766_text  [START, ▁С, кон, ча, лся, ▁бы, вший, ▁премьер,...   \n3     11899_text  [START, ▁Стран, ное, ▁пре, ступление, ▁против,...   \n4    120890_text  [START, ▁В, аж, ные, ▁перемен, ы, ▁в, ▁жизни, ...   \n..           ...                                                ...   \n836   15895_text  [START, ▁Стив, а, ▁Джо, б, са, ▁похорон, ят, ▁...   \n837  139972_text  [START, ▁Витамин, ▁Б, ▁для, ▁Сочи, ▁от, ▁худож...   \n838   28585_text  [START, ▁Никола, с, ▁Ма, ду, ро, ▁стал, ▁прези...   \n839  127332_text  [START, ▁Фи, гур, ист, ка, ▁Ю, лия, ▁Лип, ни, ...   \n840   13861_text  [START, ▁Герман, ▁Кей, н, ▁—, ▁в, ▁президент, ...   \n\n                                     classified_tokens  \\\n0    [O, B-ORGANIZATION, I-ORGANIZATION, I-ORGANIZA...   \n1    [O, O, O, B-PERSON, I-PERSON, O, O, O, O, B-CI...   \n2    [O, O, O, O, O, O, O, B-PROFESSION, I-PROFESSI...   \n3    [O, O, O, O, O, O, O, B-NATIONALITY, O, B-COUN...   \n4    [O, O, O, O, O, O, O, O, O, O, B-PERSON, I-PER...   \n..                                                 ...   \n836  [O, B-PERSON, I-PERSON, I-PERSON, I-PERSON, I-...   \n837  [O, O, O, O, B-CITY, O, B-PROFESSION, I-PROFES...   \n838  [O, B-PERSON, I-PERSON, I-PERSON, I-PERSON, I-...   \n839  [O, O, O, O, O, B-PERSON, I-PERSON, I-PERSON, ...   \n840  [O, B-PERSON, I-PERSON, I-PERSON, O, O, B-PROF...   \n\n                                             input_ids  \\\n0    [[tensor(0), tensor(58083), tensor(8007), tens...   \n1    [[tensor(0), tensor(120400), tensor(17471), te...   \n2    [[tensor(0), tensor(589), tensor(6173), tensor...   \n3    [[tensor(0), tensor(107722), tensor(5509), ten...   \n4    [[tensor(0), tensor(417), tensor(11153), tenso...   \n..                                                 ...   \n836  [[tensor(0), tensor(177256), tensor(59), tenso...   \n837  [[tensor(0), tensor(230512), tensor(1537), ten...   \n838  [[tensor(0), tensor(34785), tensor(650), tenso...   \n839  [[tensor(0), tensor(58037), tensor(20522), ten...   \n840  [[tensor(0), tensor(49149), tensor(68223), ten...   \n\n                                        attention_mask  \n0    [[tensor(1), tensor(1), tensor(1), tensor(1), ...  \n1    [[tensor(1), tensor(1), tensor(1), tensor(1), ...  \n2    [[tensor(1), tensor(1), tensor(1), tensor(1), ...  \n3    [[tensor(1), tensor(1), tensor(1), tensor(1), ...  \n4    [[tensor(1), tensor(1), tensor(1), tensor(1), ...  \n..                                                 ...  \n836  [[tensor(1), tensor(1), tensor(1), tensor(1), ...  \n837  [[tensor(1), tensor(1), tensor(1), tensor(1), ...  \n838  [[tensor(1), tensor(1), tensor(1), tensor(1), ...  \n839  [[tensor(1), tensor(1), tensor(1), tensor(1), ...  \n840  [[tensor(1), tensor(1), tensor(1), tensor(1), ...  \n\n[841 rows x 5 columns]",
      "text/html": "<div>\n<style scoped>\n    .dataframe tbody tr th:only-of-type {\n        vertical-align: middle;\n    }\n\n    .dataframe tbody tr th {\n        vertical-align: top;\n    }\n\n    .dataframe thead th {\n        text-align: right;\n    }\n</style>\n<table border=\"1\" class=\"dataframe\">\n  <thead>\n    <tr style=\"text-align: right;\">\n      <th></th>\n      <th>fName</th>\n      <th>tokenized_text</th>\n      <th>classified_tokens</th>\n      <th>input_ids</th>\n      <th>attention_mask</th>\n    </tr>\n  </thead>\n  <tbody>\n    <tr>\n      <th>0</th>\n      <td>104189_text</td>\n      <td>[START, ▁Поли, ция, ▁Бель, ги, и, ▁арест, овал...</td>\n      <td>[O, B-ORGANIZATION, I-ORGANIZATION, I-ORGANIZA...</td>\n      <td>[[tensor(0), tensor(58083), tensor(8007), tens...</td>\n      <td>[[tensor(1), tensor(1), tensor(1), tensor(1), ...</td>\n    </tr>\n    <tr>\n      <th>1</th>\n      <td>119336_text</td>\n      <td>[START, ▁Сем, ья, ▁Оба, мы, ▁приобрел, а, ▁дом...</td>\n      <td>[O, O, O, B-PERSON, I-PERSON, O, O, O, O, B-CI...</td>\n      <td>[[tensor(0), tensor(120400), tensor(17471), te...</td>\n      <td>[[tensor(1), tensor(1), tensor(1), tensor(1), ...</td>\n    </tr>\n    <tr>\n      <th>2</th>\n      <td>11766_text</td>\n      <td>[START, ▁С, кон, ча, лся, ▁бы, вший, ▁премьер,...</td>\n      <td>[O, O, O, O, O, O, O, B-PROFESSION, I-PROFESSI...</td>\n      <td>[[tensor(0), tensor(589), tensor(6173), tensor...</td>\n      <td>[[tensor(1), tensor(1), tensor(1), tensor(1), ...</td>\n    </tr>\n    <tr>\n      <th>3</th>\n      <td>11899_text</td>\n      <td>[START, ▁Стран, ное, ▁пре, ступление, ▁против,...</td>\n      <td>[O, O, O, O, O, O, O, B-NATIONALITY, O, B-COUN...</td>\n      <td>[[tensor(0), tensor(107722), tensor(5509), ten...</td>\n      <td>[[tensor(1), tensor(1), tensor(1), tensor(1), ...</td>\n    </tr>\n    <tr>\n      <th>4</th>\n      <td>120890_text</td>\n      <td>[START, ▁В, аж, ные, ▁перемен, ы, ▁в, ▁жизни, ...</td>\n      <td>[O, O, O, O, O, O, O, O, O, O, B-PERSON, I-PER...</td>\n      <td>[[tensor(0), tensor(417), tensor(11153), tenso...</td>\n      <td>[[tensor(1), tensor(1), tensor(1), tensor(1), ...</td>\n    </tr>\n    <tr>\n      <th>...</th>\n      <td>...</td>\n      <td>...</td>\n      <td>...</td>\n      <td>...</td>\n      <td>...</td>\n    </tr>\n    <tr>\n      <th>836</th>\n      <td>15895_text</td>\n      <td>[START, ▁Стив, а, ▁Джо, б, са, ▁похорон, ят, ▁...</td>\n      <td>[O, B-PERSON, I-PERSON, I-PERSON, I-PERSON, I-...</td>\n      <td>[[tensor(0), tensor(177256), tensor(59), tenso...</td>\n      <td>[[tensor(1), tensor(1), tensor(1), tensor(1), ...</td>\n    </tr>\n    <tr>\n      <th>837</th>\n      <td>139972_text</td>\n      <td>[START, ▁Витамин, ▁Б, ▁для, ▁Сочи, ▁от, ▁худож...</td>\n      <td>[O, O, O, O, B-CITY, O, B-PROFESSION, I-PROFES...</td>\n      <td>[[tensor(0), tensor(230512), tensor(1537), ten...</td>\n      <td>[[tensor(1), tensor(1), tensor(1), tensor(1), ...</td>\n    </tr>\n    <tr>\n      <th>838</th>\n      <td>28585_text</td>\n      <td>[START, ▁Никола, с, ▁Ма, ду, ро, ▁стал, ▁прези...</td>\n      <td>[O, B-PERSON, I-PERSON, I-PERSON, I-PERSON, I-...</td>\n      <td>[[tensor(0), tensor(34785), tensor(650), tenso...</td>\n      <td>[[tensor(1), tensor(1), tensor(1), tensor(1), ...</td>\n    </tr>\n    <tr>\n      <th>839</th>\n      <td>127332_text</td>\n      <td>[START, ▁Фи, гур, ист, ка, ▁Ю, лия, ▁Лип, ни, ...</td>\n      <td>[O, O, O, O, O, B-PERSON, I-PERSON, I-PERSON, ...</td>\n      <td>[[tensor(0), tensor(58037), tensor(20522), ten...</td>\n      <td>[[tensor(1), tensor(1), tensor(1), tensor(1), ...</td>\n    </tr>\n    <tr>\n      <th>840</th>\n      <td>13861_text</td>\n      <td>[START, ▁Герман, ▁Кей, н, ▁—, ▁в, ▁президент, ...</td>\n      <td>[O, B-PERSON, I-PERSON, I-PERSON, O, O, B-PROF...</td>\n      <td>[[tensor(0), tensor(49149), tensor(68223), ten...</td>\n      <td>[[tensor(1), tensor(1), tensor(1), tensor(1), ...</td>\n    </tr>\n  </tbody>\n</table>\n<p>841 rows × 5 columns</p>\n</div>"
     },
     "execution_count": 145,
     "metadata": {},
     "output_type": "execute_result"
    }
   ],
   "source": [
    "total_df"
   ],
   "metadata": {
    "collapsed": false,
    "ExecuteTime": {
     "start_time": "2023-04-08T20:52:57.192853Z",
     "end_time": "2023-04-08T20:52:57.459951Z"
    }
   }
  },
  {
   "cell_type": "code",
   "execution_count": 146,
   "outputs": [],
   "source": [
    "total_df = total_df.apply(split_sample, axis=1)"
   ],
   "metadata": {
    "collapsed": false,
    "ExecuteTime": {
     "start_time": "2023-04-08T20:52:57.511707Z",
     "end_time": "2023-04-08T20:52:57.663943Z"
    }
   }
  },
  {
   "cell_type": "code",
   "execution_count": 147,
   "outputs": [],
   "source": [
    "total_df = pd.concat(total_df.values)\n",
    "total_df.reset_index(inplace=True)\n",
    "total_df.drop(\"index\", axis=1, inplace=True)"
   ],
   "metadata": {
    "collapsed": false,
    "ExecuteTime": {
     "start_time": "2023-04-08T20:52:57.672674Z",
     "end_time": "2023-04-08T20:52:57.689309Z"
    }
   }
  },
  {
   "cell_type": "code",
   "execution_count": 148,
   "outputs": [
    {
     "data": {
      "text/plain": "<AxesSubplot:>"
     },
     "execution_count": 148,
     "metadata": {},
     "output_type": "execute_result"
    },
    {
     "data": {
      "text/plain": "<Figure size 640x480 with 1 Axes>",
      "image/png": "[encoded data removed]"
     },
     "metadata": {},
     "output_type": "display_data"
    }
   ],
   "source": [
    "total_df[\"tokenized_text\"].apply(len).hist(bins=50)"
   ],
   "metadata": {
    "collapsed": false,
    "ExecuteTime": {
     "start_time": "2023-04-08T20:52:57.701080Z",
     "end_time": "2023-04-08T20:52:57.811907Z"
    }
   }
  },
  {
   "cell_type": "code",
   "execution_count": 149,
   "outputs": [
    {
     "data": {
      "text/plain": "array([['START', 'O'],\n       ['▁Стран', 'O'],\n       ['ное', 'O'],\n       ...,\n       ['▁во', 'O'],\n       ['▁время', 'O'],\n       ['▁интервью', 'O']], dtype='<U19')"
     },
     "execution_count": 149,
     "metadata": {},
     "output_type": "execute_result"
    }
   ],
   "source": [
    "# test token mapping for the sample\n",
    "n = 3\n",
    "sample = total_df.iloc[n]\n",
    "sample_tokens = sample[\"tokenized_text\"]\n",
    "sample_entities = sample[\"classified_tokens\"]\n",
    "a = np.array([sample_tokens, sample_entities])\n",
    "a.T"
   ],
   "metadata": {
    "collapsed": false,
    "ExecuteTime": {
     "start_time": "2023-04-08T20:52:57.814595Z",
     "end_time": "2023-04-08T20:52:57.863433Z"
    }
   }
  },
  {
   "cell_type": "code",
   "execution_count": 150,
   "outputs": [],
   "source": [
    "unique_entities = []\n",
    "for sample in total_df[\"classified_tokens\"]:\n",
    "    for token in sample:\n",
    "        unique_entities.append(token)\n",
    "unique_entities = np.unique(unique_entities)"
   ],
   "metadata": {
    "collapsed": false,
    "ExecuteTime": {
     "start_time": "2023-04-08T20:52:57.861005Z",
     "end_time": "2023-04-08T20:52:58.030348Z"
    }
   }
  },
  {
   "cell_type": "code",
   "execution_count": 151,
   "outputs": [],
   "source": [
    "id2label = {}\n",
    "label2id = {}\n",
    "\n",
    "for i in range(len(unique_entities)):\n",
    "    id2label[i] = unique_entities[i]\n",
    "    label2id[unique_entities[i]] = i"
   ],
   "metadata": {
    "collapsed": false,
    "ExecuteTime": {
     "start_time": "2023-04-08T20:52:58.032268Z",
     "end_time": "2023-04-08T20:52:58.074763Z"
    }
   }
  },
  {
   "cell_type": "code",
   "execution_count": 152,
   "outputs": [],
   "source": [
    "labels_num = len(unique_entities)"
   ],
   "metadata": {
    "collapsed": false,
    "ExecuteTime": {
     "start_time": "2023-04-08T20:52:58.074748Z",
     "end_time": "2023-04-08T20:52:58.075127Z"
    }
   }
  },
  {
   "cell_type": "code",
   "execution_count": 153,
   "outputs": [
    {
     "data": {
      "text/plain": "59"
     },
     "execution_count": 153,
     "metadata": {},
     "output_type": "execute_result"
    }
   ],
   "source": [
    "labels_num"
   ],
   "metadata": {
    "collapsed": false,
    "ExecuteTime": {
     "start_time": "2023-04-08T20:52:58.074967Z",
     "end_time": "2023-04-08T20:52:58.075469Z"
    }
   }
  },
  {
   "cell_type": "code",
   "execution_count": 155,
   "outputs": [],
   "source": [
    "class BertTokenClassification(torch.nn.Module):\n",
    "    def __init__(self):\n",
    "        super(BertTokenClassification, self).__init__()\n",
    "        self.bert = AutoModelForTokenClassification.from_pretrained(\"yqelz/xml-roberta-large-ner-russian\")\n",
    "        self.bert.config.id2label = id2label\n",
    "        self.bert.config.label2id = label2id\n",
    "        self.bert.classifier = torch.nn.Linear(1024, labels_num)\n",
    "\n",
    "    def forward(self, input_id, mask, label):\n",
    "        output = self.bert(\n",
    "            input_ids=input_id, attention_mask=mask, labels=label, return_dict=False\n",
    "        )\n",
    "        return output"
   ],
   "metadata": {
    "collapsed": false,
    "ExecuteTime": {
     "start_time": "2023-04-08T20:53:14.858589Z",
     "end_time": "2023-04-08T20:53:14.863213Z"
    }
   }
  },
  {
   "cell_type": "code",
   "execution_count": 156,
   "outputs": [],
   "source": [
    "class TextDataset(Dataset):\n",
    "    def __init__(self, dataframe):\n",
    "        self.df = dataframe\n",
    "\n",
    "    def __len__(self):\n",
    "        return len(self.df)\n",
    "\n",
    "    @staticmethod\n",
    "    def df_sample_to_tensor(row):\n",
    "        data = (row['input_ids'], row['attention_mask'])\n",
    "        labels = row['classified_entities']\n",
    "        return data, labels\n",
    "\n",
    "    def __getitem__(self, idx):\n",
    "        return self.df_sample_to_tensor(self.df.iloc[idx])"
   ],
   "metadata": {
    "collapsed": false,
    "ExecuteTime": {
     "start_time": "2023-04-08T20:53:16.187566Z",
     "end_time": "2023-04-08T20:53:16.188550Z"
    }
   }
  },
  {
   "cell_type": "code",
   "execution_count": 157,
   "outputs": [],
   "source": [
    "def tokenization_complement(tensor):\n",
    "    complement_size = 512 - tensor.shape[1]\n",
    "    zeros_complement = torch.zeros((1,complement_size))\n",
    "    new_sample = torch.cat((tensor, zeros_complement,), dim=1)\n",
    "    assert new_sample.shape[1] == 512\n",
    "    return new_sample"
   ],
   "metadata": {
    "collapsed": false,
    "ExecuteTime": {
     "start_time": "2023-04-08T20:53:18.768871Z",
     "end_time": "2023-04-08T20:53:18.779801Z"
    }
   }
  },
  {
   "cell_type": "code",
   "execution_count": null,
   "outputs": [],
   "source": [
    "total_df['input_ids'] = total_df['input_ids'].apply(tokenization_complement)\n",
    "total_df['attention_mask'] = total_df['attention_mask'].apply(tokenization_complement)"
   ],
   "metadata": {
    "collapsed": false,
    "ExecuteTime": {
     "start_time": "2023-04-08T20:48:02.028752Z",
     "end_time": "2023-04-08T20:48:02.097058Z"
    }
   }
  },
  {
   "cell_type": "code",
   "execution_count": null,
   "outputs": [],
   "source": [
    "from sklearn.model_selection import train_test_split\n",
    "\n",
    "train_data, val_data = train_test_split(total_df, train_size=0.9)"
   ],
   "metadata": {
    "collapsed": false,
    "ExecuteTime": {
     "start_time": "2023-04-08T20:48:02.071173Z",
     "end_time": "2023-04-08T20:48:02.104344Z"
    }
   }
  },
  {
   "cell_type": "code",
   "execution_count": null,
   "outputs": [],
   "source": [
    "from tqdm import tqdm\n",
    "\n",
    "BATCH_SIZE = 4\n",
    "lr = 3e-4\n",
    "EPOCH_NUMBER = 3\n",
    "\n",
    "def train_loop(model, train_d, val_d, epoch_num=EPOCH_NUMBER):\n",
    "    train_dataset = TextDataset(train_d)\n",
    "    val_dataset = TextDataset(val_d)\n",
    "\n",
    "    train_dataloader = DataLoader(train_dataset, batch_size=BATCH_SIZE, shuffle=True)\n",
    "    val_dataloader = DataLoader(val_dataset, batch_size=BATCH_SIZE, shuffle=True)\n",
    "\n",
    "    optimizer = torch.optim.Adam(model.parameters(), lr=lr)\n",
    "\n",
    "    train_losses = []\n",
    "    val_losses = []\n",
    "\n",
    "    for epoch in range(epoch_num):\n",
    "        acc_train = 0\n",
    "        cur_loss_train = 0\n",
    "\n",
    "        model.train()\n",
    "        for data, labels in tqdm(train_dataloader):\n",
    "            data = data.to(device)\n",
    "            labels = torch.tensor(labels).to(device)\n",
    "            print(data.shape)\n",
    "            print(labels.shape)\n",
    "\n",
    "            # optimizer.zero_grad()\n",
    "            #\n",
    "            # loss, logits = model(*data)\n",
    "            # for i in range(logits.shape[0]):\n",
    "            #     predictions = logits.argmax(dim=1)\n",
    "\n"
   ],
   "metadata": {
    "collapsed": false,
    "ExecuteTime": {
     "start_time": "2023-04-08T20:48:02.075646Z",
     "end_time": "2023-04-08T20:48:02.127802Z"
    }
   }
  },
  {
   "cell_type": "code",
   "execution_count": null,
   "outputs": [],
   "source": [
    "model = BertTokenClassification().to(device)"
   ],
   "metadata": {
    "collapsed": false,
    "ExecuteTime": {
     "start_time": "2023-04-08T20:26:06.961901Z",
     "end_time": "2023-04-08T20:26:14.938550Z"
    }
   }
  },
  {
   "cell_type": "code",
   "execution_count": null,
   "outputs": [],
   "source": [
    "#TODO tokenizer produce 2 additional tokens start, end\n",
    "#TODO complement labels list for dataset\n",
    "#TODO ???"
   ],
   "metadata": {
    "collapsed": false,
    "ExecuteTime": {
     "start_time": "2023-04-08T20:26:14.936346Z",
     "end_time": "2023-04-08T20:26:14.938825Z"
    }
   }
  },
  {
   "cell_type": "code",
   "execution_count": null,
   "outputs": [],
   "source": [
    "train_loop(model, train_data, val_data)"
   ],
   "metadata": {
    "collapsed": false
   }
  },
  {
   "cell_type": "code",
   "execution_count": null,
   "outputs": [],
   "source": [
    "# sample = 'my name is nikita'\n",
    "# sample_tokens = tokenizer(sample, return_tensors=\"pt\", padding=True, truncation=True)\n",
    "#\n",
    "# with torch.no_grad():\n",
    "#     logits = model(**sample_tokens).logits\n",
    "#\n",
    "# predicted_token_class_ids = logits.argmax(axis=2)\n",
    "# predicted_tokens_classes = [model.config.id2label[t.item()] for t in predicted_token_class_ids[0]]\n",
    "# token_words = tokenizer.convert_ids_to_tokens(sample_tokens['input_ids'][0])\n",
    "# print(predicted_tokens_classes)"
   ],
   "metadata": {
    "collapsed": false,
    "ExecuteTime": {
     "start_time": "2023-04-08T02:57:12.437413Z",
     "end_time": "2023-04-08T02:57:12.437732Z"
    }
   }
  },
  {
   "cell_type": "code",
   "execution_count": null,
   "outputs": [],
   "source": [],
   "metadata": {
    "collapsed": false,
    "ExecuteTime": {
     "start_time": "2023-04-08T02:57:12.437458Z",
     "end_time": "2023-04-08T02:57:12.437754Z"
    }
   }
  }
 ],
 "metadata": {
  "kernelspec": {
   "display_name": "Python 3",
   "language": "python",
   "name": "python3"
  },
  "language_info": {
   "codemirror_mode": {
    "name": "ipython",
    "version": 2
   },
   "file_extension": ".py",
   "mimetype": "text/x-python",
   "name": "python",
   "nbconvert_exporter": "python",
   "pygments_lexer": "ipython2",
   "version": "2.7.6"
  }
 },
 "nbformat": 4,
 "nbformat_minor": 0
}
