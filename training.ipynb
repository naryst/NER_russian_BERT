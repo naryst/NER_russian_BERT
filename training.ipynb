{
 "cells": [
  {
   "cell_type": "code",
   "execution_count": 1,
   "outputs": [
    {
     "name": "stderr",
     "output_type": "stream",
     "text": [
      "2023-04-08 20:25:52.379998: I tensorflow/core/platform/cpu_feature_guard.cc:193] This TensorFlow binary is optimized with oneAPI Deep Neural Network Library (oneDNN) to use the following CPU instructions in performance-critical operations:  AVX2 FMA\n",
      "To enable them in other operations, rebuild TensorFlow with the appropriate compiler flags.\n",
      "2023-04-08 20:25:52.734722: W tensorflow/compiler/xla/stream_executor/platform/default/dso_loader.cc:64] Could not load dynamic library 'libcudart.so.11.0'; dlerror: libcudart.so.11.0: cannot open shared object file: No such file or directory\n",
      "2023-04-08 20:25:52.734757: I tensorflow/compiler/xla/stream_executor/cuda/cudart_stub.cc:29] Ignore above cudart dlerror if you do not have a GPU set up on your machine.\n",
      "2023-04-08 20:25:53.682160: W tensorflow/compiler/xla/stream_executor/platform/default/dso_loader.cc:64] Could not load dynamic library 'libnvinfer.so.7'; dlerror: libnvinfer.so.7: cannot open shared object file: No such file or directory\n",
      "2023-04-08 20:25:53.682224: W tensorflow/compiler/xla/stream_executor/platform/default/dso_loader.cc:64] Could not load dynamic library 'libnvinfer_plugin.so.7'; dlerror: libnvinfer_plugin.so.7: cannot open shared object file: No such file or directory\n",
      "2023-04-08 20:25:53.682230: W tensorflow/compiler/tf2tensorrt/utils/py_utils.cc:38] TF-TRT Warning: Cannot dlopen some TensorRT libraries. If you would like to use Nvidia GPU with TensorRT, please make sure the missing libraries mentioned above are installed properly.\n"
     ]
    }
   ],
   "source": [
    "import os\n",
    "import numpy as np\n",
    "import pandas as pd\n",
    "from transformers import AutoTokenizer, AutoModelForTokenClassification\n",
    "import torch\n",
    "import torch.nn\n",
    "from torch.utils.data import Dataset, DataLoader\n",
    "import torch.optim\n",
    "import torch.nn.functional as F"
   ],
   "metadata": {
    "collapsed": false,
    "ExecuteTime": {
     "start_time": "2023-04-08T20:25:51.706988Z",
     "end_time": "2023-04-08T20:25:56.205291Z"
    }
   }
  },
  {
   "cell_type": "code",
   "execution_count": 2,
   "outputs": [],
   "source": [
    "ROOT_DIR = \"train_data/\"\n",
    "texts50 = ROOT_DIR + \"50texts_tacred/\"\n",
    "cll3 = ROOT_DIR + \"coll3_tacred/\"\n",
    "legal = ROOT_DIR + \"legal/\"\n",
    "tacred2 = ROOT_DIR + \"tacred2/\"\n",
    "tacred3 = ROOT_DIR + \"tacred3/\""
   ],
   "metadata": {
    "collapsed": false,
    "ExecuteTime": {
     "start_time": "2023-04-08T20:25:56.206932Z",
     "end_time": "2023-04-08T20:25:56.209763Z"
    }
   }
  },
  {
   "cell_type": "code",
   "execution_count": 3,
   "outputs": [],
   "source": [
    "def create_dataframe(dir):\n",
    "    df = pd.DataFrame(columns=[\"fName\", \"text\", \"entities\"])\n",
    "    df = df.set_index(\"fName\")\n",
    "    files = os.listdir(dir)\n",
    "    for name in files:\n",
    "        fname, ext = name.split(\".\")\n",
    "        with open(dir + name) as f:\n",
    "            text = f.read()\n",
    "        if ext == \"txt\":\n",
    "            ann_fname = files[files.index(fname + \".ann\")]\n",
    "            with open(dir + ann_fname) as f_ann:\n",
    "                entities = f_ann.readlines()\n",
    "            new_entities = []\n",
    "            for i in range(len(entities)):\n",
    "                entity_type = entities[i][0]\n",
    "                entities[i] = entities[i][:-1]\n",
    "                if entity_type == \"T\":\n",
    "                    entities[i] = entities[i].split(\"\\t\")\n",
    "                    entities[i] = entities[i][1:]\n",
    "                    src = entities[i][1]\n",
    "                    entities[i] = entities[i][0].split()\n",
    "                    entities[i].append(src)\n",
    "                    assert len(entities[i]) <= 5\n",
    "                    # if len(entities[i]) > 4:\n",
    "                    #     print(entities[i])\n",
    "                    if len(entities[i]) == 5:\n",
    "                        begin = entities[i][1]\n",
    "                        inter1, inter2 = entities[i][2].split(\";\")\n",
    "                        end = entities[i][3]\n",
    "                        new_entities.append(\n",
    "                            [entities[i][0], begin, inter1, entities[i][4]]\n",
    "                        )\n",
    "                        new_entities.append(\n",
    "                            [entities[i][0], inter2, end, entities[i][4]]\n",
    "                        )\n",
    "                    else:\n",
    "                        new_entities.append(entities[i])\n",
    "            df.loc[fname] = [text, new_entities]\n",
    "    return df"
   ],
   "metadata": {
    "collapsed": false,
    "ExecuteTime": {
     "start_time": "2023-04-08T20:25:56.214345Z",
     "end_time": "2023-04-08T20:25:56.216296Z"
    }
   }
  },
  {
   "cell_type": "code",
   "execution_count": 4,
   "outputs": [],
   "source": [
    "df1 = create_dataframe(texts50)\n",
    "df2 = create_dataframe(cll3)\n",
    "df3 = create_dataframe(legal)\n",
    "df4 = create_dataframe(tacred2)\n",
    "df5 = create_dataframe(tacred3)"
   ],
   "metadata": {
    "collapsed": false,
    "ExecuteTime": {
     "start_time": "2023-04-08T20:25:56.217257Z",
     "end_time": "2023-04-08T20:25:57.571230Z"
    }
   }
  },
  {
   "cell_type": "code",
   "execution_count": 5,
   "outputs": [
    {
     "data": {
      "text/plain": "841"
     },
     "execution_count": 5,
     "metadata": {},
     "output_type": "execute_result"
    }
   ],
   "source": [
    "df1.shape[0] + df2.shape[0] + df3.shape[0] + df4.shape[0] + df5.shape[0]"
   ],
   "metadata": {
    "collapsed": false,
    "ExecuteTime": {
     "start_time": "2023-04-08T20:25:57.565772Z",
     "end_time": "2023-04-08T20:25:57.576480Z"
    }
   }
  },
  {
   "cell_type": "code",
   "execution_count": 6,
   "outputs": [],
   "source": [
    "total_df = pd.concat([df1, df2, df3, df4, df5])"
   ],
   "metadata": {
    "collapsed": false,
    "ExecuteTime": {
     "start_time": "2023-04-08T20:25:57.572003Z",
     "end_time": "2023-04-08T20:25:57.576937Z"
    }
   }
  },
  {
   "cell_type": "code",
   "execution_count": 7,
   "outputs": [
    {
     "data": {
      "text/plain": "device(type='cuda')"
     },
     "execution_count": 7,
     "metadata": {},
     "output_type": "execute_result"
    }
   ],
   "source": [
    "device = torch.device(\"cuda\" if torch.cuda.is_available() else \"cpu\")\n",
    "device"
   ],
   "metadata": {
    "collapsed": false,
    "ExecuteTime": {
     "start_time": "2023-04-08T20:25:57.578255Z",
     "end_time": "2023-04-08T20:25:57.654704Z"
    }
   }
  },
  {
   "cell_type": "code",
   "execution_count": 8,
   "outputs": [],
   "source": [
    "# change the parameter of max tokens what model can process to get tokenization of the whole input\n",
    "# (not only first 512 tokens, which BERT can process  by its architecture)\n",
    "tokenizer = AutoTokenizer.from_pretrained(\n",
    "    \"yqelz/xml-roberta-large-ner-russian\", model_max_length=int(1.5e4)\n",
    ")"
   ],
   "metadata": {
    "collapsed": false,
    "ExecuteTime": {
     "start_time": "2023-04-08T20:25:57.655103Z",
     "end_time": "2023-04-08T20:25:58.744575Z"
    }
   }
  },
  {
   "cell_type": "code",
   "execution_count": 9,
   "outputs": [],
   "source": [
    "def identify_tokens(df_sample):\n",
    "    sample_text = df_sample[\"text\"]\n",
    "    sample_en = df_sample[\"entities\"]\n",
    "    sample_text_tokenized = tokenizer.tokenize(sample_text)\n",
    "    trash_symbols_count = []\n",
    "    for i in range(len(sample_text)):\n",
    "        cur = (\n",
    "            1\n",
    "            if (\n",
    "                sample_text[i] == \" \"\n",
    "                or sample_text[i] == \"\\n\"\n",
    "                or sample_text[i] == \"\\xa0\"\n",
    "            )\n",
    "            else 0\n",
    "        )\n",
    "        if i == 0:\n",
    "            trash_symbols_count.append(cur)\n",
    "        else:\n",
    "            trash_symbols_count.append(trash_symbols_count[-1] + cur)\n",
    "    cur_entity_id = 0\n",
    "    processed_symbols = 0\n",
    "    mappings = []\n",
    "    begin = int(sample_en[cur_entity_id][1])\n",
    "    end = int(sample_en[cur_entity_id][2])\n",
    "    assert end < len(trash_symbols_count)\n",
    "    begin -= trash_symbols_count[begin]\n",
    "    end -= trash_symbols_count[end]\n",
    "\n",
    "    for token in sample_text_tokenized:\n",
    "        while processed_symbols > end and (cur_entity_id + 1) < len(sample_en):\n",
    "            cur_entity_id += 1\n",
    "            begin = int(sample_en[cur_entity_id][1])\n",
    "            end = int(sample_en[cur_entity_id][2]) - 1\n",
    "            begin -= trash_symbols_count[begin]\n",
    "            end -= trash_symbols_count[end]\n",
    "            # print(begin, end)\n",
    "        if begin <= processed_symbols <= end:\n",
    "            first_token = not (\n",
    "                len(mappings) != 0 and sample_en[cur_entity_id] == mappings[-1][1]\n",
    "            )\n",
    "            mappings.append((token, sample_en[cur_entity_id], first_token))\n",
    "        else:\n",
    "            mappings.append((token, False))\n",
    "        subword_check = token[0] == \"▁\"\n",
    "        processed_symbols = processed_symbols + len(token) - int(subword_check)\n",
    "\n",
    "    for i in range(len(mappings)):\n",
    "        if len(mappings[i]) == 2:\n",
    "            mappings[i] = \"O\"\n",
    "        else:\n",
    "            if mappings[i][-1]:\n",
    "                mappings[i] = \"B-\" + mappings[i][1][0]\n",
    "            else:\n",
    "                mappings[i] = \"I-\" + mappings[i][1][0]\n",
    "\n",
    "    return mappings"
   ],
   "metadata": {
    "collapsed": false,
    "ExecuteTime": {
     "start_time": "2023-04-08T20:25:58.752495Z",
     "end_time": "2023-04-08T20:25:58.762077Z"
    }
   }
  },
  {
   "cell_type": "code",
   "execution_count": 10,
   "outputs": [],
   "source": [
    "total_df[\"tokenized_text\"] = total_df[\"text\"].apply(tokenizer.tokenize)\n",
    "total_df[\"tokenizer_output\"] = total_df[\"text\"].apply(\n",
    "    lambda x: tokenizer(x, return_tensors=\"pt\", padding=True, truncation=True)\n",
    ")\n",
    "total_df[\"classified_entities\"] = total_df.apply(identify_tokens, axis=1)"
   ],
   "metadata": {
    "collapsed": false,
    "ExecuteTime": {
     "start_time": "2023-04-08T20:25:58.755214Z",
     "end_time": "2023-04-08T20:26:04.593903Z"
    }
   }
  },
  {
   "cell_type": "code",
   "execution_count": 11,
   "outputs": [
    {
     "data": {
      "text/plain": "         fName                                               text  \\\n0  104189_text  Полиция Бельгии арестовала двух человек по под...   \n1  119336_text  Семья Обамы приобрела дом в Вашингтоне за 8,1 ...   \n2   11766_text  Скончался бывший премьер-министр России Виктор...   \n3   11899_text  Странное преступление против семьи россиян в А...   \n4  120890_text  Важные перемены в жизни рэпера Jay Z: Он помен...   \n\n                                            entities  \\\n0  [[ORGANIZATION, 0, 15, Полиция Бельгии], [COUN...   \n1  [[PERSON, 6, 11, Обамы], [CITY, 28, 38, Вашинг...   \n2  [[PROFESSION, 17, 32, премьер-министр], [COUNT...   \n3  [[NATIONALITY, 35, 42, россиян], [COUNTRY, 45,...   \n4  [[PERSON, 31, 36, Jay Z], [PERSON, 62, 67, JAY...   \n\n                                      tokenized_text  \\\n0  [▁Поли, ция, ▁Бель, ги, и, ▁арест, овала, ▁дву...   \n1  [▁Сем, ья, ▁Оба, мы, ▁приобрел, а, ▁дом, ▁в, ▁...   \n2  [▁С, кон, ча, лся, ▁бы, вший, ▁премьер, -, мин...   \n3  [▁Стран, ное, ▁пре, ступление, ▁против, ▁семьи...   \n4  [▁В, аж, ные, ▁перемен, ы, ▁в, ▁жизни, ▁рэ, пе...   \n\n              tokenizer_output  \\\n0  [input_ids, attention_mask]   \n1  [input_ids, attention_mask]   \n2  [input_ids, attention_mask]   \n3  [input_ids, attention_mask]   \n4  [input_ids, attention_mask]   \n\n                                 classified_entities  \n0  [B-ORGANIZATION, I-ORGANIZATION, I-ORGANIZATIO...  \n1  [O, O, B-PERSON, I-PERSON, O, O, O, O, B-CITY,...  \n2  [O, O, O, O, O, O, B-PROFESSION, I-PROFESSION,...  \n3  [O, O, O, O, O, O, B-NATIONALITY, O, B-COUNTRY...  \n4  [O, O, O, O, O, O, O, O, O, B-PERSON, I-PERSON...  ",
      "text/html": "<div>\n<style scoped>\n    .dataframe tbody tr th:only-of-type {\n        vertical-align: middle;\n    }\n\n    .dataframe tbody tr th {\n        vertical-align: top;\n    }\n\n    .dataframe thead th {\n        text-align: right;\n    }\n</style>\n<table border=\"1\" class=\"dataframe\">\n  <thead>\n    <tr style=\"text-align: right;\">\n      <th></th>\n      <th>fName</th>\n      <th>text</th>\n      <th>entities</th>\n      <th>tokenized_text</th>\n      <th>tokenizer_output</th>\n      <th>classified_entities</th>\n    </tr>\n  </thead>\n  <tbody>\n    <tr>\n      <th>0</th>\n      <td>104189_text</td>\n      <td>Полиция Бельгии арестовала двух человек по под...</td>\n      <td>[[ORGANIZATION, 0, 15, Полиция Бельгии], [COUN...</td>\n      <td>[▁Поли, ция, ▁Бель, ги, и, ▁арест, овала, ▁дву...</td>\n      <td>[input_ids, attention_mask]</td>\n      <td>[B-ORGANIZATION, I-ORGANIZATION, I-ORGANIZATIO...</td>\n    </tr>\n    <tr>\n      <th>1</th>\n      <td>119336_text</td>\n      <td>Семья Обамы приобрела дом в Вашингтоне за 8,1 ...</td>\n      <td>[[PERSON, 6, 11, Обамы], [CITY, 28, 38, Вашинг...</td>\n      <td>[▁Сем, ья, ▁Оба, мы, ▁приобрел, а, ▁дом, ▁в, ▁...</td>\n      <td>[input_ids, attention_mask]</td>\n      <td>[O, O, B-PERSON, I-PERSON, O, O, O, O, B-CITY,...</td>\n    </tr>\n    <tr>\n      <th>2</th>\n      <td>11766_text</td>\n      <td>Скончался бывший премьер-министр России Виктор...</td>\n      <td>[[PROFESSION, 17, 32, премьер-министр], [COUNT...</td>\n      <td>[▁С, кон, ча, лся, ▁бы, вший, ▁премьер, -, мин...</td>\n      <td>[input_ids, attention_mask]</td>\n      <td>[O, O, O, O, O, O, B-PROFESSION, I-PROFESSION,...</td>\n    </tr>\n    <tr>\n      <th>3</th>\n      <td>11899_text</td>\n      <td>Странное преступление против семьи россиян в А...</td>\n      <td>[[NATIONALITY, 35, 42, россиян], [COUNTRY, 45,...</td>\n      <td>[▁Стран, ное, ▁пре, ступление, ▁против, ▁семьи...</td>\n      <td>[input_ids, attention_mask]</td>\n      <td>[O, O, O, O, O, O, B-NATIONALITY, O, B-COUNTRY...</td>\n    </tr>\n    <tr>\n      <th>4</th>\n      <td>120890_text</td>\n      <td>Важные перемены в жизни рэпера Jay Z: Он помен...</td>\n      <td>[[PERSON, 31, 36, Jay Z], [PERSON, 62, 67, JAY...</td>\n      <td>[▁В, аж, ные, ▁перемен, ы, ▁в, ▁жизни, ▁рэ, пе...</td>\n      <td>[input_ids, attention_mask]</td>\n      <td>[O, O, O, O, O, O, O, O, O, B-PERSON, I-PERSON...</td>\n    </tr>\n  </tbody>\n</table>\n</div>"
     },
     "execution_count": 11,
     "metadata": {},
     "output_type": "execute_result"
    }
   ],
   "source": [
    "total_df.reset_index(inplace=True)\n",
    "total_df.head()"
   ],
   "metadata": {
    "collapsed": false,
    "ExecuteTime": {
     "start_time": "2023-04-08T20:26:04.587904Z",
     "end_time": "2023-04-08T20:26:04.653205Z"
    }
   }
  },
  {
   "cell_type": "code",
   "execution_count": 12,
   "outputs": [
    {
     "data": {
      "text/plain": "<AxesSubplot:>"
     },
     "execution_count": 12,
     "metadata": {},
     "output_type": "execute_result"
    },
    {
     "data": {
      "text/plain": "<Figure size 640x480 with 1 Axes>",
      "image/png": "[encoded data removed]"
     },
     "metadata": {},
     "output_type": "display_data"
    }
   ],
   "source": [
    "total_df[\"tokenized_text\"].apply(len).hist(bins=150)"
   ],
   "metadata": {
    "collapsed": false,
    "ExecuteTime": {
     "start_time": "2023-04-08T20:26:04.644467Z",
     "end_time": "2023-04-08T20:26:05.412658Z"
    }
   }
  },
  {
   "cell_type": "code",
   "execution_count": 13,
   "outputs": [
    {
     "name": "stdout",
     "output_type": "stream",
     "text": [
      "Number of samples in train dataset, which have more tokens, when BERT can process - 21.046%\n"
     ]
    }
   ],
   "source": [
    "lens = total_df[\"classified_entities\"].apply(len)\n",
    "print(\n",
    "    f\"Number of samples in train dataset, which have more tokens, when BERT can process - {lens[lens > 512].count() / lens.count() * 100:.3f}%\"\n",
    ")"
   ],
   "metadata": {
    "collapsed": false,
    "ExecuteTime": {
     "start_time": "2023-04-08T20:26:05.413275Z",
     "end_time": "2023-04-08T20:26:05.417704Z"
    }
   }
  },
  {
   "cell_type": "markdown",
   "source": [
    "Dataset have 21% of samples, what can't be processed by BERT(For example, in document '1109' input text tokenized at more than 3000 tokens). To deal with this problem, we will use sliding window approach. We will split each sample into several samples, each of which will contain 512 tokens. We will use 256 tokens overlap between samples."
   ],
   "metadata": {
    "collapsed": false
   }
  },
  {
   "cell_type": "code",
   "execution_count": 14,
   "outputs": [],
   "source": [
    "total_df[\"input_ids\"] = total_df[\"tokenizer_output\"].apply(lambda x: x[\"input_ids\"])\n",
    "total_df[\"attention_mask\"] = total_df[\"tokenizer_output\"].apply(\n",
    "    lambda x: x[\"attention_mask\"]\n",
    ")"
   ],
   "metadata": {
    "collapsed": false,
    "ExecuteTime": {
     "start_time": "2023-04-08T20:26:05.419913Z",
     "end_time": "2023-04-08T20:26:05.423586Z"
    }
   }
  },
  {
   "cell_type": "code",
   "execution_count": 15,
   "outputs": [],
   "source": [
    "sample = total_df[total_df[\"fName\"] == \"1109\"]\n",
    "iids = sample[\"input_ids\"].values[0]\n",
    "attn = sample[\"attention_mask\"].values[0]"
   ],
   "metadata": {
    "collapsed": false,
    "ExecuteTime": {
     "start_time": "2023-04-08T20:26:05.424300Z",
     "end_time": "2023-04-08T20:26:05.489622Z"
    }
   }
  },
  {
   "cell_type": "code",
   "execution_count": 16,
   "outputs": [
    {
     "data": {
      "text/plain": "(torch.Size([1, 3065]), torch.Size([1, 3065]), 3063)"
     },
     "execution_count": 16,
     "metadata": {},
     "output_type": "execute_result"
    }
   ],
   "source": [
    "iids.shape, attn.shape, len(sample[\"tokenized_text\"].values[0])"
   ],
   "metadata": {
    "collapsed": false,
    "ExecuteTime": {
     "start_time": "2023-04-08T20:26:05.432415Z",
     "end_time": "2023-04-08T20:26:05.490513Z"
    }
   }
  },
  {
   "cell_type": "code",
   "execution_count": 17,
   "outputs": [],
   "source": [
    "# #add tokens to the beginning and to the end of text\n",
    "# # to map them exactly to the output of the tokenizer\n",
    "# def additional_tokens(df_sample):\n",
    "#     word_tokens = df_sample['tokenized_text']\n",
    "#     token_classes ="
   ],
   "metadata": {
    "collapsed": false,
    "ExecuteTime": {
     "start_time": "2023-04-08T20:26:05.474864Z",
     "end_time": "2023-04-08T20:26:05.490770Z"
    }
   }
  },
  {
   "cell_type": "code",
   "execution_count": 18,
   "outputs": [],
   "source": [
    "# drop useless columns\n",
    "total_df.drop([\"entities\", \"text\", 'tokenizer_output'], axis=1, inplace=True)"
   ],
   "metadata": {
    "collapsed": false,
    "ExecuteTime": {
     "start_time": "2023-04-08T20:26:05.475290Z",
     "end_time": "2023-04-08T20:26:05.491009Z"
    }
   }
  },
  {
   "cell_type": "code",
   "execution_count": 19,
   "outputs": [],
   "source": [
    "# split samples with more than 512 tokens\n",
    "def split_sample(sample):\n",
    "    tokenized_text = sample[\"tokenized_text\"]\n",
    "    classified_entities = sample[\"classified_entities\"]\n",
    "    fname = sample[\"fName\"]\n",
    "    input_ids = sample[\"input_ids\"]\n",
    "    attention_mask = sample[\"attention_mask\"]\n",
    "    if input_ids.shape[1] <= 512:\n",
    "        return pd.DataFrame(\n",
    "            [[fname, input_ids, attention_mask, tokenized_text, classified_entities]],\n",
    "            columns=[\n",
    "                \"fName\",\n",
    "                \"input_ids\",\n",
    "                \"attention_mask\",\n",
    "                \"tokenized_text\",\n",
    "                \"classified_entities\",\n",
    "            ],\n",
    "        )\n",
    "    else:\n",
    "        samples = []\n",
    "        for i in range(0, len(tokenized_text), 256):\n",
    "            if i + 512 <= len(tokenized_text):\n",
    "                samples.append(\n",
    "                    [\n",
    "                        fname,\n",
    "                        input_ids[:, i : i + 512],\n",
    "                        attention_mask[:, i : i + 512],\n",
    "                        tokenized_text[i : i + 512],\n",
    "                        classified_entities[i : i + 512],\n",
    "                    ]\n",
    "                )\n",
    "            else:\n",
    "                samples.append(\n",
    "                    [\n",
    "                        fname,\n",
    "                        input_ids[:, -512:],\n",
    "                        attention_mask[:, -512:],\n",
    "                        tokenized_text[-512:],\n",
    "                        classified_entities[-512:],\n",
    "                    ]\n",
    "                )\n",
    "        return pd.DataFrame(\n",
    "            samples, columns=[\"fName\", \"input_ids\", \"attention_mask\", \"tokenized_text\", \"classified_entities\"]\n",
    "        )"
   ],
   "metadata": {
    "collapsed": false,
    "ExecuteTime": {
     "start_time": "2023-04-08T20:26:05.475579Z",
     "end_time": "2023-04-08T20:26:05.491198Z"
    }
   }
  },
  {
   "cell_type": "code",
   "execution_count": 20,
   "outputs": [
    {
     "data": {
      "text/plain": "           fName                                     tokenized_text  \\\n0    104189_text  [▁Поли, ция, ▁Бель, ги, и, ▁арест, овала, ▁дву...   \n1    119336_text  [▁Сем, ья, ▁Оба, мы, ▁приобрел, а, ▁дом, ▁в, ▁...   \n2     11766_text  [▁С, кон, ча, лся, ▁бы, вший, ▁премьер, -, мин...   \n3     11899_text  [▁Стран, ное, ▁пре, ступление, ▁против, ▁семьи...   \n4    120890_text  [▁В, аж, ные, ▁перемен, ы, ▁в, ▁жизни, ▁рэ, пе...   \n..           ...                                                ...   \n836   15895_text  [▁Стив, а, ▁Джо, б, са, ▁похорон, ят, ▁по, ▁бу...   \n837  139972_text  [▁Витамин, ▁Б, ▁для, ▁Сочи, ▁от, ▁художник, а,...   \n838   28585_text  [▁Никола, с, ▁Ма, ду, ро, ▁стал, ▁президент, о...   \n839  127332_text  [▁Фи, гур, ист, ка, ▁Ю, лия, ▁Лип, ни, цкая, ▁...   \n840   13861_text  [▁Герман, ▁Кей, н, ▁—, ▁в, ▁президент, ы, ?, ▁...   \n\n                                   classified_entities  \\\n0    [B-ORGANIZATION, I-ORGANIZATION, I-ORGANIZATIO...   \n1    [O, O, B-PERSON, I-PERSON, O, O, O, O, B-CITY,...   \n2    [O, O, O, O, O, O, B-PROFESSION, I-PROFESSION,...   \n3    [O, O, O, O, O, O, B-NATIONALITY, O, B-COUNTRY...   \n4    [O, O, O, O, O, O, O, O, O, B-PERSON, I-PERSON...   \n..                                                 ...   \n836  [B-PERSON, I-PERSON, I-PERSON, I-PERSON, I-PER...   \n837  [O, O, O, B-CITY, O, B-PROFESSION, I-PROFESSIO...   \n838  [B-PERSON, I-PERSON, I-PERSON, I-PERSON, I-PER...   \n839  [O, O, O, O, B-PERSON, I-PERSON, I-PERSON, I-P...   \n840  [B-PERSON, I-PERSON, I-PERSON, O, O, B-PROFESS...   \n\n                                             input_ids  \\\n0    [[tensor(0), tensor(58083), tensor(8007), tens...   \n1    [[tensor(0), tensor(120400), tensor(17471), te...   \n2    [[tensor(0), tensor(589), tensor(6173), tensor...   \n3    [[tensor(0), tensor(107722), tensor(5509), ten...   \n4    [[tensor(0), tensor(417), tensor(11153), tenso...   \n..                                                 ...   \n836  [[tensor(0), tensor(177256), tensor(59), tenso...   \n837  [[tensor(0), tensor(230512), tensor(1537), ten...   \n838  [[tensor(0), tensor(34785), tensor(650), tenso...   \n839  [[tensor(0), tensor(58037), tensor(20522), ten...   \n840  [[tensor(0), tensor(49149), tensor(68223), ten...   \n\n                                        attention_mask  \n0    [[tensor(1), tensor(1), tensor(1), tensor(1), ...  \n1    [[tensor(1), tensor(1), tensor(1), tensor(1), ...  \n2    [[tensor(1), tensor(1), tensor(1), tensor(1), ...  \n3    [[tensor(1), tensor(1), tensor(1), tensor(1), ...  \n4    [[tensor(1), tensor(1), tensor(1), tensor(1), ...  \n..                                                 ...  \n836  [[tensor(1), tensor(1), tensor(1), tensor(1), ...  \n837  [[tensor(1), tensor(1), tensor(1), tensor(1), ...  \n838  [[tensor(1), tensor(1), tensor(1), tensor(1), ...  \n839  [[tensor(1), tensor(1), tensor(1), tensor(1), ...  \n840  [[tensor(1), tensor(1), tensor(1), tensor(1), ...  \n\n[841 rows x 5 columns]",
      "text/html": "<div>\n<style scoped>\n    .dataframe tbody tr th:only-of-type {\n        vertical-align: middle;\n    }\n\n    .dataframe tbody tr th {\n        vertical-align: top;\n    }\n\n    .dataframe thead th {\n        text-align: right;\n    }\n</style>\n<table border=\"1\" class=\"dataframe\">\n  <thead>\n    <tr style=\"text-align: right;\">\n      <th></th>\n      <th>fName</th>\n      <th>tokenized_text</th>\n      <th>classified_entities</th>\n      <th>input_ids</th>\n      <th>attention_mask</th>\n    </tr>\n  </thead>\n  <tbody>\n    <tr>\n      <th>0</th>\n      <td>104189_text</td>\n      <td>[▁Поли, ция, ▁Бель, ги, и, ▁арест, овала, ▁дву...</td>\n      <td>[B-ORGANIZATION, I-ORGANIZATION, I-ORGANIZATIO...</td>\n      <td>[[tensor(0), tensor(58083), tensor(8007), tens...</td>\n      <td>[[tensor(1), tensor(1), tensor(1), tensor(1), ...</td>\n    </tr>\n    <tr>\n      <th>1</th>\n      <td>119336_text</td>\n      <td>[▁Сем, ья, ▁Оба, мы, ▁приобрел, а, ▁дом, ▁в, ▁...</td>\n      <td>[O, O, B-PERSON, I-PERSON, O, O, O, O, B-CITY,...</td>\n      <td>[[tensor(0), tensor(120400), tensor(17471), te...</td>\n      <td>[[tensor(1), tensor(1), tensor(1), tensor(1), ...</td>\n    </tr>\n    <tr>\n      <th>2</th>\n      <td>11766_text</td>\n      <td>[▁С, кон, ча, лся, ▁бы, вший, ▁премьер, -, мин...</td>\n      <td>[O, O, O, O, O, O, B-PROFESSION, I-PROFESSION,...</td>\n      <td>[[tensor(0), tensor(589), tensor(6173), tensor...</td>\n      <td>[[tensor(1), tensor(1), tensor(1), tensor(1), ...</td>\n    </tr>\n    <tr>\n      <th>3</th>\n      <td>11899_text</td>\n      <td>[▁Стран, ное, ▁пре, ступление, ▁против, ▁семьи...</td>\n      <td>[O, O, O, O, O, O, B-NATIONALITY, O, B-COUNTRY...</td>\n      <td>[[tensor(0), tensor(107722), tensor(5509), ten...</td>\n      <td>[[tensor(1), tensor(1), tensor(1), tensor(1), ...</td>\n    </tr>\n    <tr>\n      <th>4</th>\n      <td>120890_text</td>\n      <td>[▁В, аж, ные, ▁перемен, ы, ▁в, ▁жизни, ▁рэ, пе...</td>\n      <td>[O, O, O, O, O, O, O, O, O, B-PERSON, I-PERSON...</td>\n      <td>[[tensor(0), tensor(417), tensor(11153), tenso...</td>\n      <td>[[tensor(1), tensor(1), tensor(1), tensor(1), ...</td>\n    </tr>\n    <tr>\n      <th>...</th>\n      <td>...</td>\n      <td>...</td>\n      <td>...</td>\n      <td>...</td>\n      <td>...</td>\n    </tr>\n    <tr>\n      <th>836</th>\n      <td>15895_text</td>\n      <td>[▁Стив, а, ▁Джо, б, са, ▁похорон, ят, ▁по, ▁бу...</td>\n      <td>[B-PERSON, I-PERSON, I-PERSON, I-PERSON, I-PER...</td>\n      <td>[[tensor(0), tensor(177256), tensor(59), tenso...</td>\n      <td>[[tensor(1), tensor(1), tensor(1), tensor(1), ...</td>\n    </tr>\n    <tr>\n      <th>837</th>\n      <td>139972_text</td>\n      <td>[▁Витамин, ▁Б, ▁для, ▁Сочи, ▁от, ▁художник, а,...</td>\n      <td>[O, O, O, B-CITY, O, B-PROFESSION, I-PROFESSIO...</td>\n      <td>[[tensor(0), tensor(230512), tensor(1537), ten...</td>\n      <td>[[tensor(1), tensor(1), tensor(1), tensor(1), ...</td>\n    </tr>\n    <tr>\n      <th>838</th>\n      <td>28585_text</td>\n      <td>[▁Никола, с, ▁Ма, ду, ро, ▁стал, ▁президент, о...</td>\n      <td>[B-PERSON, I-PERSON, I-PERSON, I-PERSON, I-PER...</td>\n      <td>[[tensor(0), tensor(34785), tensor(650), tenso...</td>\n      <td>[[tensor(1), tensor(1), tensor(1), tensor(1), ...</td>\n    </tr>\n    <tr>\n      <th>839</th>\n      <td>127332_text</td>\n      <td>[▁Фи, гур, ист, ка, ▁Ю, лия, ▁Лип, ни, цкая, ▁...</td>\n      <td>[O, O, O, O, B-PERSON, I-PERSON, I-PERSON, I-P...</td>\n      <td>[[tensor(0), tensor(58037), tensor(20522), ten...</td>\n      <td>[[tensor(1), tensor(1), tensor(1), tensor(1), ...</td>\n    </tr>\n    <tr>\n      <th>840</th>\n      <td>13861_text</td>\n      <td>[▁Герман, ▁Кей, н, ▁—, ▁в, ▁президент, ы, ?, ▁...</td>\n      <td>[B-PERSON, I-PERSON, I-PERSON, O, O, B-PROFESS...</td>\n      <td>[[tensor(0), tensor(49149), tensor(68223), ten...</td>\n      <td>[[tensor(1), tensor(1), tensor(1), tensor(1), ...</td>\n    </tr>\n  </tbody>\n</table>\n<p>841 rows × 5 columns</p>\n</div>"
     },
     "execution_count": 20,
     "metadata": {},
     "output_type": "execute_result"
    }
   ],
   "source": [
    "total_df"
   ],
   "metadata": {
    "collapsed": false,
    "ExecuteTime": {
     "start_time": "2023-04-08T20:26:05.475958Z",
     "end_time": "2023-04-08T20:26:05.678308Z"
    }
   }
  },
  {
   "cell_type": "code",
   "execution_count": 21,
   "outputs": [],
   "source": [
    "total_df = total_df.apply(split_sample, axis=1)"
   ],
   "metadata": {
    "collapsed": false,
    "ExecuteTime": {
     "start_time": "2023-04-08T20:26:05.705220Z",
     "end_time": "2023-04-08T20:26:05.908518Z"
    }
   }
  },
  {
   "cell_type": "code",
   "execution_count": 22,
   "outputs": [],
   "source": [
    "total_df = pd.concat(total_df.values)\n",
    "total_df.reset_index(inplace=True)\n",
    "total_df.drop(\"index\", axis=1, inplace=True)"
   ],
   "metadata": {
    "collapsed": false,
    "ExecuteTime": {
     "start_time": "2023-04-08T20:26:05.915804Z",
     "end_time": "2023-04-08T20:26:05.958278Z"
    }
   }
  },
  {
   "cell_type": "code",
   "execution_count": 23,
   "outputs": [
    {
     "data": {
      "text/plain": "<AxesSubplot:>"
     },
     "execution_count": 23,
     "metadata": {},
     "output_type": "execute_result"
    },
    {
     "data": {
      "text/plain": "<Figure size 640x480 with 1 Axes>",
      "image/png": "[encoded data removed]"
     },
     "metadata": {},
     "output_type": "display_data"
    }
   ],
   "source": [
    "total_df[\"tokenized_text\"].apply(len).hist(bins=50)"
   ],
   "metadata": {
    "collapsed": false,
    "ExecuteTime": {
     "start_time": "2023-04-08T20:26:05.958155Z",
     "end_time": "2023-04-08T20:26:06.122812Z"
    }
   }
  },
  {
   "cell_type": "code",
   "execution_count": 24,
   "outputs": [
    {
     "data": {
      "text/plain": "array([['▁Стран', 'O'],\n       ['ное', 'O'],\n       ['▁пре', 'O'],\n       ...,\n       ['▁время', 'O'],\n       ['▁интервью', 'O'],\n       ['▁с', 'O']], dtype='<U19')"
     },
     "execution_count": 24,
     "metadata": {},
     "output_type": "execute_result"
    }
   ],
   "source": [
    "# test token mapping for the sample\n",
    "n = 3\n",
    "sample = total_df.iloc[n]\n",
    "sample_tokens = sample[\"tokenized_text\"]\n",
    "sample_entities = sample[\"classified_entities\"]\n",
    "a = np.array([sample_tokens, sample_entities])\n",
    "a.T"
   ],
   "metadata": {
    "collapsed": false,
    "ExecuteTime": {
     "start_time": "2023-04-08T20:26:06.111410Z",
     "end_time": "2023-04-08T20:26:06.123221Z"
    }
   }
  },
  {
   "cell_type": "code",
   "execution_count": 25,
   "outputs": [],
   "source": [
    "unique_entities = []\n",
    "for sample in total_df[\"classified_entities\"]:\n",
    "    for token in sample:\n",
    "        unique_entities.append(token)\n",
    "unique_entities = np.unique(unique_entities)"
   ],
   "metadata": {
    "collapsed": false,
    "ExecuteTime": {
     "start_time": "2023-04-08T20:26:06.111573Z",
     "end_time": "2023-04-08T20:26:06.295036Z"
    }
   }
  },
  {
   "cell_type": "code",
   "execution_count": 26,
   "outputs": [],
   "source": [
    "id2label = {}\n",
    "label2id = {}\n",
    "\n",
    "for i in range(len(unique_entities)):\n",
    "    id2label[i] = unique_entities[i]\n",
    "    label2id[unique_entities[i]] = i"
   ],
   "metadata": {
    "collapsed": false,
    "ExecuteTime": {
     "start_time": "2023-04-08T20:26:06.296417Z",
     "end_time": "2023-04-08T20:26:06.342166Z"
    }
   }
  },
  {
   "cell_type": "code",
   "execution_count": 27,
   "outputs": [],
   "source": [
    "labels_num = len(unique_entities)"
   ],
   "metadata": {
    "collapsed": false,
    "ExecuteTime": {
     "start_time": "2023-04-08T20:26:06.342059Z",
     "end_time": "2023-04-08T20:26:06.342605Z"
    }
   }
  },
  {
   "cell_type": "code",
   "execution_count": 28,
   "outputs": [
    {
     "data": {
      "text/plain": "59"
     },
     "execution_count": 28,
     "metadata": {},
     "output_type": "execute_result"
    }
   ],
   "source": [
    "labels_num"
   ],
   "metadata": {
    "collapsed": false,
    "ExecuteTime": {
     "start_time": "2023-04-08T20:26:06.342423Z",
     "end_time": "2023-04-08T20:26:06.343183Z"
    }
   }
  },
  {
   "cell_type": "code",
   "execution_count": 29,
   "outputs": [],
   "source": [
    "class BertTokenClassification(torch.nn.Module):\n",
    "    def __init__(self):\n",
    "        super(BertTokenClassification, self).__init__()\n",
    "        self.bert = AutoModelForTokenClassification.from_pretrained(\"yqelz/xml-roberta-large-ner-russian\")\n",
    "        self.bert.config.id2label = id2label\n",
    "        self.bert.config.label2id = label2id\n",
    "        self.bert.classifier = torch.nn.Linear(1024, labels_num)\n",
    "\n",
    "    def forward(self, input_id, mask, label):\n",
    "        output = self.bert(\n",
    "            input_ids=input_id, attention_mask=mask, labels=label, return_dict=False\n",
    "        )\n",
    "        return output"
   ],
   "metadata": {
    "collapsed": false,
    "ExecuteTime": {
     "start_time": "2023-04-08T20:26:06.343025Z",
     "end_time": "2023-04-08T20:26:06.343377Z"
    }
   }
  },
  {
   "cell_type": "code",
   "execution_count": 30,
   "outputs": [],
   "source": [
    "class TextDataset(Dataset):\n",
    "    def __init__(self, dataframe):\n",
    "        self.df = dataframe\n",
    "\n",
    "    def __len__(self):\n",
    "        return len(self.df)\n",
    "\n",
    "    @staticmethod\n",
    "    def df_sample_to_tensor(row):\n",
    "        data = (row['input_ids'], row['attention_mask'])\n",
    "        labels = row['classified_entities']\n",
    "        return data, labels\n",
    "\n",
    "    def __getitem__(self, idx):\n",
    "        return self.df_sample_to_tensor(self.df.iloc[idx])"
   ],
   "metadata": {
    "collapsed": false,
    "ExecuteTime": {
     "start_time": "2023-04-08T20:26:06.343178Z",
     "end_time": "2023-04-08T20:26:06.343531Z"
    }
   }
  },
  {
   "cell_type": "code",
   "execution_count": 31,
   "outputs": [],
   "source": [
    "def tokenization_complement(tensor):\n",
    "    complement_size = 512 - tensor.shape[1]\n",
    "    zeros_complement = torch.zeros((1,complement_size))\n",
    "    new_sample = torch.cat((tensor, zeros_complement,), dim=1)\n",
    "    assert new_sample.shape[1] == 512\n",
    "    return new_sample"
   ],
   "metadata": {
    "collapsed": false,
    "ExecuteTime": {
     "start_time": "2023-04-08T20:26:06.343337Z",
     "end_time": "2023-04-08T20:26:06.343690Z"
    }
   }
  },
  {
   "cell_type": "code",
   "execution_count": 32,
   "outputs": [],
   "source": [
    "total_df['input_ids'] = total_df['input_ids'].apply(tokenization_complement)\n",
    "total_df['attention_mask'] = total_df['attention_mask'].apply(tokenization_complement)"
   ],
   "metadata": {
    "collapsed": false,
    "ExecuteTime": {
     "start_time": "2023-04-08T20:26:06.343605Z",
     "end_time": "2023-04-08T20:26:06.403216Z"
    }
   }
  },
  {
   "cell_type": "code",
   "execution_count": 33,
   "outputs": [],
   "source": [
    "from sklearn.model_selection import train_test_split\n",
    "\n",
    "train_data, val_data = train_test_split(total_df, train_size=0.9)"
   ],
   "metadata": {
    "collapsed": false,
    "ExecuteTime": {
     "start_time": "2023-04-08T20:26:06.384523Z",
     "end_time": "2023-04-08T20:26:06.956497Z"
    }
   }
  },
  {
   "cell_type": "code",
   "execution_count": 34,
   "outputs": [],
   "source": [
    "from tqdm import tqdm\n",
    "\n",
    "BATCH_SIZE = 4\n",
    "lr = 3e-4\n",
    "EPOCH_NUMBER = 3\n",
    "\n",
    "def train_loop(model, train_d, val_d, epoch_num=EPOCH_NUMBER):\n",
    "    train_dataset = TextDataset(train_d)\n",
    "    val_dataset = TextDataset(val_d)\n",
    "\n",
    "    train_dataloader = DataLoader(train_dataset, batch_size=BATCH_SIZE, shuffle=True)\n",
    "    val_dataloader = DataLoader(val_dataset, batch_size=BATCH_SIZE, shuffle=True)\n",
    "\n",
    "    optimizer = torch.optim.Adam(model.parameters(), lr=lr)\n",
    "\n",
    "    train_losses = []\n",
    "    val_losses = []\n",
    "\n",
    "    for epoch in range(epoch_num):\n",
    "        acc_train = 0\n",
    "        cur_loss_train = 0\n",
    "\n",
    "        model.train()\n",
    "        for data, labels in tqdm(train_dataloader):\n",
    "            data = data.to(device)\n",
    "            labels = torch.tensor(labels).to(device)\n",
    "            print(data.shape)\n",
    "            print(labels.shape)\n",
    "\n",
    "            # optimizer.zero_grad()\n",
    "            #\n",
    "            # loss, logits = model(*data)\n",
    "            # for i in range(logits.shape[0]):\n",
    "            #     predictions = logits.argmax(dim=1)\n",
    "\n"
   ],
   "metadata": {
    "collapsed": false,
    "ExecuteTime": {
     "start_time": "2023-04-08T20:26:06.956092Z",
     "end_time": "2023-04-08T20:26:06.959877Z"
    }
   }
  },
  {
   "cell_type": "code",
   "execution_count": 35,
   "outputs": [],
   "source": [
    "model = BertTokenClassification().to(device)"
   ],
   "metadata": {
    "collapsed": false,
    "ExecuteTime": {
     "start_time": "2023-04-08T20:26:06.961901Z",
     "end_time": "2023-04-08T20:26:14.938550Z"
    }
   }
  },
  {
   "cell_type": "code",
   "execution_count": 36,
   "outputs": [],
   "source": [
    "#TODO tokenizer produce 2 additional tokens start, end\n",
    "#TODO complement labels list for dataset\n",
    "#TODO ???"
   ],
   "metadata": {
    "collapsed": false,
    "ExecuteTime": {
     "start_time": "2023-04-08T20:26:14.936346Z",
     "end_time": "2023-04-08T20:26:14.938825Z"
    }
   }
  },
  {
   "cell_type": "code",
   "execution_count": 37,
   "outputs": [
    {
     "name": "stderr",
     "output_type": "stream",
     "text": [
      "  0%|          | 0/281 [00:00<?, ?it/s]\n"
     ]
    },
    {
     "ename": "RuntimeError",
     "evalue": "each element in list of batch should be of equal size",
     "output_type": "error",
     "traceback": [
      "\u001B[0;31m---------------------------------------------------------------------------\u001B[0m",
      "\u001B[0;31mRuntimeError\u001B[0m                              Traceback (most recent call last)",
      "\u001B[0;32m/tmp/ipykernel_36514/3868080395.py\u001B[0m in \u001B[0;36m<module>\u001B[0;34m\u001B[0m\n\u001B[0;32m----> 1\u001B[0;31m \u001B[0mtrain_loop\u001B[0m\u001B[0;34m(\u001B[0m\u001B[0mmodel\u001B[0m\u001B[0;34m,\u001B[0m \u001B[0mtrain_data\u001B[0m\u001B[0;34m,\u001B[0m \u001B[0mval_data\u001B[0m\u001B[0;34m)\u001B[0m\u001B[0;34m\u001B[0m\u001B[0;34m\u001B[0m\u001B[0m\n\u001B[0m",
      "\u001B[0;32m/tmp/ipykernel_36514/1567802959.py\u001B[0m in \u001B[0;36mtrain_loop\u001B[0;34m(model, train_d, val_d, epoch_num)\u001B[0m\n\u001B[1;32m     22\u001B[0m \u001B[0;34m\u001B[0m\u001B[0m\n\u001B[1;32m     23\u001B[0m         \u001B[0mmodel\u001B[0m\u001B[0;34m.\u001B[0m\u001B[0mtrain\u001B[0m\u001B[0;34m(\u001B[0m\u001B[0;34m)\u001B[0m\u001B[0;34m\u001B[0m\u001B[0;34m\u001B[0m\u001B[0m\n\u001B[0;32m---> 24\u001B[0;31m         \u001B[0;32mfor\u001B[0m \u001B[0mdata\u001B[0m\u001B[0;34m,\u001B[0m \u001B[0mlabels\u001B[0m \u001B[0;32min\u001B[0m \u001B[0mtqdm\u001B[0m\u001B[0;34m(\u001B[0m\u001B[0mtrain_dataloader\u001B[0m\u001B[0;34m)\u001B[0m\u001B[0;34m:\u001B[0m\u001B[0;34m\u001B[0m\u001B[0;34m\u001B[0m\u001B[0m\n\u001B[0m\u001B[1;32m     25\u001B[0m             \u001B[0mdata\u001B[0m \u001B[0;34m=\u001B[0m \u001B[0mdata\u001B[0m\u001B[0;34m.\u001B[0m\u001B[0mto\u001B[0m\u001B[0;34m(\u001B[0m\u001B[0mdevice\u001B[0m\u001B[0;34m)\u001B[0m\u001B[0;34m\u001B[0m\u001B[0;34m\u001B[0m\u001B[0m\n\u001B[1;32m     26\u001B[0m             \u001B[0mlabels\u001B[0m \u001B[0;34m=\u001B[0m \u001B[0mtorch\u001B[0m\u001B[0;34m.\u001B[0m\u001B[0mtensor\u001B[0m\u001B[0;34m(\u001B[0m\u001B[0mlabels\u001B[0m\u001B[0;34m)\u001B[0m\u001B[0;34m.\u001B[0m\u001B[0mto\u001B[0m\u001B[0;34m(\u001B[0m\u001B[0mdevice\u001B[0m\u001B[0;34m)\u001B[0m\u001B[0;34m\u001B[0m\u001B[0;34m\u001B[0m\u001B[0m\n",
      "\u001B[0;32m~/anaconda3/lib/python3.9/site-packages/tqdm/std.py\u001B[0m in \u001B[0;36m__iter__\u001B[0;34m(self)\u001B[0m\n\u001B[1;32m   1193\u001B[0m \u001B[0;34m\u001B[0m\u001B[0m\n\u001B[1;32m   1194\u001B[0m         \u001B[0;32mtry\u001B[0m\u001B[0;34m:\u001B[0m\u001B[0;34m\u001B[0m\u001B[0;34m\u001B[0m\u001B[0m\n\u001B[0;32m-> 1195\u001B[0;31m             \u001B[0;32mfor\u001B[0m \u001B[0mobj\u001B[0m \u001B[0;32min\u001B[0m \u001B[0miterable\u001B[0m\u001B[0;34m:\u001B[0m\u001B[0;34m\u001B[0m\u001B[0;34m\u001B[0m\u001B[0m\n\u001B[0m\u001B[1;32m   1196\u001B[0m                 \u001B[0;32myield\u001B[0m \u001B[0mobj\u001B[0m\u001B[0;34m\u001B[0m\u001B[0;34m\u001B[0m\u001B[0m\n\u001B[1;32m   1197\u001B[0m                 \u001B[0;31m# Update and possibly print the progressbar.\u001B[0m\u001B[0;34m\u001B[0m\u001B[0;34m\u001B[0m\u001B[0m\n",
      "\u001B[0;32m~/anaconda3/lib/python3.9/site-packages/torch/utils/data/dataloader.py\u001B[0m in \u001B[0;36m__next__\u001B[0;34m(self)\u001B[0m\n\u001B[1;32m    632\u001B[0m                 \u001B[0;31m# TODO(https://github.com/pytorch/pytorch/issues/76750)\u001B[0m\u001B[0;34m\u001B[0m\u001B[0;34m\u001B[0m\u001B[0m\n\u001B[1;32m    633\u001B[0m                 \u001B[0mself\u001B[0m\u001B[0;34m.\u001B[0m\u001B[0m_reset\u001B[0m\u001B[0;34m(\u001B[0m\u001B[0;34m)\u001B[0m  \u001B[0;31m# type: ignore[call-arg]\u001B[0m\u001B[0;34m\u001B[0m\u001B[0;34m\u001B[0m\u001B[0m\n\u001B[0;32m--> 634\u001B[0;31m             \u001B[0mdata\u001B[0m \u001B[0;34m=\u001B[0m \u001B[0mself\u001B[0m\u001B[0;34m.\u001B[0m\u001B[0m_next_data\u001B[0m\u001B[0;34m(\u001B[0m\u001B[0;34m)\u001B[0m\u001B[0;34m\u001B[0m\u001B[0;34m\u001B[0m\u001B[0m\n\u001B[0m\u001B[1;32m    635\u001B[0m             \u001B[0mself\u001B[0m\u001B[0;34m.\u001B[0m\u001B[0m_num_yielded\u001B[0m \u001B[0;34m+=\u001B[0m \u001B[0;36m1\u001B[0m\u001B[0;34m\u001B[0m\u001B[0;34m\u001B[0m\u001B[0m\n\u001B[1;32m    636\u001B[0m             \u001B[0;32mif\u001B[0m \u001B[0mself\u001B[0m\u001B[0;34m.\u001B[0m\u001B[0m_dataset_kind\u001B[0m \u001B[0;34m==\u001B[0m \u001B[0m_DatasetKind\u001B[0m\u001B[0;34m.\u001B[0m\u001B[0mIterable\u001B[0m \u001B[0;32mand\u001B[0m\u001B[0;31m \u001B[0m\u001B[0;31m\\\u001B[0m\u001B[0;34m\u001B[0m\u001B[0;34m\u001B[0m\u001B[0m\n",
      "\u001B[0;32m~/anaconda3/lib/python3.9/site-packages/torch/utils/data/dataloader.py\u001B[0m in \u001B[0;36m_next_data\u001B[0;34m(self)\u001B[0m\n\u001B[1;32m    676\u001B[0m     \u001B[0;32mdef\u001B[0m \u001B[0m_next_data\u001B[0m\u001B[0;34m(\u001B[0m\u001B[0mself\u001B[0m\u001B[0;34m)\u001B[0m\u001B[0;34m:\u001B[0m\u001B[0;34m\u001B[0m\u001B[0;34m\u001B[0m\u001B[0m\n\u001B[1;32m    677\u001B[0m         \u001B[0mindex\u001B[0m \u001B[0;34m=\u001B[0m \u001B[0mself\u001B[0m\u001B[0;34m.\u001B[0m\u001B[0m_next_index\u001B[0m\u001B[0;34m(\u001B[0m\u001B[0;34m)\u001B[0m  \u001B[0;31m# may raise StopIteration\u001B[0m\u001B[0;34m\u001B[0m\u001B[0;34m\u001B[0m\u001B[0m\n\u001B[0;32m--> 678\u001B[0;31m         \u001B[0mdata\u001B[0m \u001B[0;34m=\u001B[0m \u001B[0mself\u001B[0m\u001B[0;34m.\u001B[0m\u001B[0m_dataset_fetcher\u001B[0m\u001B[0;34m.\u001B[0m\u001B[0mfetch\u001B[0m\u001B[0;34m(\u001B[0m\u001B[0mindex\u001B[0m\u001B[0;34m)\u001B[0m  \u001B[0;31m# may raise StopIteration\u001B[0m\u001B[0;34m\u001B[0m\u001B[0;34m\u001B[0m\u001B[0m\n\u001B[0m\u001B[1;32m    679\u001B[0m         \u001B[0;32mif\u001B[0m \u001B[0mself\u001B[0m\u001B[0;34m.\u001B[0m\u001B[0m_pin_memory\u001B[0m\u001B[0;34m:\u001B[0m\u001B[0;34m\u001B[0m\u001B[0;34m\u001B[0m\u001B[0m\n\u001B[1;32m    680\u001B[0m             \u001B[0mdata\u001B[0m \u001B[0;34m=\u001B[0m \u001B[0m_utils\u001B[0m\u001B[0;34m.\u001B[0m\u001B[0mpin_memory\u001B[0m\u001B[0;34m.\u001B[0m\u001B[0mpin_memory\u001B[0m\u001B[0;34m(\u001B[0m\u001B[0mdata\u001B[0m\u001B[0;34m,\u001B[0m \u001B[0mself\u001B[0m\u001B[0;34m.\u001B[0m\u001B[0m_pin_memory_device\u001B[0m\u001B[0;34m)\u001B[0m\u001B[0;34m\u001B[0m\u001B[0;34m\u001B[0m\u001B[0m\n",
      "\u001B[0;32m~/anaconda3/lib/python3.9/site-packages/torch/utils/data/_utils/fetch.py\u001B[0m in \u001B[0;36mfetch\u001B[0;34m(self, possibly_batched_index)\u001B[0m\n\u001B[1;32m     52\u001B[0m         \u001B[0;32melse\u001B[0m\u001B[0;34m:\u001B[0m\u001B[0;34m\u001B[0m\u001B[0;34m\u001B[0m\u001B[0m\n\u001B[1;32m     53\u001B[0m             \u001B[0mdata\u001B[0m \u001B[0;34m=\u001B[0m \u001B[0mself\u001B[0m\u001B[0;34m.\u001B[0m\u001B[0mdataset\u001B[0m\u001B[0;34m[\u001B[0m\u001B[0mpossibly_batched_index\u001B[0m\u001B[0;34m]\u001B[0m\u001B[0;34m\u001B[0m\u001B[0;34m\u001B[0m\u001B[0m\n\u001B[0;32m---> 54\u001B[0;31m         \u001B[0;32mreturn\u001B[0m \u001B[0mself\u001B[0m\u001B[0;34m.\u001B[0m\u001B[0mcollate_fn\u001B[0m\u001B[0;34m(\u001B[0m\u001B[0mdata\u001B[0m\u001B[0;34m)\u001B[0m\u001B[0;34m\u001B[0m\u001B[0;34m\u001B[0m\u001B[0m\n\u001B[0m",
      "\u001B[0;32m~/anaconda3/lib/python3.9/site-packages/torch/utils/data/_utils/collate.py\u001B[0m in \u001B[0;36mdefault_collate\u001B[0;34m(batch)\u001B[0m\n\u001B[1;32m    262\u001B[0m             \u001B[0;34m>>\u001B[0m\u001B[0;34m>\u001B[0m \u001B[0mdefault_collate\u001B[0m\u001B[0;34m(\u001B[0m\u001B[0mbatch\u001B[0m\u001B[0;34m)\u001B[0m  \u001B[0;31m# Handle `CustomType` automatically\u001B[0m\u001B[0;34m\u001B[0m\u001B[0;34m\u001B[0m\u001B[0m\n\u001B[1;32m    263\u001B[0m     \"\"\"\n\u001B[0;32m--> 264\u001B[0;31m     \u001B[0;32mreturn\u001B[0m \u001B[0mcollate\u001B[0m\u001B[0;34m(\u001B[0m\u001B[0mbatch\u001B[0m\u001B[0;34m,\u001B[0m \u001B[0mcollate_fn_map\u001B[0m\u001B[0;34m=\u001B[0m\u001B[0mdefault_collate_fn_map\u001B[0m\u001B[0;34m)\u001B[0m\u001B[0;34m\u001B[0m\u001B[0;34m\u001B[0m\u001B[0m\n\u001B[0m",
      "\u001B[0;32m~/anaconda3/lib/python3.9/site-packages/torch/utils/data/_utils/collate.py\u001B[0m in \u001B[0;36mcollate\u001B[0;34m(batch, collate_fn_map)\u001B[0m\n\u001B[1;32m    140\u001B[0m \u001B[0;34m\u001B[0m\u001B[0m\n\u001B[1;32m    141\u001B[0m         \u001B[0;32mif\u001B[0m \u001B[0misinstance\u001B[0m\u001B[0;34m(\u001B[0m\u001B[0melem\u001B[0m\u001B[0;34m,\u001B[0m \u001B[0mtuple\u001B[0m\u001B[0;34m)\u001B[0m\u001B[0;34m:\u001B[0m\u001B[0;34m\u001B[0m\u001B[0;34m\u001B[0m\u001B[0m\n\u001B[0;32m--> 142\u001B[0;31m             \u001B[0;32mreturn\u001B[0m \u001B[0;34m[\u001B[0m\u001B[0mcollate\u001B[0m\u001B[0;34m(\u001B[0m\u001B[0msamples\u001B[0m\u001B[0;34m,\u001B[0m \u001B[0mcollate_fn_map\u001B[0m\u001B[0;34m=\u001B[0m\u001B[0mcollate_fn_map\u001B[0m\u001B[0;34m)\u001B[0m \u001B[0;32mfor\u001B[0m \u001B[0msamples\u001B[0m \u001B[0;32min\u001B[0m \u001B[0mtransposed\u001B[0m\u001B[0;34m]\u001B[0m  \u001B[0;31m# Backwards compatibility.\u001B[0m\u001B[0;34m\u001B[0m\u001B[0;34m\u001B[0m\u001B[0m\n\u001B[0m\u001B[1;32m    143\u001B[0m         \u001B[0;32melse\u001B[0m\u001B[0;34m:\u001B[0m\u001B[0;34m\u001B[0m\u001B[0;34m\u001B[0m\u001B[0m\n\u001B[1;32m    144\u001B[0m             \u001B[0;32mtry\u001B[0m\u001B[0;34m:\u001B[0m\u001B[0;34m\u001B[0m\u001B[0;34m\u001B[0m\u001B[0m\n",
      "\u001B[0;32m~/anaconda3/lib/python3.9/site-packages/torch/utils/data/_utils/collate.py\u001B[0m in \u001B[0;36m<listcomp>\u001B[0;34m(.0)\u001B[0m\n\u001B[1;32m    140\u001B[0m \u001B[0;34m\u001B[0m\u001B[0m\n\u001B[1;32m    141\u001B[0m         \u001B[0;32mif\u001B[0m \u001B[0misinstance\u001B[0m\u001B[0;34m(\u001B[0m\u001B[0melem\u001B[0m\u001B[0;34m,\u001B[0m \u001B[0mtuple\u001B[0m\u001B[0;34m)\u001B[0m\u001B[0;34m:\u001B[0m\u001B[0;34m\u001B[0m\u001B[0;34m\u001B[0m\u001B[0m\n\u001B[0;32m--> 142\u001B[0;31m             \u001B[0;32mreturn\u001B[0m \u001B[0;34m[\u001B[0m\u001B[0mcollate\u001B[0m\u001B[0;34m(\u001B[0m\u001B[0msamples\u001B[0m\u001B[0;34m,\u001B[0m \u001B[0mcollate_fn_map\u001B[0m\u001B[0;34m=\u001B[0m\u001B[0mcollate_fn_map\u001B[0m\u001B[0;34m)\u001B[0m \u001B[0;32mfor\u001B[0m \u001B[0msamples\u001B[0m \u001B[0;32min\u001B[0m \u001B[0mtransposed\u001B[0m\u001B[0;34m]\u001B[0m  \u001B[0;31m# Backwards compatibility.\u001B[0m\u001B[0;34m\u001B[0m\u001B[0;34m\u001B[0m\u001B[0m\n\u001B[0m\u001B[1;32m    143\u001B[0m         \u001B[0;32melse\u001B[0m\u001B[0;34m:\u001B[0m\u001B[0;34m\u001B[0m\u001B[0;34m\u001B[0m\u001B[0m\n\u001B[1;32m    144\u001B[0m             \u001B[0;32mtry\u001B[0m\u001B[0;34m:\u001B[0m\u001B[0;34m\u001B[0m\u001B[0;34m\u001B[0m\u001B[0m\n",
      "\u001B[0;32m~/anaconda3/lib/python3.9/site-packages/torch/utils/data/_utils/collate.py\u001B[0m in \u001B[0;36mcollate\u001B[0;34m(batch, collate_fn_map)\u001B[0m\n\u001B[1;32m    136\u001B[0m         \u001B[0melem_size\u001B[0m \u001B[0;34m=\u001B[0m \u001B[0mlen\u001B[0m\u001B[0;34m(\u001B[0m\u001B[0mnext\u001B[0m\u001B[0;34m(\u001B[0m\u001B[0mit\u001B[0m\u001B[0;34m)\u001B[0m\u001B[0;34m)\u001B[0m\u001B[0;34m\u001B[0m\u001B[0;34m\u001B[0m\u001B[0m\n\u001B[1;32m    137\u001B[0m         \u001B[0;32mif\u001B[0m \u001B[0;32mnot\u001B[0m \u001B[0mall\u001B[0m\u001B[0;34m(\u001B[0m\u001B[0mlen\u001B[0m\u001B[0;34m(\u001B[0m\u001B[0melem\u001B[0m\u001B[0;34m)\u001B[0m \u001B[0;34m==\u001B[0m \u001B[0melem_size\u001B[0m \u001B[0;32mfor\u001B[0m \u001B[0melem\u001B[0m \u001B[0;32min\u001B[0m \u001B[0mit\u001B[0m\u001B[0;34m)\u001B[0m\u001B[0;34m:\u001B[0m\u001B[0;34m\u001B[0m\u001B[0;34m\u001B[0m\u001B[0m\n\u001B[0;32m--> 138\u001B[0;31m             \u001B[0;32mraise\u001B[0m \u001B[0mRuntimeError\u001B[0m\u001B[0;34m(\u001B[0m\u001B[0;34m'each element in list of batch should be of equal size'\u001B[0m\u001B[0;34m)\u001B[0m\u001B[0;34m\u001B[0m\u001B[0;34m\u001B[0m\u001B[0m\n\u001B[0m\u001B[1;32m    139\u001B[0m         \u001B[0mtransposed\u001B[0m \u001B[0;34m=\u001B[0m \u001B[0mlist\u001B[0m\u001B[0;34m(\u001B[0m\u001B[0mzip\u001B[0m\u001B[0;34m(\u001B[0m\u001B[0;34m*\u001B[0m\u001B[0mbatch\u001B[0m\u001B[0;34m)\u001B[0m\u001B[0;34m)\u001B[0m  \u001B[0;31m# It may be accessed twice, so we use a list.\u001B[0m\u001B[0;34m\u001B[0m\u001B[0;34m\u001B[0m\u001B[0m\n\u001B[1;32m    140\u001B[0m \u001B[0;34m\u001B[0m\u001B[0m\n",
      "\u001B[0;31mRuntimeError\u001B[0m: each element in list of batch should be of equal size"
     ]
    }
   ],
   "source": [
    "train_loop(model, train_data, val_data)"
   ],
   "metadata": {
    "collapsed": false
   }
  },
  {
   "cell_type": "code",
   "execution_count": null,
   "outputs": [],
   "source": [
    "# sample = 'my name is nikita'\n",
    "# sample_tokens = tokenizer(sample, return_tensors=\"pt\", padding=True, truncation=True)\n",
    "#\n",
    "# with torch.no_grad():\n",
    "#     logits = model(**sample_tokens).logits\n",
    "#\n",
    "# predicted_token_class_ids = logits.argmax(axis=2)\n",
    "# predicted_tokens_classes = [model.config.id2label[t.item()] for t in predicted_token_class_ids[0]]\n",
    "# token_words = tokenizer.convert_ids_to_tokens(sample_tokens['input_ids'][0])\n",
    "# print(predicted_tokens_classes)"
   ],
   "metadata": {
    "collapsed": false,
    "ExecuteTime": {
     "start_time": "2023-04-08T02:57:12.437413Z",
     "end_time": "2023-04-08T02:57:12.437732Z"
    }
   }
  },
  {
   "cell_type": "code",
   "execution_count": null,
   "outputs": [],
   "source": [],
   "metadata": {
    "collapsed": false,
    "ExecuteTime": {
     "start_time": "2023-04-08T02:57:12.437458Z",
     "end_time": "2023-04-08T02:57:12.437754Z"
    }
   }
  }
 ],
 "metadata": {
  "kernelspec": {
   "display_name": "Python 3",
   "language": "python",
   "name": "python3"
  },
  "language_info": {
   "codemirror_mode": {
    "name": "ipython",
    "version": 2
   },
   "file_extension": ".py",
   "mimetype": "text/x-python",
   "name": "python",
   "nbconvert_exporter": "python",
   "pygments_lexer": "ipython2",
   "version": "2.7.6"
  }
 },
 "nbformat": 4,
 "nbformat_minor": 0
}
